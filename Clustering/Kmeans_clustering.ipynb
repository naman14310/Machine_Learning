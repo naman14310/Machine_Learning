{
  "nbformat": 4,
  "nbformat_minor": 0,
  "metadata": {
    "accelerator": "TPU",
    "colab": {
      "name": "Kmeans_clustering.ipynb",
      "provenance": [],
      "collapsed_sections": []
    },
    "kernelspec": {
      "display_name": "Python 3",
      "name": "python3"
    }
  },
  "cells": [
    {
      "cell_type": "markdown",
      "metadata": {
        "id": "vpWQigP0msj9"
      },
      "source": [
        "**Part 1:** \n",
        "\n",
        "Use the **Fashion-MNIST** dataset for this question.\n",
        "\n",
        "1) Load the dataset and perform splitting into training and validation sets with 70:30 ratio.\n",
        "\n",
        "> Do we need to normalise data? [If so Does it make any difference?]\n",
        "\n",
        "2) Implement the K Means algorithm. You need to find the optimal number of clusters using the\n",
        "\n",
        "\n",
        "    elbow method and silhouette method. \n",
        "\n",
        "3) Define the initial clusters’ centroids using:</br>\n",
        "> i) Forgy</br>\n",
        "\n",
        "> ii) Random Partition\n",
        "\n",
        "4) Experiment with different distance measures[Euclidean distance, Manhattan distance].\n",
        "\n",
        "5) Plot the error vs number of clusters graph while using the elbow method and silhouette \n",
        "    method. Report the optimal number of clusters found.\n",
        "\n",
        "6) Report the training and the validation accuracy and Compare your trained model with a model trained by the scikit-learn\n",
        "\n",
        "7) Visualize the dataset to depict the clusters formed. #Prefer T-SNE\n",
        "\n",
        "8) Implement K-means++, and repeat task 1 to task 7 again.</br>\n",
        "</br>\n",
        "</br>\n",
        "**Part 2:**\n",
        "</br>\n",
        "In this task, you will perform operations on `[data.csv](https://drive.google.com/file/d/15NPkfXFoTkiRBlcI4ffe_Lp_BFOyf8UY/view?usp=sharing)`, data.csv is a  latent space representation of  Fashion-MNIST, before doing this task please read about latent space representation.\n",
        "\n",
        "9) Load the data.csv file and apply Kmeans and Kmeans++, You need to find the optimal number of clusters using the elbow method and silhouette method.\n",
        "\n",
        "10) Visualize the dataset to depict the clusters formed. # Prefer T-SNE\n",
        "\n",
        "11) From these experiments(Part 1 and Part 2), compare accuracy or error, and report which one is better and why?\n",
        "</br>\n",
        "</br>\n",
        "**Note:** If the model takes a lot of time to train you can use MiniBatchKMeans.\n",
        " \n",
        "\n",
        "\n"
      ]
    },
    {
      "cell_type": "markdown",
      "metadata": {
        "id": "ASGGDh756MLw"
      },
      "source": [
        "# PART : 1"
      ]
    },
    {
      "cell_type": "markdown",
      "metadata": {
        "id": "Mf86X_HPtLoJ"
      },
      "source": [
        "## Importing Dependencies"
      ]
    },
    {
      "cell_type": "code",
      "metadata": {
        "id": "OL-AZtfA3cf9"
      },
      "source": [
        "import numpy as np\n",
        "import pandas as pd\n",
        "from sklearn.model_selection import train_test_split\n",
        "import matplotlib.pyplot as plt\n",
        "import pickle as pkl\n",
        "import random \n",
        "from sklearn.metrics.cluster import homogeneity_score\n",
        "from sklearn.cluster import KMeans\n",
        "import sys \n",
        "from sklearn.preprocessing import LabelEncoder\n",
        "from sklearn.manifold import TSNE"
      ],
      "execution_count": null,
      "outputs": []
    },
    {
      "cell_type": "code",
      "metadata": {
        "id": "JMskJdeTHd1T"
      },
      "source": [
        "#---------------------------------------- UTILITIES ----------------------------------------#\n",
        "\n",
        "def save_to_pickle(arr, filename):\n",
        "    with open(filename,'wb') as f:\n",
        "        pkl.dump(arr, f)\n",
        "     \n",
        "def load_from_pickle(filename):\n",
        "    arr = []\n",
        "    with open(filename,'rb') as f:\n",
        "        arr = pkl.load(f)\n",
        "    return arr"
      ],
      "execution_count": null,
      "outputs": []
    },
    {
      "cell_type": "markdown",
      "metadata": {
        "id": "e3E3TfCDtR0t"
      },
      "source": [
        "## Data Splitting\n",
        "\n",
        "#### Note : No need to Normalize data as all pixel values falls in same range"
      ]
    },
    {
      "cell_type": "code",
      "metadata": {
        "id": "pREJrwHT3tVt"
      },
      "source": [
        "from keras.datasets import fashion_mnist\n",
        "(trainX, trainy), (testX, testy) = fashion_mnist.load_data()\n",
        "\n",
        "x = []\n",
        "for row in trainX:\n",
        "    temp = row.flatten()\n",
        "    x.append(temp)\n",
        "trainX = np.array(x)\n",
        "\n",
        "x = []\n",
        "for row in testX:\n",
        "    temp = row.flatten()\n",
        "    x.append(temp)\n",
        "testX = np.array(x)"
      ],
      "execution_count": null,
      "outputs": []
    },
    {
      "cell_type": "code",
      "metadata": {
        "colab": {
          "base_uri": "https://localhost:8080/"
        },
        "id": "2RqcjhZ74C0T",
        "outputId": "f6b4800f-5c7c-4d5b-e479-3ab3f80485a2"
      },
      "source": [
        "X_train, X_validation, y_train, y_validation = train_test_split(trainX, trainy, test_size = 0.3, random_state = 55)\n",
        "\n",
        "print(X_train.shape)\n",
        "print(y_train.shape)\n",
        "print(X_validation.shape)\n",
        "print(y_validation.shape)\n"
      ],
      "execution_count": null,
      "outputs": [
        {
          "output_type": "stream",
          "text": [
            "(42000, 784)\n",
            "(42000,)\n",
            "(18000, 784)\n",
            "(18000,)\n"
          ],
          "name": "stdout"
        }
      ]
    },
    {
      "cell_type": "code",
      "metadata": {
        "id": "oMRvDBgJuIio"
      },
      "source": [
        "def euclidean(a, b):\n",
        "    return np.sum(np.square(a - b))\n",
        "\n",
        "def manhattan(a, b):\n",
        "    return np.sum(np.abs(a - b))"
      ],
      "execution_count": null,
      "outputs": []
    },
    {
      "cell_type": "markdown",
      "metadata": {
        "id": "dPVakxwrt-Oj"
      },
      "source": [
        "## Implementation of Kmeans Algorithm"
      ]
    },
    {
      "cell_type": "code",
      "metadata": {
        "id": "zfDhrJZa5s1S"
      },
      "source": [
        "def kmeans(k, X, init_method, distance_metric):\n",
        "\n",
        "    centroids = []\n",
        "    clusters = []\n",
        "\n",
        "    if init_method == \"forgy\":\n",
        "        centroids = forgy_init(X, k)\n",
        "    elif init_method == \"random_partition\":\n",
        "        centroids = random_partition(X, k)\n",
        "    else:\n",
        "        centroids = kmeans_plus_plus(X, k, distance_metric)\n",
        "    \n",
        "    for itr in range(10):\n",
        "        clusters = []\n",
        "        for x in X:\n",
        "            dist = []\n",
        "            for cent in centroids:\n",
        "                if distance_metric==\"euclidean\":\n",
        "                    dist.append(euclidean(cent, x))\n",
        "                else:\n",
        "                    dist.append(manhattan(cent, x))\n",
        "            clusters.append(np.argmin(dist))\n",
        "\n",
        "        temp = []\n",
        "        tempdf = pd.concat([pd.DataFrame(X), pd.DataFrame(clusters, columns=['cluster'])], axis=1)\n",
        "        for c in set(tempdf['cluster']):\n",
        "            row = tempdf['cluster']\n",
        "            col = tempdf.columns[:-1]\n",
        "            clr = tempdf[row==c][col]\n",
        "            temp.append(clr.mean(axis=0))\n",
        "\n",
        "        centroids = temp\n",
        "\n",
        "    return centroids, clusters\n",
        "\n",
        "\n",
        "def kmeans2(k, X, init_method, distance_metric):\n",
        "\n",
        "    centroids = []\n",
        "    clusters = []\n",
        "    clusters2 = []\n",
        "\n",
        "    if init_method == \"forgy\":\n",
        "        centroids = forgy_init(X, k)\n",
        "    elif init_method == \"random_partition\":\n",
        "        centroids = random_partition(X, k)\n",
        "    else:\n",
        "        centroids = kmeans_plus_plus(X, k, distance_metric)\n",
        "    \n",
        "    for itr in range(10):\n",
        "        clusters = []\n",
        "        clusters2 = []\n",
        "        for x in X:\n",
        "            dist = []\n",
        "            for cent in centroids:\n",
        "                if distance_metric==\"euclidean\":\n",
        "                    dist.append(euclidean(cent, x))\n",
        "                else:\n",
        "                    dist.append(manhattan(cent, x))\n",
        "            clusters.append(np.argmin(dist))\n",
        "            clusters2.append(dist.index(sorted(dist)[1]))\n",
        "\n",
        "        temp = []\n",
        "        tempdf = pd.concat([pd.DataFrame(X), pd.DataFrame(clusters, columns=['cluster'])], axis=1)\n",
        "        for c in set(tempdf['cluster']):\n",
        "            row = tempdf['cluster']\n",
        "            col = tempdf.columns[:-1]\n",
        "            clr = tempdf[row==c][col]\n",
        "            temp.append(clr.mean(axis=0))\n",
        "\n",
        "        centroids = temp\n",
        "\n",
        "    return centroids, clusters, clusters2"
      ],
      "execution_count": null,
      "outputs": []
    },
    {
      "cell_type": "markdown",
      "metadata": {
        "id": "qMxoXG_mwmZl"
      },
      "source": [
        "## Forgy and Random Partioning"
      ]
    },
    {
      "cell_type": "code",
      "metadata": {
        "id": "P4tMe4xU0KrT"
      },
      "source": [
        "def forgy_init(X, k):\n",
        "    centroid = []\n",
        "    for i in range(k):\n",
        "        r = random.randint(0, len(X))\n",
        "        centroid.append(X[r])\n",
        "    return centroid\n",
        "\n",
        "\n",
        "def random_partition(X, k):\n",
        "    random_clusters = []\n",
        "    temp = []\n",
        "\n",
        "    for i in range(len(X)):\n",
        "        r = random.randint(0, k)\n",
        "        random_clusters.append(r)\n",
        "    random_clusters = np.array(random_clusters)\n",
        "\n",
        "    for c in range(0, k):\n",
        "        temp.append(X[random_clusters == c].mean(axis=0))\n",
        "\n",
        "    centroid = np.concatenate([v[ None, :] for v in temp], axis = 0)\n",
        "    return centroid"
      ],
      "execution_count": null,
      "outputs": []
    },
    {
      "cell_type": "markdown",
      "metadata": {
        "id": "q1Sc6TSQwt5B"
      },
      "source": [
        "## Kmeans ++ Algo"
      ]
    },
    {
      "cell_type": "code",
      "metadata": {
        "id": "lDtcxmllZ7WK"
      },
      "source": [
        "def kmeans_plus_plus(X, k, distance_metric):\n",
        "    centroids = []\n",
        "    r = random.randint(0, len(X))\n",
        "    centroids.append(X[r])\n",
        "\n",
        "    itr = 1 \n",
        "    while (itr<k): \n",
        "        distances = [] \n",
        "\n",
        "        for row in X: \n",
        "            temp = sys.maxsize \n",
        "            \n",
        "            j=0\n",
        "            while (j<len(centroids)):\n",
        "                temp = min(manhattan(row, centroids[j]), temp)\n",
        "                if distance_metric==\"euclidean\":\n",
        "                    temp = min(euclidean(row, centroids[j]), temp)\n",
        "                j+=1 \n",
        "\n",
        "            distances.append(temp) \n",
        "              \n",
        "        centroids.append(X[np.argmax(np.array(distances) ), :]) \n",
        "        itr+=1 \n",
        "\n",
        "    return centroids "
      ],
      "execution_count": null,
      "outputs": []
    },
    {
      "cell_type": "markdown",
      "metadata": {
        "id": "kyREJphVw49G"
      },
      "source": [
        "## Elbow Function"
      ]
    },
    {
      "cell_type": "code",
      "metadata": {
        "id": "pXJGfpp4MHei"
      },
      "source": [
        "def compute_elbow_cost(X, y, k, algo, distance_metric):\n",
        "    cent, clusters = kmeans(k, X, algo, distance_metric)\n",
        "    print(\"K =\",k, end=\" -> \")\n",
        "    print(homogeneity_score(y, clusters))\n",
        "    cost = 0\n",
        "    for i in range(len(X)):\n",
        "        temp = manhattan(X[i], cent[clusters[i]])\n",
        "        if distance_metric==\"euclidean\":\n",
        "            temp = euclidean(X[i], cent[clusters[i]])\n",
        "        elif distance_metric==\"k++\":\n",
        "            temp = euclidean(X[i], cent[clusters[i]])\n",
        "        cost+=temp\n",
        "    return cost\n",
        "\n",
        "\n",
        "def elbow(algo, distance_metric):\n",
        "    costs = []\n",
        "    print(\"Homogenity Score\")\n",
        "    print(\"----------------\\n\")\n",
        "    for k in range(1,21):\n",
        "        costs.append(compute_elbow_cost(X_validation, y_validation, k, algo, distance_metric))\n",
        "    return costs\n",
        "\n",
        "\n",
        "def plot_elbow(costs):\n",
        "    K = []\n",
        "    for i in range(0,20):\n",
        "        K.append(i+1)\n",
        "    plt.plot(K, costs, color ='blue')\n",
        "    plt.grid()\n",
        "    plt.title(\"K vs kmeans cost\")\n",
        "    plt.xlabel(\"K\")\n",
        "    plt.ylabel(\"kmeans cost\")\n"
      ],
      "execution_count": null,
      "outputs": []
    },
    {
      "cell_type": "markdown",
      "metadata": {
        "id": "v7MftkJJVS5X"
      },
      "source": [
        "## Silhoutte Function"
      ]
    },
    {
      "cell_type": "code",
      "metadata": {
        "id": "dsA_fgsTVwf3"
      },
      "source": [
        "def compute_silhoutte_cost(X, y, k, algo, distance_metric):\n",
        "    cent, clusters1, clusters2 = kmeans2(k, X, algo, distance_metric)\n",
        "    #print(len(clusters1))\n",
        "    #print(len(clusters2))\n",
        "    cost = []\n",
        "    for i in range(X.shape[0]):\n",
        "        \n",
        "        lbl = clusters1[i]\n",
        "        alist = []\n",
        "        for j in range(len(clusters1)):\n",
        "\n",
        "            if (clusters1[j]==lbl):\n",
        "                dist = manhattan(X[i], X[j])\n",
        "                if distance_metric==\"euclidean\":\n",
        "                    dist = euclidean(X[i], X[j])\n",
        "                alist.append(dist)\n",
        "        a = sum(alist)/len(alist)\n",
        "\n",
        "        lbl = clusters2[i]\n",
        "        blist = []\n",
        "        for j in range(len(clusters2)):\n",
        "\n",
        "            if (clusters1[j]==lbl):\n",
        "                dist = manhattan(X[i], X[j])\n",
        "                if distance_metric==\"euclidean\":\n",
        "                    dist = euclidean(X[i], X[j])\n",
        "                blist.append(dist)\n",
        "        b = sum(blist)/len(blist)\n",
        "\n",
        "        sil = (b-a)/max(b,a)\n",
        "\n",
        "        cost.append(sil)\n",
        "    \n",
        "    return sum(cost)/len(cost)\n",
        "\n",
        "\n",
        "def silhoute(algo, distance_metric):\n",
        "    costs = []\n",
        "    for k in range(2,21):\n",
        "        costs.append(compute_silhoutte_cost(X_validation, y_validation, k, algo, distance_metric))\n",
        "    return costs\n",
        "\n",
        "\n",
        "def plot_silhoute(costs):\n",
        "    K = []\n",
        "    for i in range(1,20):\n",
        "        K.append(i+1)\n",
        "    plt.plot(K, costs, color ='blue')\n",
        "    plt.grid()\n",
        "    plt.title(\"K vs silhoute cost\")\n",
        "    plt.xlabel(\"K\")\n",
        "    plt.ylabel(\"silhoute cost\")"
      ],
      "execution_count": null,
      "outputs": []
    },
    {
      "cell_type": "markdown",
      "metadata": {
        "id": "SyoHbuTjz2py"
      },
      "source": [
        "## Graph with Forgy initialization"
      ]
    },
    {
      "cell_type": "markdown",
      "metadata": {
        "id": "3atdDFeW1VSL"
      },
      "source": [
        "1. With euclidean distance"
      ]
    },
    {
      "cell_type": "code",
      "metadata": {
        "colab": {
          "base_uri": "https://localhost:8080/",
          "height": 295
        },
        "id": "yY8uMDe9quTE",
        "outputId": "34bced66-7bd8-4a62-d00e-6dfcd23e20e7"
      },
      "source": [
        "#costs = elbow(\"forgy\", \"euclidean\")\n",
        "#print(costs)\n",
        "#costs = np.array(costs)\n",
        "#save_to_pickle(costs, \"forgy_euclidean.pkl\")\n",
        "costs = load_from_pickle(\"forgy_euclidean.pkl\")\n",
        "plot_elbow(costs)"
      ],
      "execution_count": null,
      "outputs": [
        {
          "output_type": "display_data",
          "data": {
            "image/png": "[encoded data removed]",
            "text/plain": [
              "<Figure size 432x288 with 1 Axes>"
            ]
          },
          "metadata": {
            "tags": [],
            "needs_background": "light"
          }
        }
      ]
    },
    {
      "cell_type": "code",
      "metadata": {
        "colab": {
          "base_uri": "https://localhost:8080/",
          "height": 295
        },
        "id": "iD6uMkNIfmGP",
        "outputId": "b5e4213d-8a9d-4ba2-ba00-609fa0284107"
      },
      "source": [
        "#costs = silhoute(\"forgy\", \"euclidean\")\n",
        "#print(costs)\n",
        "#costs = np.array(costs)\n",
        "#save_to_pickle(costs, \"sforgy_euclidean.pkl\")\n",
        "costs = load_from_pickle(\"sforgy_euclidean.pkl\")\n",
        "plot_silhoute(costs)"
      ],
      "execution_count": null,
      "outputs": [
        {
          "output_type": "display_data",
          "data": {
            "image/png": "[encoded data removed]",
            "text/plain": [
              "<Figure size 432x288 with 1 Axes>"
            ]
          },
          "metadata": {
            "tags": [],
            "needs_background": "light"
          }
        }
      ]
    },
    {
      "cell_type": "markdown",
      "metadata": {
        "id": "2W0ewFDd1ZTc"
      },
      "source": [
        "2. With manhattan distance"
      ]
    },
    {
      "cell_type": "code",
      "metadata": {
        "colab": {
          "base_uri": "https://localhost:8080/",
          "height": 295
        },
        "id": "8eXr3Cny1eQq",
        "outputId": "672aae11-aabe-4324-f750-31d866184978"
      },
      "source": [
        "#costs = elbow(\"forgy\", \"manhattan\")\n",
        "#print(costs)\n",
        "#costs = np.array(costs)\n",
        "#save_to_pickle(costs, \"forgy_manhattan.pkl\")\n",
        "costs = load_from_pickle(\"forgy_manhattan.pkl\")\n",
        "plot_elbow(costs)"
      ],
      "execution_count": null,
      "outputs": [
        {
          "output_type": "display_data",
          "data": {
            "image/png": "[encoded data removed]",
            "text/plain": [
              "<Figure size 432x288 with 1 Axes>"
            ]
          },
          "metadata": {
            "tags": [],
            "needs_background": "light"
          }
        }
      ]
    },
    {
      "cell_type": "code",
      "metadata": {
        "colab": {
          "base_uri": "https://localhost:8080/",
          "height": 295
        },
        "id": "qYfLTB1XjTo-",
        "outputId": "e4336834-e72f-4d34-be3e-201619316564"
      },
      "source": [
        "#costs = silhoute(\"forgy\", \"manhattan\")\n",
        "#print(costs)\n",
        "#costs = np.array(costs)\n",
        "#save_to_pickle(costs, \"sforgy_manhattan.pkl\")\n",
        "costs = load_from_pickle(\"sforgy_manhattan.pkl\")\n",
        "plot_silhoute(costs)"
      ],
      "execution_count": null,
      "outputs": [
        {
          "output_type": "display_data",
          "data": {
            "image/png": "[encoded data removed]",
            "text/plain": [
              "<Figure size 432x288 with 1 Axes>"
            ]
          },
          "metadata": {
            "tags": [],
            "needs_background": "light"
          }
        }
      ]
    },
    {
      "cell_type": "markdown",
      "metadata": {
        "id": "tbb8AYXd023G"
      },
      "source": [
        "## Graph with Random Partioning"
      ]
    },
    {
      "cell_type": "markdown",
      "metadata": {
        "id": "MQMQlNf51iqe"
      },
      "source": [
        "1. With euclidean distance"
      ]
    },
    {
      "cell_type": "code",
      "metadata": {
        "colab": {
          "base_uri": "https://localhost:8080/",
          "height": 295
        },
        "id": "wlxQRy2Teq9A",
        "outputId": "db4014ec-f5aa-4956-886f-5933aa65375f"
      },
      "source": [
        "#costs = elbow(\"random_partition\", \"euclidean\")\n",
        "#print(costs)\n",
        "#costs = np.array(costs)\n",
        "#save_to_pickle(costs, \"random_euclidean.pkl\")\n",
        "costs = load_from_pickle(\"random_euclidean.pkl\")\n",
        "plot_elbow(costs)"
      ],
      "execution_count": null,
      "outputs": [
        {
          "output_type": "display_data",
          "data": {
            "image/png": "[encoded data removed]",
            "text/plain": [
              "<Figure size 432x288 with 1 Axes>"
            ]
          },
          "metadata": {
            "tags": [],
            "needs_background": "light"
          }
        }
      ]
    },
    {
      "cell_type": "code",
      "metadata": {
        "colab": {
          "base_uri": "https://localhost:8080/",
          "height": 295
        },
        "id": "Atghay3ujqZd",
        "outputId": "df5243d4-aa3b-4ddb-9480-df7f696d77e1"
      },
      "source": [
        "#costs = silhoute(\"random_partition\", \"manhattan\")\n",
        "#print(costs)\n",
        "#costs = np.array(costs)\n",
        "#save_to_pickle(costs, \"srandom_euclidean.pkl\")\n",
        "costs = load_from_pickle(\"srandom_euclidean.pkl\")\n",
        "plot_silhoute(costs)"
      ],
      "execution_count": null,
      "outputs": [
        {
          "output_type": "display_data",
          "data": {
            "image/png": "[encoded data removed]",
            "text/plain": [
              "<Figure size 432x288 with 1 Axes>"
            ]
          },
          "metadata": {
            "tags": [],
            "needs_background": "light"
          }
        }
      ]
    },
    {
      "cell_type": "markdown",
      "metadata": {
        "id": "1lECCTSS1nLe"
      },
      "source": [
        "2. With manhattan distance"
      ]
    },
    {
      "cell_type": "code",
      "metadata": {
        "colab": {
          "base_uri": "https://localhost:8080/",
          "height": 295
        },
        "id": "8ri7HkfCcYDJ",
        "outputId": "da807fe4-010b-40e4-df63-ca3133398a86"
      },
      "source": [
        "#costs = elbow(\"random_partition\", \"manhattan\")\n",
        "#print(costs)\n",
        "#costs = np.array(costs)\n",
        "#save_to_pickle(costs, \"random_manhattan.pkl\")\n",
        "costs = load_from_pickle(\"random_manhattan.pkl\")\n",
        "plot_elbow(costs)"
      ],
      "execution_count": null,
      "outputs": [
        {
          "output_type": "display_data",
          "data": {
            "image/png": "[encoded data removed]",
            "text/plain": [
              "<Figure size 432x288 with 1 Axes>"
            ]
          },
          "metadata": {
            "tags": [],
            "needs_background": "light"
          }
        }
      ]
    },
    {
      "cell_type": "code",
      "metadata": {
        "colab": {
          "base_uri": "https://localhost:8080/",
          "height": 295
        },
        "id": "OTe5qVa6jyOB",
        "outputId": "966eeb48-7157-46cb-8428-41aa9e84fbde"
      },
      "source": [
        "#costs = silhoute(\"random_partition\", \"manhattan\")\n",
        "#print(costs)\n",
        "#costs = np.array(costs)\n",
        "#save_to_pickle(costs, \"srandom_manhattan.pkl\")\n",
        "costs = load_from_pickle(\"srandom_manhattan.pkl\")\n",
        "plot_silhoute(costs)"
      ],
      "execution_count": null,
      "outputs": [
        {
          "output_type": "display_data",
          "data": {
            "image/png": "[encoded data removed]",
            "text/plain": [
              "<Figure size 432x288 with 1 Axes>"
            ]
          },
          "metadata": {
            "tags": [],
            "needs_background": "light"
          }
        }
      ]
    },
    {
      "cell_type": "markdown",
      "metadata": {
        "id": "Y12XKfCX7u_G"
      },
      "source": [
        "## Graph for Kmeans ++"
      ]
    },
    {
      "cell_type": "markdown",
      "metadata": {
        "id": "yyMMWoOV73F3"
      },
      "source": [
        "1. With euclidean distance"
      ]
    },
    {
      "cell_type": "code",
      "metadata": {
        "colab": {
          "base_uri": "https://localhost:8080/",
          "height": 295
        },
        "id": "tiEYVoX-7tRQ",
        "outputId": "84223ec0-365e-48c8-9218-3d6db20e44e2"
      },
      "source": [
        "#costs = elbow(\"k++\", \"euclidean\")\n",
        "#print(costs)\n",
        "#costs = np.array(costs)\n",
        "#save_to_pickle(costs, \"euclideank++.pkl\")\n",
        "costs = load_from_pickle(\"euclideank++.pkl\")\n",
        "plot_elbow(costs)"
      ],
      "execution_count": null,
      "outputs": [
        {
          "output_type": "display_data",
          "data": {
            "image/png": "[encoded data removed]",
            "text/plain": [
              "<Figure size 432x288 with 1 Axes>"
            ]
          },
          "metadata": {
            "tags": [],
            "needs_background": "light"
          }
        }
      ]
    },
    {
      "cell_type": "code",
      "metadata": {
        "colab": {
          "base_uri": "https://localhost:8080/",
          "height": 295
        },
        "id": "ysMQUUfnj7EI",
        "outputId": "36359225-f014-4e7c-eb3a-d5fab71b9e5a"
      },
      "source": [
        "#costs = silhoute(\"k++\", \"euclidean\")\n",
        "#print(costs)\n",
        "#costs = np.array(costs)\n",
        "#save_to_pickle(costs, \"seuclideank++.pkl\")\n",
        "costs = load_from_pickle(\"seuclideank++.pkl\")\n",
        "plot_silhoute(costs)"
      ],
      "execution_count": null,
      "outputs": [
        {
          "output_type": "display_data",
          "data": {
            "image/png": "[encoded data removed]",
            "text/plain": [
              "<Figure size 432x288 with 1 Axes>"
            ]
          },
          "metadata": {
            "tags": [],
            "needs_background": "light"
          }
        }
      ]
    },
    {
      "cell_type": "markdown",
      "metadata": {
        "id": "iiJ_l-zq7-2H"
      },
      "source": [
        "2. With manhattan distance"
      ]
    },
    {
      "cell_type": "code",
      "metadata": {
        "colab": {
          "base_uri": "https://localhost:8080/",
          "height": 295
        },
        "id": "93CP7wwI8B4m",
        "outputId": "702ff9ed-5d00-45f0-e9a7-f19c32553fbe"
      },
      "source": [
        "#costs = elbow(\"k++\", \"manhattan\")\n",
        "#print(costs)\n",
        "#costs = np.array(costs)\n",
        "#save_to_pickle(costs, \"manhattank++.pkl\")\n",
        "costs = load_from_pickle(\"manhattank++.pkl\")\n",
        "plot_elbow(costs)"
      ],
      "execution_count": null,
      "outputs": [
        {
          "output_type": "display_data",
          "data": {
            "image/png": "[encoded data removed]",
            "text/plain": [
              "<Figure size 432x288 with 1 Axes>"
            ]
          },
          "metadata": {
            "tags": [],
            "needs_background": "light"
          }
        }
      ]
    },
    {
      "cell_type": "code",
      "metadata": {
        "colab": {
          "base_uri": "https://localhost:8080/",
          "height": 295
        },
        "id": "L-9duzzTkJp5",
        "outputId": "d28aa1f9-6079-4078-feba-5a758ceea0d4"
      },
      "source": [
        "#costs = silhoute(\"k++\", \"manhattan\")\n",
        "#print(costs)\n",
        "#costs = np.array(costs)\n",
        "#save_to_pickle(costs, \"smanhattank++.pkl\")\n",
        "costs = load_from_pickle(\"smanhattank++.pkl\")\n",
        "plot_silhoute(costs)"
      ],
      "execution_count": null,
      "outputs": [
        {
          "output_type": "display_data",
          "data": {
            "image/png": "[encoded data removed]",
            "text/plain": [
              "<Figure size 432x288 with 1 Axes>"
            ]
          },
          "metadata": {
            "tags": [],
            "needs_background": "light"
          }
        }
      ]
    },
    {
      "cell_type": "markdown",
      "metadata": {
        "id": "eHOR0ZAsJIaY"
      },
      "source": [
        "### **INFERENCE** : K = 10 is optimal"
      ]
    },
    {
      "cell_type": "markdown",
      "metadata": {
        "id": "3JtgCCjtODGQ"
      },
      "source": [
        "## Creating clusters on training data"
      ]
    },
    {
      "cell_type": "code",
      "metadata": {
        "colab": {
          "base_uri": "https://localhost:8080/"
        },
        "id": "dfMyGXY0LM_M",
        "outputId": "9479b2a3-fbc9-4214-819a-881bf92ee8d3"
      },
      "source": [
        "optimalK = 10\n",
        "\n",
        "def fit(X, k, algo, distance_metric):\n",
        "    cent, clusters = kmeans(k, X, algo, distance_metric)\n",
        "    cent = np.array(cent)\n",
        "    clusters = np.array(clusters)\n",
        "    return cent, clusters\n",
        "\n",
        "\n",
        "def get_accuracy_score(y, clusters):\n",
        "    return (homogeneity_score(y, clusters))\n",
        "\n",
        "\n",
        "#kmeans_centroids, kmeans_clusters = fit(X_train, optimalK, \"random_partition\", \"euclidean\")\n",
        "#save_to_pickle(kmeans_centroids, \"kmeans_centroids.pkl\")\n",
        "#save_to_pickle(kmeans_clusters, \"kmeans_clusters.pkl\")\n",
        "kmeans_centroids = load_from_pickle(\"kmeans_centroids.pkl\")\n",
        "kmeans_clusters = load_from_pickle(\"kmeans_clusters.pkl\")\n",
        "\n",
        "print(\"Homogenity score for kmeans\")\n",
        "print(\"---------------------------\\n\")\n",
        "print(get_accuracy_score(y_train, kmeans_clusters))\n",
        "\n",
        "#kplus_centroids, kplus_clusters = fit(X_train, optimalK, \"k++\", \"euclidean\")\n",
        "#save_to_pickle(kplus_centroids, \"k++_centroids.pkl\")\n",
        "#save_to_pickle(kplus_clusters, \"k++_clusters.pkl\")\n",
        "kplus_centroids = load_from_pickle(\"k++_centroids.pkl\")\n",
        "kplus_clusters = load_from_pickle(\"k++_clusters.pkl\")\n",
        "\n",
        "print(\"\\n\\nHomogenity score for kmeans++\")\n",
        "print(\"-----------------------------\\n\")\n",
        "print(get_accuracy_score(y_train, kplus_clusters))"
      ],
      "execution_count": null,
      "outputs": [
        {
          "output_type": "stream",
          "text": [
            "Homogenity score for kmeans\n",
            "---------------------------\n",
            "\n",
            "0.5297896110187651\n",
            "\n",
            "\n",
            "Homogenity score for kmeans++\n",
            "-----------------------------\n",
            "\n",
            "0.5227985932572002\n"
          ],
          "name": "stdout"
        }
      ]
    },
    {
      "cell_type": "markdown",
      "metadata": {
        "id": "q9jnH1vZtGnM"
      },
      "source": [
        "## K means using Sklearn"
      ]
    },
    {
      "cell_type": "code",
      "metadata": {
        "colab": {
          "base_uri": "https://localhost:8080/"
        },
        "id": "dTtYCHGMhICK",
        "outputId": "037ecbcf-094d-4471-e03b-5cedd02d030d"
      },
      "source": [
        "#kmeans = KMeans(n_clusters = 10, random_state = 55).fit(X_train)\n",
        "print(\"Homogenity score for kmeans using sklearn\")\n",
        "print(\"---------------------------------------------\\n\")\n",
        "#save_to_pickle(kmeans.labels_, \"sklearn_labels.pkl\")\n",
        "sklearn_labels = load_from_pickle(\"sklearn_labels.pkl\")\n",
        "print(get_accuracy_score(y_train, sklearn_labels))"
      ],
      "execution_count": null,
      "outputs": [
        {
          "output_type": "stream",
          "text": [
            "Homogenity score for kmeans using sklearn\n",
            "---------------------------------------------\n",
            "\n",
            "0.5468278842357124\n"
          ],
          "name": "stdout"
        }
      ]
    },
    {
      "cell_type": "code",
      "metadata": {
        "id": "32x9M36qq2fO"
      },
      "source": [
        "#implement silhouette method from scratch\n",
        "def silhouette():\n",
        "    print(\"None\")\n"
      ],
      "execution_count": null,
      "outputs": []
    },
    {
      "cell_type": "markdown",
      "metadata": {
        "id": "kROq5LlM5_hq"
      },
      "source": [
        "\n",
        "\n",
        "---\n",
        "\n"
      ]
    },
    {
      "cell_type": "markdown",
      "metadata": {
        "id": "2dNeglvf6ECJ"
      },
      "source": [
        "# PART : 2 "
      ]
    },
    {
      "cell_type": "code",
      "metadata": {
        "colab": {
          "base_uri": "https://localhost:8080/"
        },
        "id": "6j7nYmipmrC6",
        "outputId": "8d7217e1-1acb-47a5-ee6b-de047a4fc729"
      },
      "source": [
        "from google.colab import drive\n",
        "drive.mount('/content/drive')"
      ],
      "execution_count": null,
      "outputs": [
        {
          "output_type": "stream",
          "text": [
            "Mounted at /content/drive\n"
          ],
          "name": "stdout"
        }
      ]
    },
    {
      "cell_type": "markdown",
      "metadata": {
        "id": "rEwZRNQiJXbZ"
      },
      "source": [
        "## Label encoding and data representation"
      ]
    },
    {
      "cell_type": "code",
      "metadata": {
        "colab": {
          "base_uri": "https://localhost:8080/"
        },
        "id": "eJMp5TCa-GDA",
        "outputId": "b8e07322-86bd-48cb-cc15-229b7ffa0c2d"
      },
      "source": [
        "df = pd.read_csv(\"/content/drive/MyDrive/data.csv\")\n",
        "x = df.iloc[:,1:-2]\n",
        "y = df.iloc[:,-1:]\n",
        "\n",
        "le=LabelEncoder()\n",
        "y = le.fit_transform(y)\n",
        "\n",
        "x2 = np.array(x)\n",
        "y2 = np.array(y)\n",
        "\n",
        "print(x.shape)\n",
        "print(y.shape)"
      ],
      "execution_count": null,
      "outputs": [
        {
          "output_type": "stream",
          "text": [
            "(59999, 190)\n",
            "(59999,)\n"
          ],
          "name": "stdout"
        },
        {
          "output_type": "stream",
          "text": [
            "/usr/local/lib/python3.7/dist-packages/sklearn/preprocessing/_label.py:251: DataConversionWarning: A column-vector y was passed when a 1d array was expected. Please change the shape of y to (n_samples, ), for example using ravel().\n",
            "  y = column_or_1d(y, warn=True)\n"
          ],
          "name": "stderr"
        }
      ]
    },
    {
      "cell_type": "markdown",
      "metadata": {
        "id": "wkdOsz9jJS1F"
      },
      "source": [
        "## Train test split"
      ]
    },
    {
      "cell_type": "code",
      "metadata": {
        "colab": {
          "base_uri": "https://localhost:8080/"
        },
        "id": "Po-ek0NS-eAp",
        "outputId": "8614c590-9ad4-4c04-bc85-39c961ab0513"
      },
      "source": [
        "X_train2, X_validation2, y_train2, y_validation2 = train_test_split(x2, y2, test_size = 0.3, random_state = 55)\n",
        "\n",
        "print(X_train2.shape)\n",
        "print(y_train2.shape)\n",
        "print(X_validation2.shape)\n",
        "print(y_validation2.shape)\n",
        "\n",
        "y_train2 = np.squeeze(y_train2)\n",
        "y_validation2 = np.squeeze(y_validation2)"
      ],
      "execution_count": null,
      "outputs": [
        {
          "output_type": "stream",
          "text": [
            "(41999, 190)\n",
            "(41999,)\n",
            "(18000, 190)\n",
            "(18000,)\n"
          ],
          "name": "stdout"
        }
      ]
    },
    {
      "cell_type": "markdown",
      "metadata": {
        "id": "_CYJ78yFJe6Q"
      },
      "source": [
        "## Elbow Function"
      ]
    },
    {
      "cell_type": "code",
      "metadata": {
        "id": "dAZ9YxcFD-q_"
      },
      "source": [
        "def elbow(algo, distance_metric):\n",
        "    costs = []\n",
        "    print(\"Homogenity Score\")\n",
        "    print(\"----------------\\n\")\n",
        "    for k in range(1,21):\n",
        "        costs.append(compute_elbow_cost(X_validation2, y_validation2, k, algo, distance_metric))\n",
        "    return costs"
      ],
      "execution_count": null,
      "outputs": []
    },
    {
      "cell_type": "markdown",
      "metadata": {
        "id": "nWTCWCmcI34K"
      },
      "source": [
        "## Graph with Kmeans"
      ]
    },
    {
      "cell_type": "code",
      "metadata": {
        "colab": {
          "base_uri": "https://localhost:8080/",
          "height": 295
        },
        "id": "E67T4aFBBClk",
        "outputId": "7bdd7cf9-289d-41f9-e291-0129aebc254a"
      },
      "source": [
        "#costs = elbow(\"forgy\", \"euclidean\")\n",
        "#print(costs)\n",
        "#costs = np.array(costs)\n",
        "#save_to_pickle(costs, \"part2_kmeans.pkl\")\n",
        "costs = load_from_pickle(\"part2_kmeans.pkl\")\n",
        "plot_elbow(costs)"
      ],
      "execution_count": null,
      "outputs": [
        {
          "output_type": "display_data",
          "data": {
            "image/png": "[encoded data removed]",
            "text/plain": [
              "<Figure size 432x288 with 1 Axes>"
            ]
          },
          "metadata": {
            "tags": [],
            "needs_background": "light"
          }
        }
      ]
    },
    {
      "cell_type": "markdown",
      "metadata": {
        "id": "eW3lm5vPJk5u"
      },
      "source": [
        "## Graph with Kmeans ++ "
      ]
    },
    {
      "cell_type": "code",
      "metadata": {
        "colab": {
          "base_uri": "https://localhost:8080/",
          "height": 295
        },
        "id": "5AQvpLwhJz8x",
        "outputId": "3f3a406c-cf1b-4754-98ef-821475b7a3fa"
      },
      "source": [
        "#costs = elbow(\"k++\", \"euclidean\")\n",
        "#print(costs)\n",
        "#costs = np.array(costs)\n",
        "#save_to_pickle(costs, \"part2_k++.pkl\")\n",
        "costs = load_from_pickle(\"part2_k++.pkl\")\n",
        "plot_elbow(costs)"
      ],
      "execution_count": null,
      "outputs": [
        {
          "output_type": "display_data",
          "data": {
            "image/png": "[encoded data removed]",
            "text/plain": [
              "<Figure size 432x288 with 1 Axes>"
            ]
          },
          "metadata": {
            "tags": [],
            "needs_background": "light"
          }
        }
      ]
    },
    {
      "cell_type": "markdown",
      "metadata": {
        "id": "Qxyc7mysQYL1"
      },
      "source": [
        "#### **INFERENCE** : K = 10 is optimal"
      ]
    },
    {
      "cell_type": "markdown",
      "metadata": {
        "id": "5eWL94G7Qjka"
      },
      "source": [
        "## Creating clusters on training data"
      ]
    },
    {
      "cell_type": "code",
      "metadata": {
        "colab": {
          "base_uri": "https://localhost:8080/"
        },
        "id": "Rn_V_xI5Qc0r",
        "outputId": "ca474684-b8d4-4e8d-e5fa-937e21c924b7"
      },
      "source": [
        "optimalK = 10\n",
        "\n",
        "def fit(X, k, algo, distance_metric):\n",
        "    cent, clusters = kmeans(k, X, algo, distance_metric)\n",
        "    cent = np.array(cent)\n",
        "    clusters = np.array(clusters)\n",
        "    return cent, clusters\n",
        "\n",
        "\n",
        "def get_accuracy_score(y, clusters):\n",
        "    return (homogeneity_score(y, clusters))\n",
        "\n",
        "\n",
        "#kmeans_centroids, kmeans_clusters = fit(X_train, optimalK, \"forgy\", \"euclidean\")\n",
        "#save_to_pickle(kmeans_centroids, \"part2_kmeans_centroids.pkl\")\n",
        "#save_to_pickle(kmeans_clusters, \"part2_kmeans_clusters.pkl\")\n",
        "kmeans_centroids = load_from_pickle(\"part2_kmeans_centroids.pkl\")\n",
        "kmeans_clusters = load_from_pickle(\"part2_kmeans_clusters.pkl\")\n",
        "\n",
        "print(\"Homogenity score for kmeans\")\n",
        "print(\"---------------------------\\n\")\n",
        "print(get_accuracy_score(y_train, kmeans_clusters))\n",
        "\n",
        "#kplus_centroids, kplus_clusters = fit(X_train, optimalK, \"k++\", \"euclidean\")\n",
        "#save_to_pickle(kplus_centroids, \"part2_k++_centroids.pkl\")\n",
        "#save_to_pickle(kplus_clusters, \"part2_k++_clusters.pkl\")\n",
        "kplus_centroids = load_from_pickle(\"part2_k++_centroids.pkl\")\n",
        "kplus_clusters = load_from_pickle(\"part2_k++_clusters.pkl\")\n",
        "\n",
        "print(\"\\n\\nHomogenity score for kmeans++\")\n",
        "print(\"-----------------------------\\n\")\n",
        "print(get_accuracy_score(y_train, kplus_clusters))"
      ],
      "execution_count": null,
      "outputs": [
        {
          "output_type": "stream",
          "text": [
            "Homogenity score for kmeans\n",
            "---------------------------\n",
            "\n",
            "0.49244924371463206\n",
            "\n",
            "\n",
            "Homogenity score for kmeans++\n",
            "-----------------------------\n",
            "\n",
            "0.47824374514249585\n"
          ],
          "name": "stdout"
        }
      ]
    },
    {
      "cell_type": "markdown",
      "metadata": {
        "id": "-8btsJxco6_t"
      },
      "source": [
        "## INFERENCE : Latent space representation is better because it is equaivalent to the original data with less no. of dimensions which highly decreases the training time of algorithm without affecting much accuracy."
      ]
    },
    {
      "cell_type": "code",
      "metadata": {
        "id": "kYjZJYpjpnji"
      },
      "source": [
        ""
      ],
      "execution_count": null,
      "outputs": []
    }
  ]
}