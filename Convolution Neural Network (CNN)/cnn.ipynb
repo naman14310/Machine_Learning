{
  "nbformat": 4,
  "nbformat_minor": 0,
  "metadata": {
    "colab": {
      "name": "Q1.ipynb",
      "provenance": [],
      "collapsed_sections": []
    },
    "kernelspec": {
      "name": "python3",
      "display_name": "Python 3"
    },
    "language_info": {
      "name": "python"
    },
    "accelerator": "TPU"
  },
  "cells": [
    {
      "cell_type": "markdown",
      "metadata": {
        "id": "p5AHVVfZl6n3"
      },
      "source": [
        "### Importing Dependencies\n"
      ]
    },
    {
      "cell_type": "code",
      "metadata": {
        "id": "kW90fTLKMiKu"
      },
      "source": [
        "import numpy as np\n",
        "import matplotlib.pyplot as plt\n",
        "from keras.datasets import cifar10\n",
        "from keras.utils import to_categorical\n",
        "from sklearn.model_selection import train_test_split\n",
        "from keras.models import Sequential\n",
        "from keras.layers import Dense, Dropout, Activation, Flatten, MaxPool2D, ZeroPadding2D\n",
        "from keras.layers import Conv2D, BatchNormalization\n",
        "from keras.optimizers import SGD\n",
        "from keras.models import load_model\n",
        "from keras.preprocessing.image import ImageDataGenerator\n",
        "from keras.utils.vis_utils import plot_model\n",
        "from keras.callbacks import EarlyStopping, ReduceLROnPlateau\n",
        "from keras.callbacks import ModelCheckpoint\n",
        "\n",
        "BATCH_SIZE = 64\n",
        "TRAINING_DATA = 42000\n",
        "TEST_DATA = 18000"
      ],
      "execution_count": null,
      "outputs": []
    },
    {
      "cell_type": "markdown",
      "metadata": {
        "id": "wsce-2OpmC1t"
      },
      "source": [
        "### Loading Datasets"
      ]
    },
    {
      "cell_type": "code",
      "metadata": {
        "id": "erihR4NmRIaM",
        "colab": {
          "base_uri": "https://localhost:8080/"
        },
        "outputId": "453f2722-ce42-44a6-d509-fdf0f5478d46"
      },
      "source": [
        "(x_train, y_train), (x_test, y_test) = cifar10.load_data()"
      ],
      "execution_count": null,
      "outputs": [
        {
          "output_type": "stream",
          "text": [
            "Downloading data from https://www.cs.toronto.edu/~kriz/cifar-10-python.tar.gz\n",
            "170500096/170498071 [==============================] - 4s 0us/step\n"
          ],
          "name": "stdout"
        }
      ]
    },
    {
      "cell_type": "markdown",
      "metadata": {
        "id": "s-nwx6lCmpvp"
      },
      "source": [
        "### Train Test Split"
      ]
    },
    {
      "cell_type": "code",
      "metadata": {
        "colab": {
          "base_uri": "https://localhost:8080/"
        },
        "id": "jo_aw81Ad4hE",
        "outputId": "c266f75b-8341-4290-febc-4e2613b9deba"
      },
      "source": [
        "x = np.concatenate((x_train, x_test), axis=0)\n",
        "y = np.concatenate((y_train, y_test), axis=0)\n",
        "x_train, x_test, y_train, y_test = train_test_split(x, y, test_size=0.3, random_state=55)\n",
        "print(\"Data after 70:30 split\")\n",
        "print(\"----------------------\\n\")\n",
        "print(\"X_train shape :\", x_train.shape)\n",
        "print(\"X_train shape :\", y_train.shape)\n",
        "print(\"X_train shape :\", x_test.shape)\n",
        "print(\"X_train shape :\", y_test.shape)"
      ],
      "execution_count": null,
      "outputs": [
        {
          "output_type": "stream",
          "text": [
            "Data after 70:30 split\n",
            "----------------------\n",
            "\n",
            "X_train shape : (42000, 32, 32, 3)\n",
            "X_train shape : (42000, 1)\n",
            "X_train shape : (18000, 32, 32, 3)\n",
            "X_train shape : (18000, 1)\n"
          ],
          "name": "stdout"
        }
      ]
    },
    {
      "cell_type": "markdown",
      "metadata": {
        "id": "eGvASGGFrw18"
      },
      "source": [
        "### Normalize Data"
      ]
    },
    {
      "cell_type": "code",
      "metadata": {
        "id": "UO93Zb6Nm98M"
      },
      "source": [
        "def normalize_data(x_train, x_test):\n",
        "    x_train = x_train / 255.0\n",
        "    x_test = x_test / 255.0\n",
        "    return x_train, x_test\n",
        "    \n",
        "x_train, x_test = normalize_data(x_train, x_test)"
      ],
      "execution_count": null,
      "outputs": []
    },
    {
      "cell_type": "markdown",
      "metadata": {
        "id": "B_lyOIwRr8fC"
      },
      "source": [
        "### Converting Labels to Categorical format"
      ]
    },
    {
      "cell_type": "code",
      "metadata": {
        "id": "EWuEJ5CARWts"
      },
      "source": [
        "def process_labels(y_train, y_test):\n",
        "    y_train = to_categorical(y_train)\n",
        "    y_test = to_categorical(y_test)\n",
        "    return y_train, y_test\n",
        "\n",
        "y_train, y_test = process_labels(y_train, y_test)    "
      ],
      "execution_count": null,
      "outputs": []
    },
    {
      "cell_type": "markdown",
      "metadata": {
        "id": "3XVntQImd9ev"
      },
      "source": [
        "### 1. Training Neural Net Without Batch Normalization (on Basic Architecture)"
      ]
    },
    {
      "cell_type": "code",
      "metadata": {
        "id": "GO8nAsXOeOht"
      },
      "source": [
        "model = Sequential()\n",
        "model.add(ZeroPadding2D(padding=1))\n",
        "model.add(Conv2D(64, (5,5), input_shape = (32,32,3)))\n",
        "model.add(Activation('relu'))\n",
        "model.add(MaxPool2D(pool_size = (2,2)))\n",
        "\n",
        "model.add(Flatten())\n",
        "\n",
        "model.add(Dense(64))\n",
        "model.add(Activation('relu'))\n",
        "model.add(Dropout(0.1))\n",
        "\n",
        "model.add(Dense(10))\n",
        "model.add(Activation('softmax'))\n",
        "\n",
        "model.compile(optimizer = SGD(0.1), loss = 'categorical_crossentropy', metrics=['accuracy'])\n",
        "#plot_model(model1, to_file='cifar10_2_layer_architecture.png', show_shapes=True, show_layer_names=True)"
      ],
      "execution_count": null,
      "outputs": []
    },
    {
      "cell_type": "code",
      "metadata": {
        "id": "4G7WZzBdfw2j"
      },
      "source": [
        "# Prevent over fitting we will stop the learning after 5 epochs and val_loss value not decreased\n",
        "earlystop = EarlyStopping(patience=5)\n",
        "\n",
        "# It will reduce the learning rate when accuracy is not increasing for 2 epochs\n",
        "learning_rate_reduction = ReduceLROnPlateau(monitor='val_accuracy', \n",
        "                                            patience=2, \n",
        "                                            verbose=1, \n",
        "                                            factor=0.5, \n",
        "                                            min_lr=0.00001)\n",
        "\n",
        "callbacks = [earlystop, learning_rate_reduction]"
      ],
      "execution_count": null,
      "outputs": []
    },
    {
      "cell_type": "code",
      "metadata": {
        "colab": {
          "base_uri": "https://localhost:8080/"
        },
        "id": "KB5FW4p3f4Ly",
        "outputId": "a22703a6-25fd-4069-9858-b4d2122fc395"
      },
      "source": [
        "# applying transformations to image\n",
        "train_gen = ImageDataGenerator(width_shift_range=0.1, height_shift_range=0.1, horizontal_flip = True)\n",
        "test_gen = ImageDataGenerator()\n",
        "\n",
        "training_set= train_gen.flow(x_train, y_train, batch_size = 64)\n",
        "test_set= train_gen.flow(x_test, y_test, batch_size = 64) \n",
        "\n",
        "history = model.fit_generator(training_set, \n",
        "                         steps_per_epoch = TRAINING_DATA//BATCH_SIZE,\n",
        "                         callbacks=callbacks, \n",
        "                         validation_data = test_set, \n",
        "                         validation_steps = TEST_DATA//BATCH_SIZE, \n",
        "                         epochs = 20)\n",
        "model.save('modelBasic.h5')"
      ],
      "execution_count": null,
      "outputs": [
        {
          "output_type": "stream",
          "text": [
            "/usr/local/lib/python3.7/dist-packages/tensorflow/python/keras/engine/training.py:1844: UserWarning: `Model.fit_generator` is deprecated and will be removed in a future version. Please use `Model.fit`, which supports generators.\n",
            "  warnings.warn('`Model.fit_generator` is deprecated and '\n"
          ],
          "name": "stderr"
        },
        {
          "output_type": "stream",
          "text": [
            "Epoch 1/20\n",
            "656/656 [==============================] - 82s 124ms/step - loss: 2.1098 - accuracy: 0.2208 - val_loss: 1.5429 - val_accuracy: 0.4464\n",
            "Epoch 2/20\n",
            "656/656 [==============================] - 80s 122ms/step - loss: 1.5819 - accuracy: 0.4332 - val_loss: 1.4255 - val_accuracy: 0.4882\n",
            "Epoch 3/20\n",
            "656/656 [==============================] - 79s 120ms/step - loss: 1.4410 - accuracy: 0.4836 - val_loss: 1.4507 - val_accuracy: 0.4813\n",
            "Epoch 4/20\n",
            "656/656 [==============================] - 80s 122ms/step - loss: 1.3752 - accuracy: 0.5086 - val_loss: 1.3272 - val_accuracy: 0.5246\n",
            "Epoch 5/20\n",
            "656/656 [==============================] - 80s 122ms/step - loss: 1.3217 - accuracy: 0.5282 - val_loss: 1.2367 - val_accuracy: 0.5619\n",
            "Epoch 6/20\n",
            "656/656 [==============================] - 80s 121ms/step - loss: 1.2758 - accuracy: 0.5464 - val_loss: 1.2348 - val_accuracy: 0.5576\n",
            "Epoch 7/20\n",
            "656/656 [==============================] - 79s 121ms/step - loss: 1.2483 - accuracy: 0.5584 - val_loss: 1.2100 - val_accuracy: 0.5726\n",
            "Epoch 8/20\n",
            "656/656 [==============================] - 79s 120ms/step - loss: 1.2214 - accuracy: 0.5653 - val_loss: 1.2157 - val_accuracy: 0.5731\n",
            "Epoch 9/20\n",
            "656/656 [==============================] - 79s 120ms/step - loss: 1.1981 - accuracy: 0.5748 - val_loss: 1.1706 - val_accuracy: 0.5871\n",
            "Epoch 10/20\n",
            "656/656 [==============================] - 78s 120ms/step - loss: 1.1784 - accuracy: 0.5806 - val_loss: 1.1886 - val_accuracy: 0.5830\n",
            "Epoch 11/20\n",
            "656/656 [==============================] - 79s 120ms/step - loss: 1.1534 - accuracy: 0.5941 - val_loss: 1.1736 - val_accuracy: 0.5884\n",
            "Epoch 12/20\n",
            "656/656 [==============================] - 79s 120ms/step - loss: 1.1446 - accuracy: 0.5969 - val_loss: 1.1230 - val_accuracy: 0.6048\n",
            "Epoch 13/20\n",
            "656/656 [==============================] - 79s 120ms/step - loss: 1.1054 - accuracy: 0.6105 - val_loss: 1.0766 - val_accuracy: 0.6223\n",
            "Epoch 14/20\n",
            "656/656 [==============================] - 78s 120ms/step - loss: 1.0898 - accuracy: 0.6154 - val_loss: 1.0917 - val_accuracy: 0.6113\n",
            "Epoch 15/20\n",
            "656/656 [==============================] - 79s 120ms/step - loss: 1.0784 - accuracy: 0.6192 - val_loss: 1.1041 - val_accuracy: 0.6118\n",
            "\n",
            "Epoch 00015: ReduceLROnPlateau reducing learning rate to 0.05000000074505806.\n",
            "Epoch 16/20\n",
            "656/656 [==============================] - 79s 120ms/step - loss: 1.0182 - accuracy: 0.6428 - val_loss: 1.0052 - val_accuracy: 0.6480\n",
            "Epoch 17/20\n",
            "656/656 [==============================] - 79s 120ms/step - loss: 0.9889 - accuracy: 0.6523 - val_loss: 1.0168 - val_accuracy: 0.6411\n",
            "Epoch 18/20\n",
            "656/656 [==============================] - 79s 121ms/step - loss: 0.9900 - accuracy: 0.6513 - val_loss: 0.9982 - val_accuracy: 0.6489\n",
            "Epoch 19/20\n",
            "656/656 [==============================] - 79s 121ms/step - loss: 0.9741 - accuracy: 0.6540 - val_loss: 0.9995 - val_accuracy: 0.6509\n",
            "Epoch 20/20\n",
            "656/656 [==============================] - 79s 121ms/step - loss: 0.9693 - accuracy: 0.6595 - val_loss: 0.9967 - val_accuracy: 0.6510\n"
          ],
          "name": "stdout"
        }
      ]
    },
    {
      "cell_type": "markdown",
      "metadata": {
        "id": "aErwx-H0sMJv"
      },
      "source": [
        "### 2. Training Neural Net without Batch Normalization (2 Conv2D Layers)"
      ]
    },
    {
      "cell_type": "code",
      "metadata": {
        "id": "FtVNpHBbTD1b"
      },
      "source": [
        "model1 = Sequential()\n",
        "\n",
        "model1.add(Conv2D(64, (5,5), input_shape = (32,32,3)))\n",
        "model1.add(Activation('relu'))\n",
        "model1.add(MaxPool2D(pool_size = (2,2)))\n",
        "\n",
        "model1.add(Conv2D(128, (3,3)))\n",
        "model1.add(Activation('relu'))\n",
        "model1.add(MaxPool2D(pool_size = (2,2)))\n",
        "model1.add(Dropout(0.1))\n",
        "\n",
        "model1.add(Flatten())\n",
        "\n",
        "model1.add(Dense(64))\n",
        "model1.add(Activation('relu'))\n",
        "model1.add(Dropout(0.1))\n",
        "\n",
        "model1.add(Dense(10))\n",
        "model1.add(Activation('softmax'))\n",
        "\n",
        "model1.compile(optimizer = SGD(0.1), loss = 'categorical_crossentropy', metrics=['accuracy'])\n",
        "#plot_model(model1, to_file='cifar10_2_layer_architecture.png', show_shapes=True, show_layer_names=True)"
      ],
      "execution_count": null,
      "outputs": []
    },
    {
      "cell_type": "code",
      "metadata": {
        "id": "XYP-pTREhsfa"
      },
      "source": [
        "# Prevent over fitting we will stop the learning after 5 epochs and val_loss value not decreased\n",
        "earlystop = EarlyStopping(patience=5)\n",
        "\n",
        "# It will reduce the learning rate when accuracy is not increasing for 2 epochs\n",
        "learning_rate_reduction = ReduceLROnPlateau(monitor='val_accuracy', \n",
        "                                            patience=2, \n",
        "                                            verbose=1, \n",
        "                                            factor=0.5, \n",
        "                                            min_lr=0.00001)\n",
        "\n",
        "callbacks = [earlystop, learning_rate_reduction]"
      ],
      "execution_count": null,
      "outputs": []
    },
    {
      "cell_type": "code",
      "metadata": {
        "id": "7yM9Yf-qXq-i",
        "colab": {
          "base_uri": "https://localhost:8080/"
        },
        "outputId": "b8f446bf-5445-48c6-9c7d-a3b7711f0333"
      },
      "source": [
        "# applying transformations to image\n",
        "train_gen = ImageDataGenerator(width_shift_range=0.1, height_shift_range=0.1, horizontal_flip = True)\n",
        "test_gen = ImageDataGenerator()\n",
        "\n",
        "training_set= train_gen.flow(x_train, y_train, batch_size = 64)\n",
        "test_set= train_gen.flow(x_test, y_test, batch_size = 64) \n",
        "\n",
        "history = model1.fit_generator(training_set, \n",
        "                         steps_per_epoch = TRAINING_DATA//BATCH_SIZE,\n",
        "                         callbacks=callbacks, \n",
        "                         validation_data = test_set, \n",
        "                         validation_steps = TEST_DATA//BATCH_SIZE, \n",
        "                         epochs = 20)\n",
        "model1.save('modelA.h5')"
      ],
      "execution_count": null,
      "outputs": [
        {
          "output_type": "stream",
          "text": [
            "/usr/local/lib/python3.7/dist-packages/tensorflow/python/keras/engine/training.py:1844: UserWarning: `Model.fit_generator` is deprecated and will be removed in a future version. Please use `Model.fit`, which supports generators.\n",
            "  warnings.warn('`Model.fit_generator` is deprecated and '\n"
          ],
          "name": "stderr"
        },
        {
          "output_type": "stream",
          "text": [
            "Epoch 1/20\n",
            "656/656 [==============================] - 143s 217ms/step - loss: 2.0994 - accuracy: 0.2242 - val_loss: 1.5742 - val_accuracy: 0.4320\n",
            "Epoch 2/20\n",
            "656/656 [==============================] - 142s 216ms/step - loss: 1.5662 - accuracy: 0.4341 - val_loss: 1.3683 - val_accuracy: 0.5144\n",
            "Epoch 3/20\n",
            "656/656 [==============================] - 143s 218ms/step - loss: 1.3864 - accuracy: 0.5021 - val_loss: 1.2519 - val_accuracy: 0.5595\n",
            "Epoch 4/20\n",
            "656/656 [==============================] - 144s 220ms/step - loss: 1.2818 - accuracy: 0.5413 - val_loss: 1.1607 - val_accuracy: 0.5846\n",
            "Epoch 5/20\n",
            "656/656 [==============================] - 144s 219ms/step - loss: 1.2071 - accuracy: 0.5719 - val_loss: 1.1528 - val_accuracy: 0.5925\n",
            "Epoch 6/20\n",
            "656/656 [==============================] - 143s 218ms/step - loss: 1.1598 - accuracy: 0.5889 - val_loss: 1.1600 - val_accuracy: 0.5954\n",
            "Epoch 7/20\n",
            "656/656 [==============================] - 144s 219ms/step - loss: 1.1070 - accuracy: 0.6146 - val_loss: 1.0433 - val_accuracy: 0.6299\n",
            "Epoch 8/20\n",
            "656/656 [==============================] - 143s 218ms/step - loss: 1.0642 - accuracy: 0.6261 - val_loss: 1.0458 - val_accuracy: 0.6302\n",
            "Epoch 9/20\n",
            "656/656 [==============================] - 142s 217ms/step - loss: 1.0321 - accuracy: 0.6397 - val_loss: 0.9879 - val_accuracy: 0.6571\n",
            "Epoch 10/20\n",
            "656/656 [==============================] - 142s 217ms/step - loss: 0.9832 - accuracy: 0.6532 - val_loss: 1.1209 - val_accuracy: 0.6165\n",
            "Epoch 11/20\n",
            "656/656 [==============================] - 143s 218ms/step - loss: 0.9886 - accuracy: 0.6515 - val_loss: 0.9571 - val_accuracy: 0.6624\n",
            "Epoch 12/20\n",
            "656/656 [==============================] - 143s 219ms/step - loss: 0.9554 - accuracy: 0.6619 - val_loss: 0.9802 - val_accuracy: 0.6638\n",
            "Epoch 13/20\n",
            "656/656 [==============================] - 143s 219ms/step - loss: 0.9349 - accuracy: 0.6742 - val_loss: 0.9139 - val_accuracy: 0.6845\n",
            "Epoch 14/20\n",
            "656/656 [==============================] - 143s 217ms/step - loss: 0.9114 - accuracy: 0.6809 - val_loss: 0.9291 - val_accuracy: 0.6718\n",
            "Epoch 15/20\n",
            "656/656 [==============================] - 145s 221ms/step - loss: 0.8821 - accuracy: 0.6913 - val_loss: 0.8902 - val_accuracy: 0.6896\n",
            "Epoch 16/20\n",
            "656/656 [==============================] - 144s 219ms/step - loss: 0.8667 - accuracy: 0.6932 - val_loss: 0.9313 - val_accuracy: 0.6764\n",
            "Epoch 17/20\n",
            "656/656 [==============================] - 144s 219ms/step - loss: 0.8531 - accuracy: 0.7028 - val_loss: 0.8758 - val_accuracy: 0.6946\n",
            "Epoch 18/20\n",
            "656/656 [==============================] - 143s 218ms/step - loss: 0.8384 - accuracy: 0.7058 - val_loss: 0.8765 - val_accuracy: 0.6968\n",
            "Epoch 19/20\n",
            "656/656 [==============================] - 142s 217ms/step - loss: 0.8321 - accuracy: 0.7082 - val_loss: 0.8568 - val_accuracy: 0.6998\n",
            "Epoch 20/20\n",
            "656/656 [==============================] - 142s 217ms/step - loss: 0.8196 - accuracy: 0.7145 - val_loss: 0.8639 - val_accuracy: 0.6992\n"
          ],
          "name": "stdout"
        }
      ]
    },
    {
      "cell_type": "markdown",
      "metadata": {
        "id": "1VK5rkkLvu2B"
      },
      "source": [
        "### 3. Training with Batch Normalization and 2 Conv2D Layers"
      ]
    },
    {
      "cell_type": "code",
      "metadata": {
        "id": "qX73SrPPwSpL"
      },
      "source": [
        "model2 = Sequential()\n",
        "\n",
        "model2.add(Conv2D(64, (5,5), input_shape=(32,32,3)))\n",
        "model2.add(Activation('relu'))\n",
        "model2.add(MaxPool2D(pool_size = (2,2)))\n",
        "model2.add(BatchNormalization())\n",
        "model2.add(Dropout(0.1))\n",
        "\n",
        "model2.add(Conv2D(128, (3,3)))\n",
        "model2.add(Activation('relu'))\n",
        "model2.add(MaxPool2D(pool_size = (2,2)))\n",
        "model2.add(BatchNormalization())\n",
        "model2.add(Dropout(0.1))\n",
        "\n",
        "model2.add(Flatten())\n",
        "\n",
        "model2.add(Dense(64))\n",
        "model2.add(BatchNormalization())\n",
        "model2.add(Activation('relu'))\n",
        "model2.add(Dropout(0.1))\n",
        "\n",
        "model2.add(Dense(10))\n",
        "model2.add(Activation('softmax'))\n",
        "\n",
        "model2.compile(optimizer = SGD(0.1), loss = 'categorical_crossentropy', metrics=['accuracy'])\n",
        "#plot_model(model2, to_file='cifar10_2_layer_with_batchNorm_architecture.png', show_shapes=True, show_layer_names=True)"
      ],
      "execution_count": null,
      "outputs": []
    },
    {
      "cell_type": "code",
      "metadata": {
        "id": "pnbF-2HOhkFc"
      },
      "source": [
        "# To prevent over fitting we will stop the learning after 5 epochs and val_loss value not decreased\n",
        "earlystop = EarlyStopping(patience=5)\n",
        "\n",
        "# It will reduce the learning rate when accuracy is not increasing for 2 epochs\n",
        "learning_rate_reduction = ReduceLROnPlateau(monitor='val_accuracy', \n",
        "                                            patience=2, \n",
        "                                            verbose=1, \n",
        "                                            factor=0.5, \n",
        "                                            min_lr=0.00001)\n",
        "\n",
        "callbacks = [earlystop, learning_rate_reduction]"
      ],
      "execution_count": null,
      "outputs": []
    },
    {
      "cell_type": "code",
      "metadata": {
        "colab": {
          "base_uri": "https://localhost:8080/"
        },
        "id": "wuLP6KhOwejg",
        "outputId": "99eb6b15-4c29-47d3-8aa2-1cd8e759f035"
      },
      "source": [
        "# applying transformation to image\n",
        "train_gen = ImageDataGenerator(width_shift_range=0.1, height_shift_range=0.1, horizontal_flip=True)\n",
        "test_gen = ImageDataGenerator()\n",
        "\n",
        "training_set= train_gen.flow(x_train, y_train, batch_size = 64)\n",
        "test_set= train_gen.flow(x_test, y_test, batch_size = 64)\n",
        "\n",
        "history2 = model2.fit_generator(training_set, \n",
        "                         steps_per_epoch = TRAINING_DATA//BATCH_SIZE,\n",
        "                         callbacks=callbacks, \n",
        "                         validation_data = test_set, \n",
        "                         validation_steps = TEST_DATA//BATCH_SIZE, \n",
        "                         epochs = 20)\n",
        "\n",
        "model2.save('modelB.h5')"
      ],
      "execution_count": null,
      "outputs": [
        {
          "output_type": "stream",
          "text": [
            "/usr/local/lib/python3.7/dist-packages/tensorflow/python/keras/engine/training.py:1844: UserWarning: `Model.fit_generator` is deprecated and will be removed in a future version. Please use `Model.fit`, which supports generators.\n",
            "  warnings.warn('`Model.fit_generator` is deprecated and '\n"
          ],
          "name": "stderr"
        },
        {
          "output_type": "stream",
          "text": [
            "Epoch 1/20\n",
            "656/656 [==============================] - 156s 236ms/step - loss: 1.7284 - accuracy: 0.3797 - val_loss: 1.4687 - val_accuracy: 0.4715\n",
            "Epoch 2/20\n",
            "656/656 [==============================] - 154s 235ms/step - loss: 1.2986 - accuracy: 0.5316 - val_loss: 1.2539 - val_accuracy: 0.5507\n",
            "Epoch 3/20\n",
            "656/656 [==============================] - 154s 235ms/step - loss: 1.1749 - accuracy: 0.5789 - val_loss: 1.7031 - val_accuracy: 0.4537\n",
            "Epoch 4/20\n",
            "656/656 [==============================] - 154s 235ms/step - loss: 1.0933 - accuracy: 0.6139 - val_loss: 1.1110 - val_accuracy: 0.6040\n",
            "Epoch 5/20\n",
            "656/656 [==============================] - 154s 235ms/step - loss: 1.0389 - accuracy: 0.6339 - val_loss: 0.9936 - val_accuracy: 0.6453\n",
            "Epoch 6/20\n",
            "656/656 [==============================] - 154s 235ms/step - loss: 0.9921 - accuracy: 0.6467 - val_loss: 1.1890 - val_accuracy: 0.5801\n",
            "Epoch 7/20\n",
            "656/656 [==============================] - 154s 235ms/step - loss: 0.9601 - accuracy: 0.6623 - val_loss: 1.1013 - val_accuracy: 0.6119\n",
            "\n",
            "Epoch 00007: ReduceLROnPlateau reducing learning rate to 0.05000000074505806.\n",
            "Epoch 8/20\n",
            "656/656 [==============================] - 154s 235ms/step - loss: 0.9004 - accuracy: 0.6850 - val_loss: 0.8726 - val_accuracy: 0.6949\n",
            "Epoch 9/20\n",
            "656/656 [==============================] - 154s 235ms/step - loss: 0.8716 - accuracy: 0.6917 - val_loss: 0.8460 - val_accuracy: 0.7008\n",
            "Epoch 10/20\n",
            "656/656 [==============================] - 154s 234ms/step - loss: 0.8389 - accuracy: 0.7068 - val_loss: 0.8657 - val_accuracy: 0.7010\n",
            "Epoch 11/20\n",
            "656/656 [==============================] - 154s 234ms/step - loss: 0.8331 - accuracy: 0.7093 - val_loss: 0.8462 - val_accuracy: 0.7026\n",
            "Epoch 12/20\n",
            "656/656 [==============================] - 153s 234ms/step - loss: 0.8237 - accuracy: 0.7125 - val_loss: 0.8681 - val_accuracy: 0.6977\n",
            "Epoch 13/20\n",
            "656/656 [==============================] - 153s 234ms/step - loss: 0.8089 - accuracy: 0.7172 - val_loss: 0.8025 - val_accuracy: 0.7200\n",
            "Epoch 14/20\n",
            "656/656 [==============================] - 153s 234ms/step - loss: 0.8037 - accuracy: 0.7193 - val_loss: 0.8294 - val_accuracy: 0.7058\n",
            "Epoch 15/20\n",
            "656/656 [==============================] - 154s 234ms/step - loss: 0.7974 - accuracy: 0.7184 - val_loss: 0.8509 - val_accuracy: 0.7025\n",
            "\n",
            "Epoch 00015: ReduceLROnPlateau reducing learning rate to 0.02500000037252903.\n",
            "Epoch 16/20\n",
            "656/656 [==============================] - 153s 233ms/step - loss: 0.7565 - accuracy: 0.7356 - val_loss: 0.7334 - val_accuracy: 0.7417\n",
            "Epoch 17/20\n",
            "656/656 [==============================] - 152s 232ms/step - loss: 0.7488 - accuracy: 0.7386 - val_loss: 0.7344 - val_accuracy: 0.7402\n",
            "Epoch 18/20\n",
            "656/656 [==============================] - 153s 233ms/step - loss: 0.7470 - accuracy: 0.7383 - val_loss: 0.7464 - val_accuracy: 0.7367\n",
            "\n",
            "Epoch 00018: ReduceLROnPlateau reducing learning rate to 0.012500000186264515.\n",
            "Epoch 19/20\n",
            "656/656 [==============================] - 153s 234ms/step - loss: 0.7231 - accuracy: 0.7450 - val_loss: 0.7205 - val_accuracy: 0.7476\n",
            "Epoch 20/20\n",
            "656/656 [==============================] - 154s 234ms/step - loss: 0.7187 - accuracy: 0.7507 - val_loss: 0.7586 - val_accuracy: 0.7348\n"
          ],
          "name": "stdout"
        }
      ]
    },
    {
      "cell_type": "markdown",
      "metadata": {
        "id": "xuyOw2Ljw0UG"
      },
      "source": [
        "### 4. Training after adding one more Conv2D layer (3 Conv2D Layers)"
      ]
    },
    {
      "cell_type": "code",
      "metadata": {
        "id": "-BlxacfpwecZ"
      },
      "source": [
        "model3 = Sequential()\n",
        "\n",
        "model3.add(Conv2D(64, (5,5), input_shape=(32,32,3)))\n",
        "model3.add(Activation('relu'))\n",
        "model3.add(MaxPool2D(pool_size = (2,2)))\n",
        "model3.add(BatchNormalization())\n",
        "model3.add(Dropout(0.1))\n",
        "\n",
        "model3.add(Conv2D(128, (3,3)))\n",
        "model3.add(Activation('relu'))\n",
        "model3.add(MaxPool2D(pool_size = (2,2)))\n",
        "model3.add(BatchNormalization())\n",
        "model3.add(Dropout(0.1))\n",
        "\n",
        "model3.add(Conv2D(256, (3,3)))\n",
        "model3.add(Activation('relu'))\n",
        "model3.add(MaxPool2D(pool_size = (2,2)))\n",
        "model3.add(BatchNormalization())\n",
        "model3.add(Dropout(0.1))\n",
        "\n",
        "model3.add(Flatten())\n",
        "\n",
        "model3.add(Dense(64))\n",
        "model3.add(Activation('relu'))\n",
        "model3.add(BatchNormalization())\n",
        "model3.add(Dropout(0.1))\n",
        "\n",
        "model3.add(Dense(10))\n",
        "model3.add(Activation('softmax'))\n",
        "\n",
        "model3.compile(optimizer = SGD(0.1), loss = 'categorical_crossentropy', metrics=['accuracy'])\n",
        "#plot_model(model3, to_file='cifar10_3_layer_architecture.png', show_shapes=True, show_layer_names=True)"
      ],
      "execution_count": null,
      "outputs": []
    },
    {
      "cell_type": "code",
      "metadata": {
        "id": "I1Zz066jilQk"
      },
      "source": [
        "# To prevent over fitting we will stop the learning after 5 epochs and val_loss value not decreased\n",
        "earlystop = EarlyStopping(patience=5)\n",
        "\n",
        "# It will reduce the learning rate when accuracy is not increasing for 2 epochs\n",
        "learning_rate_reduction = ReduceLROnPlateau(monitor='val_accuracy', \n",
        "                                            patience=2, \n",
        "                                            verbose=1, \n",
        "                                            factor=0.5, \n",
        "                                            min_lr=0.00001)\n",
        "\n",
        "callbacks = [earlystop, learning_rate_reduction]\n"
      ],
      "execution_count": null,
      "outputs": []
    },
    {
      "cell_type": "code",
      "metadata": {
        "colab": {
          "base_uri": "https://localhost:8080/"
        },
        "id": "1Mpd0t50zZQG",
        "outputId": "fa6021f5-3d86-499d-a1d4-bc2e8b68e793"
      },
      "source": [
        "# applying transformation to image\n",
        "train_gen = ImageDataGenerator(width_shift_range=0.1, height_shift_range=0.1, horizontal_flip=True)\n",
        "test_gen = ImageDataGenerator()\n",
        "\n",
        "training_set= train_gen.flow(x_train, y_train, batch_size = 64)\n",
        "test_set= train_gen.flow(x_test, y_test, batch_size = 64)\n",
        "\n",
        "history3 = model3.fit_generator(training_set, \n",
        "                         steps_per_epoch = TRAINING_DATA//BATCH_SIZE, \n",
        "                         validation_data = test_set,\n",
        "                         callbacks=callbacks, \n",
        "                         validation_steps = TEST_DATA//BATCH_SIZE, \n",
        "                         epochs = 20)\n",
        "\n",
        "model3.save('modelC.h5')"
      ],
      "execution_count": null,
      "outputs": [
        {
          "output_type": "stream",
          "text": [
            "/usr/local/lib/python3.7/dist-packages/tensorflow/python/keras/engine/training.py:1844: UserWarning: `Model.fit_generator` is deprecated and will be removed in a future version. Please use `Model.fit`, which supports generators.\n",
            "  warnings.warn('`Model.fit_generator` is deprecated and '\n"
          ],
          "name": "stderr"
        },
        {
          "output_type": "stream",
          "text": [
            "Epoch 1/20\n",
            "656/656 [==============================] - 203s 309ms/step - loss: 1.7808 - accuracy: 0.3675 - val_loss: 2.0796 - val_accuracy: 0.3040\n",
            "Epoch 2/20\n",
            "656/656 [==============================] - 203s 309ms/step - loss: 1.3298 - accuracy: 0.5197 - val_loss: 1.2262 - val_accuracy: 0.5596\n",
            "Epoch 3/20\n",
            "656/656 [==============================] - 203s 309ms/step - loss: 1.1940 - accuracy: 0.5731 - val_loss: 1.1083 - val_accuracy: 0.6102\n",
            "Epoch 4/20\n",
            "656/656 [==============================] - 203s 309ms/step - loss: 1.1051 - accuracy: 0.6055 - val_loss: 1.1058 - val_accuracy: 0.6144\n",
            "Epoch 5/20\n",
            "656/656 [==============================] - 202s 309ms/step - loss: 1.0318 - accuracy: 0.6337 - val_loss: 1.0223 - val_accuracy: 0.6453\n",
            "Epoch 6/20\n",
            "656/656 [==============================] - 202s 308ms/step - loss: 0.9870 - accuracy: 0.6516 - val_loss: 1.2232 - val_accuracy: 0.5710\n",
            "Epoch 7/20\n",
            "656/656 [==============================] - 202s 308ms/step - loss: 0.9359 - accuracy: 0.6725 - val_loss: 1.1317 - val_accuracy: 0.6032\n",
            "\n",
            "Epoch 00007: ReduceLROnPlateau reducing learning rate to 0.05000000074505806.\n",
            "Epoch 8/20\n",
            "656/656 [==============================] - 203s 309ms/step - loss: 0.8452 - accuracy: 0.7032 - val_loss: 0.8496 - val_accuracy: 0.7037\n",
            "Epoch 9/20\n",
            "656/656 [==============================] - 202s 308ms/step - loss: 0.8103 - accuracy: 0.7177 - val_loss: 0.7859 - val_accuracy: 0.7274\n",
            "Epoch 10/20\n",
            "656/656 [==============================] - 203s 309ms/step - loss: 0.7858 - accuracy: 0.7264 - val_loss: 0.8198 - val_accuracy: 0.7102\n",
            "Epoch 11/20\n",
            "656/656 [==============================] - 202s 308ms/step - loss: 0.7790 - accuracy: 0.7305 - val_loss: 0.7967 - val_accuracy: 0.7199\n",
            "\n",
            "Epoch 00011: ReduceLROnPlateau reducing learning rate to 0.02500000037252903.\n",
            "Epoch 12/20\n",
            "656/656 [==============================] - 202s 308ms/step - loss: 0.7380 - accuracy: 0.7416 - val_loss: 0.7307 - val_accuracy: 0.7456\n",
            "Epoch 13/20\n",
            "656/656 [==============================] - 201s 306ms/step - loss: 0.7257 - accuracy: 0.7498 - val_loss: 0.7521 - val_accuracy: 0.7388\n",
            "Epoch 14/20\n",
            "656/656 [==============================] - 201s 307ms/step - loss: 0.7111 - accuracy: 0.7522 - val_loss: 0.7277 - val_accuracy: 0.7457\n",
            "Epoch 15/20\n",
            "656/656 [==============================] - 201s 307ms/step - loss: 0.7052 - accuracy: 0.7563 - val_loss: 0.7475 - val_accuracy: 0.7405\n",
            "Epoch 16/20\n",
            "656/656 [==============================] - 201s 307ms/step - loss: 0.6918 - accuracy: 0.7594 - val_loss: 0.7079 - val_accuracy: 0.7534\n",
            "Epoch 17/20\n",
            "656/656 [==============================] - 202s 307ms/step - loss: 0.6857 - accuracy: 0.7594 - val_loss: 0.7023 - val_accuracy: 0.7596\n",
            "Epoch 18/20\n",
            "656/656 [==============================] - 201s 307ms/step - loss: 0.6649 - accuracy: 0.7654 - val_loss: 0.6783 - val_accuracy: 0.7654\n",
            "Epoch 19/20\n",
            "656/656 [==============================] - 201s 307ms/step - loss: 0.6638 - accuracy: 0.7685 - val_loss: 0.7848 - val_accuracy: 0.7315\n",
            "Epoch 20/20\n",
            "656/656 [==============================] - 202s 307ms/step - loss: 0.6688 - accuracy: 0.7682 - val_loss: 0.6975 - val_accuracy: 0.7582\n",
            "\n",
            "Epoch 00020: ReduceLROnPlateau reducing learning rate to 0.012500000186264515.\n"
          ],
          "name": "stdout"
        }
      ]
    },
    {
      "cell_type": "markdown",
      "metadata": {
        "id": "UnPylJkqb5cb"
      },
      "source": [
        "### Comparision b/w Models"
      ]
    },
    {
      "cell_type": "code",
      "metadata": {
        "colab": {
          "base_uri": "https://localhost:8080/"
        },
        "id": "dN6pcbKNb_6_",
        "outputId": "728bb9e2-e79e-4c0c-f4c4-8dcbb79f2541"
      },
      "source": [
        "print(\"Accuracy STATS :\")\n",
        "print(\"----------------\\n\")\n",
        "\n",
        "print(\"Model with Basic Architecture : \") \n",
        "model.evaluate(x_test,y_test)\n",
        "print(\"Model A : \") \n",
        "model1.evaluate(x_test,y_test)\n",
        "print(\"Model B : \") \n",
        "model2.evaluate(x_test,y_test)\n",
        "print(\"Model C : \") \n",
        "model3.evaluate(x_test,y_test)"
      ],
      "execution_count": null,
      "outputs": [
        {
          "output_type": "stream",
          "text": [
            "Accuracy STATS :\n",
            "----------------\n",
            "\n",
            "Model with Basic Architecture : \n",
            "563/563 [==============================] - 8s 14ms/step - loss: 0.9047 - accuracy: 0.6891\n",
            "Model A : \n",
            "563/563 [==============================] - 14s 24ms/step - loss: 0.7851 - accuracy: 0.7253\n",
            "Model B : \n",
            "563/563 [==============================] - 15s 26ms/step - loss: 0.7397 - accuracy: 0.7397\n",
            "Model C : \n",
            "563/563 [==============================] - 18s 31ms/step - loss: 0.6139 - accuracy: 0.7851\n"
          ],
          "name": "stdout"
        },
        {
          "output_type": "execute_result",
          "data": {
            "text/plain": [
              "[0.6138617992401123, 0.785111129283905]"
            ]
          },
          "metadata": {
            "tags": []
          },
          "execution_count": 18
        }
      ]
    },
    {
      "cell_type": "markdown",
      "metadata": {
        "id": "0JRvpI6HhDxF"
      },
      "source": [
        "### Saving Summary for Best Model (MODEL 3)"
      ]
    },
    {
      "cell_type": "code",
      "metadata": {
        "colab": {
          "base_uri": "https://localhost:8080/"
        },
        "id": "13LrbUCJhDes",
        "outputId": "bdb2efd1-c046-426e-a301-908ae9326803"
      },
      "source": [
        "with open(\"summary_q1\",\"w\") as fh:\n",
        "    model3.summary(print_fn=lambda line: fh.write(line + \"\\n\"))\n",
        "\n",
        "model3.summary()"
      ],
      "execution_count": null,
      "outputs": [
        {
          "output_type": "stream",
          "text": [
            "Model: \"sequential_3\"\n",
            "_________________________________________________________________\n",
            "Layer (type)                 Output Shape              Param #   \n",
            "=================================================================\n",
            "conv2d_5 (Conv2D)            (None, 28, 28, 64)        4864      \n",
            "_________________________________________________________________\n",
            "activation_11 (Activation)   (None, 28, 28, 64)        0         \n",
            "_________________________________________________________________\n",
            "max_pooling2d_5 (MaxPooling2 (None, 14, 14, 64)        0         \n",
            "_________________________________________________________________\n",
            "batch_normalization_3 (Batch (None, 14, 14, 64)        256       \n",
            "_________________________________________________________________\n",
            "dropout_6 (Dropout)          (None, 14, 14, 64)        0         \n",
            "_________________________________________________________________\n",
            "conv2d_6 (Conv2D)            (None, 12, 12, 128)       73856     \n",
            "_________________________________________________________________\n",
            "activation_12 (Activation)   (None, 12, 12, 128)       0         \n",
            "_________________________________________________________________\n",
            "max_pooling2d_6 (MaxPooling2 (None, 6, 6, 128)         0         \n",
            "_________________________________________________________________\n",
            "batch_normalization_4 (Batch (None, 6, 6, 128)         512       \n",
            "_________________________________________________________________\n",
            "dropout_7 (Dropout)          (None, 6, 6, 128)         0         \n",
            "_________________________________________________________________\n",
            "conv2d_7 (Conv2D)            (None, 4, 4, 256)         295168    \n",
            "_________________________________________________________________\n",
            "activation_13 (Activation)   (None, 4, 4, 256)         0         \n",
            "_________________________________________________________________\n",
            "max_pooling2d_7 (MaxPooling2 (None, 2, 2, 256)         0         \n",
            "_________________________________________________________________\n",
            "batch_normalization_5 (Batch (None, 2, 2, 256)         1024      \n",
            "_________________________________________________________________\n",
            "dropout_8 (Dropout)          (None, 2, 2, 256)         0         \n",
            "_________________________________________________________________\n",
            "flatten_3 (Flatten)          (None, 1024)              0         \n",
            "_________________________________________________________________\n",
            "dense_6 (Dense)              (None, 64)                65600     \n",
            "_________________________________________________________________\n",
            "activation_14 (Activation)   (None, 64)                0         \n",
            "_________________________________________________________________\n",
            "batch_normalization_6 (Batch (None, 64)                256       \n",
            "_________________________________________________________________\n",
            "dropout_9 (Dropout)          (None, 64)                0         \n",
            "_________________________________________________________________\n",
            "dense_7 (Dense)              (None, 10)                650       \n",
            "_________________________________________________________________\n",
            "activation_15 (Activation)   (None, 10)                0         \n",
            "=================================================================\n",
            "Total params: 442,186\n",
            "Trainable params: 441,162\n",
            "Non-trainable params: 1,024\n",
            "_________________________________________________________________\n"
          ],
          "name": "stdout"
        }
      ]
    },
    {
      "cell_type": "markdown",
      "metadata": {
        "id": "D5h5SqVU0-sM"
      },
      "source": [
        "### Epochs Vs Accuracy"
      ]
    },
    {
      "cell_type": "code",
      "metadata": {
        "colab": {
          "base_uri": "https://localhost:8080/",
          "height": 295
        },
        "id": "eQa9aEjax4Re",
        "outputId": "a2f283b8-72ee-447f-a20c-784fb1e09b59"
      },
      "source": [
        "fig = plt.figure()\n",
        "ax = fig.add_subplot(111)\n",
        "ax.set_facecolor('w')\n",
        "ax.grid(b=False)\n",
        "ax.plot(history3.history['accuracy'], color='red')\n",
        "ax.plot(history3.history['val_accuracy'], color ='green')\n",
        "plt.title('model accuracy')\n",
        "plt.ylabel('accuracy')\n",
        "plt.xlabel('epoch')\n",
        "plt.legend(['train', 'test'], loc='lower right')\n",
        "plt.show()"
      ],
      "execution_count": null,
      "outputs": [
        {
          "output_type": "display_data",
          "data": {
            "image/png": "[encoded data removed]",
            "text/plain": [
              "<Figure size 432x288 with 1 Axes>"
            ]
          },
          "metadata": {
            "tags": [],
            "needs_background": "light"
          }
        }
      ]
    }
  ]
}