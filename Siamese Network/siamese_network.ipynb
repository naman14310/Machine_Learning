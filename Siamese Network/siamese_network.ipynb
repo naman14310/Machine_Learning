{
  "nbformat": 4,
  "nbformat_minor": 0,
  "metadata": {
    "colab": {
      "name": "Q4.ipynb",
      "provenance": [],
      "collapsed_sections": []
    },
    "kernelspec": {
      "display_name": "Python 3",
      "name": "python3"
    },
    "language_info": {
      "name": "python"
    }
  },
  "cells": [
    {
      "cell_type": "markdown",
      "metadata": {
        "id": "AgRXq8ZYOpTT"
      },
      "source": [
        "### Importing Dependencies"
      ]
    },
    {
      "cell_type": "code",
      "metadata": {
        "id": "QGj8-uAFMg4a"
      },
      "source": [
        "!pip install -q -U tensorflow-addons"
      ],
      "execution_count": null,
      "outputs": []
    },
    {
      "cell_type": "code",
      "metadata": {
        "id": "la682S4k_Poj"
      },
      "source": [
        "import numpy as np\n",
        "import math\n",
        "import tensorflow as tf\n",
        "import keras\n",
        "import matplotlib.pyplot as plt\n",
        "from keras.datasets import mnist\n",
        "from sklearn.model_selection import train_test_split\n",
        "from keras.models import Sequential, Model\n",
        "from keras.optimizers import RMSprop\n",
        "from keras.optimizers import Adam\n",
        "from keras.optimizers import SGD\n",
        "import tensorflow_addons as tfa\n",
        "from keras.models import load_model\n",
        "from keras.preprocessing.image import ImageDataGenerator\n",
        "from keras.utils.vis_utils import plot_model\n",
        "from keras.callbacks import EarlyStopping, ReduceLROnPlateau, LearningRateScheduler\n",
        "from keras.callbacks import ModelCheckpoint\n",
        "import random\n",
        "from keras.layers import Input, Lambda, Dense, Dropout, Flatten"
      ],
      "execution_count": null,
      "outputs": []
    },
    {
      "cell_type": "markdown",
      "metadata": {
        "id": "jZsU7JcsOX9v"
      },
      "source": [
        "### Train test split"
      ]
    },
    {
      "cell_type": "code",
      "metadata": {
        "colab": {
          "base_uri": "https://localhost:8080/"
        },
        "id": "YAv9eMExASle",
        "outputId": "0ffc5466-f8f9-4d7b-88c7-c0ec67e0f466"
      },
      "source": [
        "(x_train, y_train) , (x_test, y_test) = mnist.load_data()\n",
        "\n",
        "x = np.concatenate((x_train, x_test), axis=0)\n",
        "y = np.concatenate((y_train, y_test), axis=0)\n",
        "x_train, x_test, y_train, y_test = train_test_split(x, y, test_size=0.3, random_state=55)\n",
        "\n",
        "#x_train= x_train.reshape(x_train.shape[0], 28, 28, 1)\n",
        "#x_test = x_test.reshape(x_test.shape[0],28,28,1)\n",
        "print(\"Data after 70:30 split\")\n",
        "print(\"----------------------\\n\")\n",
        "print(\"X_train shape :\", x_train.shape)\n",
        "print(\"y_train shape :\", y_train.shape)\n",
        "print(\"X_test shape :\", x_test.shape)\n",
        "print(\"y_test shape :\", y_test.shape)"
      ],
      "execution_count": null,
      "outputs": [
        {
          "output_type": "stream",
          "text": [
            "Data after 70:30 split\n",
            "----------------------\n",
            "\n",
            "X_train shape : (49000, 28, 28)\n",
            "y_train shape : (49000,)\n",
            "X_test shape : (21000, 28, 28)\n",
            "y_test shape : (21000,)\n"
          ],
          "name": "stdout"
        }
      ]
    },
    {
      "cell_type": "markdown",
      "metadata": {
        "id": "-n93HPhZOlXO"
      },
      "source": [
        "### Data Preprocessing"
      ]
    },
    {
      "cell_type": "code",
      "metadata": {
        "id": "bYI5GhhAAGFR"
      },
      "source": [
        "def normalize_data(x_train, x_test):\n",
        "    x_train = x_train / 255.0\n",
        "    x_test = x_test / 255.0\n",
        "    return x_train, x_test\n",
        "    \n",
        "x_train, x_test = normalize_data(x_train, x_test)"
      ],
      "execution_count": null,
      "outputs": []
    },
    {
      "cell_type": "code",
      "metadata": {
        "id": "-QApgyYPAJ3c"
      },
      "source": [
        "def process_labels(y_train, y_test):\n",
        "    y_train = to_categorical(y_train)\n",
        "    y_test = to_categorical(y_test)\n",
        "    return y_train, y_test\n",
        "\n",
        "#y_train, y_test = process_labels(y_train, y_test)    "
      ],
      "execution_count": null,
      "outputs": []
    },
    {
      "cell_type": "code",
      "metadata": {
        "id": "yNJnz-iFEGxF"
      },
      "source": [
        "def get_pair(data, index, n):\n",
        "    pr = []\n",
        "    lbl = []\n",
        "\n",
        "    for num in range(0, 10):\n",
        "        for i in range(0, n-1):\n",
        "            lbl = lbl + [1,0]\n",
        "            pr = pr + [[ data[index[num][i]], data[index[num][i+1]] ]]\n",
        "            rnd = (num + random.randrange(1, 10)) % 10\n",
        "            pr = pr + [[ data[index[num][i]], data[index[rnd][i]] ]]\n",
        "\n",
        "\n",
        "    pairs = np.array(pr)\n",
        "    labels = np.array(lbl)\n",
        "\n",
        "    return pairs, labels\n"
      ],
      "execution_count": null,
      "outputs": []
    },
    {
      "cell_type": "code",
      "metadata": {
        "id": "rx-6IydPEcjK"
      },
      "source": [
        "def get_min_sample_class(index):\n",
        "    min_sample = 100000\n",
        "    for i in range(10):\n",
        "        if len(index[i])<min_sample:\n",
        "            min_sample = len(index[i])\n",
        "    return min_sample"
      ],
      "execution_count": null,
      "outputs": []
    },
    {
      "cell_type": "code",
      "metadata": {
        "id": "c98GNUAvDS5O"
      },
      "source": [
        "def map_index(label):\n",
        "    return [np.where(label==digit)[0] for digit in range(10)]\n",
        "\n",
        "train_index = map_index(y_train)\n",
        "test_index = map_index(y_test)\n",
        "\n",
        "train_n = get_min_sample_class(train_index)\n",
        "test_n = get_min_sample_class(test_index)\n",
        "\n",
        "train_pairs, train_labels = get_pair(x_train, train_index, train_n)\n",
        "test_pairs, test_labels = get_pair(x_test, test_index, test_n)\n"
      ],
      "execution_count": null,
      "outputs": []
    },
    {
      "cell_type": "code",
      "metadata": {
        "colab": {
          "base_uri": "https://localhost:8080/"
        },
        "id": "a6pKgEzkKlkR",
        "outputId": "a2e9e054-ad68-4f22-a05b-f8a918c3c18a"
      },
      "source": [
        "print(train_pairs.shape)\n",
        "print(test_pairs.shape)\n",
        "print(train_labels.shape)\n",
        "print(test_labels.shape)"
      ],
      "execution_count": null,
      "outputs": [
        {
          "output_type": "stream",
          "text": [
            "(88840, 2, 28, 28)\n",
            "(37380, 2, 28, 28)\n",
            "(88840,)\n",
            "(37380,)\n"
          ],
          "name": "stdout"
        }
      ]
    },
    {
      "cell_type": "code",
      "metadata": {
        "id": "58GF6kSzrvv3"
      },
      "source": [
        "train_0 = train_pairs[:, 0]\n",
        "train_1 = train_pairs[:, 1]\n",
        "train_pairs = [train_0, train_1]\n",
        "\n",
        "test_0 = test_pairs[:, 0]\n",
        "test_1 = test_pairs[:, 1]\n",
        "test_pairs = [test_0, test_1]"
      ],
      "execution_count": null,
      "outputs": []
    },
    {
      "cell_type": "code",
      "metadata": {
        "id": "3BTrlD6Bwm_H"
      },
      "source": [
        "def plot_epoch_vs_loss(hist):\n",
        "    fig = plt.figure()\n",
        "    ax = fig.add_subplot(111)\n",
        "    ax.set_facecolor('w')\n",
        "    ax.grid(b=False)\n",
        "    ax.plot(hist.history['loss'], color='red')\n",
        "    ax.plot(hist.history['val_loss'], color ='green')\n",
        "    plt.title('model loss')\n",
        "    plt.ylabel('loss')\n",
        "    plt.xlabel('epoch')\n",
        "    plt.legend(['train', 'test'], loc='upper right')\n",
        "    plt.show()"
      ],
      "execution_count": null,
      "outputs": []
    },
    {
      "cell_type": "markdown",
      "metadata": {
        "id": "1735U1BxOe1G"
      },
      "source": [
        "### Siamese Network Architecture"
      ]
    },
    {
      "cell_type": "code",
      "metadata": {
        "id": "AVg_QR_oijmY"
      },
      "source": [
        "def siamese_network():\n",
        "    input = Input(shape=(28, 28))\n",
        "    layer = Flatten()(input)\n",
        "\n",
        "    layer = Dense(512, activation='relu')(layer)\n",
        "    layer = Dropout(0.2)(layer)\n",
        "\n",
        "    layer = Dense(256, activation='relu')(layer)\n",
        "    layer = Dropout(0.5)(layer)\n",
        "\n",
        "    layer = Dense(256, activation='relu')(layer)\n",
        "    layer = Dropout(0.3)(layer)\n",
        "\n",
        "    layer = Dense(128, activation='relu')(layer)\n",
        "\n",
        "    layer = keras.layers.Lambda(lambda layer: keras.backend.l2_normalize(layer, axis=1))(layer)    \n",
        "    return Model(input, layer)"
      ],
      "execution_count": null,
      "outputs": []
    },
    {
      "cell_type": "code",
      "metadata": {
        "id": "7NMh0rGYGyUn"
      },
      "source": [
        "def get_square_sum(v1, v2):\n",
        "    sqr_diff = keras.backend.square(v1 - v2)\n",
        "    sqr_sum = keras.backend.sum(sqr_diff, keepdims=True, axis = 1)\n",
        "    return sqr_sum\n",
        "\n",
        "\n",
        "def l2dist(v):\n",
        "    e = keras.backend.epsilon()\n",
        "    v1, v2 = v\n",
        "\n",
        "    sqr_sum = get_square_sum(v1, v2)\n",
        "    maxm = keras.backend.maximum(sqr_sum, e)\n",
        "\n",
        "    res = keras.backend.sqrt(maxm)\n",
        "    return res"
      ],
      "execution_count": null,
      "outputs": []
    },
    {
      "cell_type": "code",
      "metadata": {
        "id": "9e683VV8J1V3"
      },
      "source": [
        "def contrastive_loss(actual, predicted):\n",
        "    actual = float (actual)\n",
        "    pred_sqr = float (keras.backend.square(predicted))\n",
        "    \n",
        "    maxm = keras.backend.maximum(0.0, 1-predicted)\n",
        "    mgr_sqr = float (keras.backend.square(maxm))\n",
        "\n",
        "    a = pred_sqr * actual\n",
        "    b = mgr_sqr * (1.0-actual)\n",
        "\n",
        "    loss = keras.backend.mean(a + b)\n",
        "    return loss"
      ],
      "execution_count": null,
      "outputs": []
    },
    {
      "cell_type": "code",
      "metadata": {
        "id": "Qr8vXJ2UO1ql"
      },
      "source": [
        "def accuracy(actual, predicted):\n",
        "    pred = keras.backend.cast(predicted < 0.5, actual.dtype)\n",
        "    eql = keras.backend.equal(actual, pred)\n",
        "    acc = keras.backend.mean(eql)\n",
        "    return acc"
      ],
      "execution_count": null,
      "outputs": []
    },
    {
      "cell_type": "code",
      "metadata": {
        "id": "sj1wWhdfXFQ5"
      },
      "source": [
        "def get_model():\n",
        "    left = Input(shape = (28,28))\n",
        "    right = Input(shape = (28,28))\n",
        "    architecture = siamese_network()\n",
        "    model_a = architecture(left)\n",
        "    model_b = architecture(right)\n",
        "    dist = keras.layers.Lambda(l2dist)([model_a, model_b])\n",
        "    return Model([left, right], dist)"
      ],
      "execution_count": null,
      "outputs": []
    },
    {
      "cell_type": "markdown",
      "metadata": {
        "id": "wQJUAP-uwD-U"
      },
      "source": [
        "# Running for various Losses"
      ]
    },
    {
      "cell_type": "markdown",
      "metadata": {
        "id": "EBbXpXLYu_c8"
      },
      "source": [
        "### Contrastive loss"
      ]
    },
    {
      "cell_type": "code",
      "metadata": {
        "colab": {
          "base_uri": "https://localhost:8080/"
        },
        "id": "ftnYWxfLXlfg",
        "outputId": "77cc173f-d544-439e-c187-f29c224bfd40"
      },
      "source": [
        "model = get_model()\n",
        "model.compile(optimizer='RMSProp', loss = contrastive_loss, metrics=[accuracy])\n",
        "history = model.fit(train_pairs, train_labels, batch_size = 64, epochs = 10, validation_data=(test_pairs, test_labels))"
      ],
      "execution_count": null,
      "outputs": [
        {
          "output_type": "stream",
          "text": [
            "Epoch 1/10\n",
            "1389/1389 [==============================] - 26s 18ms/step - loss: 0.1620 - accuracy: 0.7488 - val_loss: 0.0498 - val_accuracy: 0.9346\n",
            "Epoch 2/10\n",
            "1389/1389 [==============================] - 24s 17ms/step - loss: 0.0473 - accuracy: 0.9436 - val_loss: 0.0331 - val_accuracy: 0.9629\n",
            "Epoch 3/10\n",
            "1389/1389 [==============================] - 24s 17ms/step - loss: 0.0298 - accuracy: 0.9677 - val_loss: 0.0259 - val_accuracy: 0.9678\n",
            "Epoch 4/10\n",
            "1389/1389 [==============================] - 24s 17ms/step - loss: 0.0214 - accuracy: 0.9747 - val_loss: 0.0255 - val_accuracy: 0.9676\n",
            "Epoch 5/10\n",
            "1389/1389 [==============================] - 24s 17ms/step - loss: 0.0185 - accuracy: 0.9778 - val_loss: 0.0240 - val_accuracy: 0.9699\n",
            "Epoch 6/10\n",
            "1389/1389 [==============================] - 24s 17ms/step - loss: 0.0168 - accuracy: 0.9796 - val_loss: 0.0223 - val_accuracy: 0.9733\n",
            "Epoch 7/10\n",
            "1389/1389 [==============================] - 24s 17ms/step - loss: 0.0132 - accuracy: 0.9841 - val_loss: 0.0228 - val_accuracy: 0.9704\n",
            "Epoch 8/10\n",
            "1389/1389 [==============================] - 24s 17ms/step - loss: 0.0113 - accuracy: 0.9864 - val_loss: 0.0234 - val_accuracy: 0.9709\n",
            "Epoch 9/10\n",
            "1389/1389 [==============================] - 24s 17ms/step - loss: 0.0105 - accuracy: 0.9872 - val_loss: 0.0225 - val_accuracy: 0.9726\n",
            "Epoch 10/10\n",
            "1389/1389 [==============================] - 24s 18ms/step - loss: 0.0099 - accuracy: 0.9881 - val_loss: 0.0217 - val_accuracy: 0.9741\n"
          ],
          "name": "stdout"
        }
      ]
    },
    {
      "cell_type": "code",
      "metadata": {
        "colab": {
          "base_uri": "https://localhost:8080/",
          "height": 295
        },
        "id": "z5PKz3QjwLWi",
        "outputId": "1d5d37ad-0856-4c26-dad1-c78fb61f38f5"
      },
      "source": [
        "plot_epoch_vs_loss(history)"
      ],
      "execution_count": null,
      "outputs": [
        {
          "output_type": "display_data",
          "data": {
            "image/png": "[encoded data removed]",
            "text/plain": [
              "<Figure size 432x288 with 1 Axes>"
            ]
          },
          "metadata": {
            "tags": [],
            "needs_background": "light"
          }
        }
      ]
    },
    {
      "cell_type": "markdown",
      "metadata": {
        "id": "q8DQ6_mWMWVT"
      },
      "source": [
        "### Triplet loss"
      ]
    },
    {
      "cell_type": "code",
      "metadata": {
        "colab": {
          "base_uri": "https://localhost:8080/"
        },
        "id": "CNwMTktoMcd5",
        "outputId": "9a40c0ce-6d5f-41c9-ba86-b08b4d706126"
      },
      "source": [
        "model = get_model()\n",
        "model.compile(optimizer='RMSProp', loss = tfa.losses.TripletSemiHardLoss(), metrics=[accuracy])\n",
        "history_tripletloss = model.fit(train_pairs, train_labels, batch_size = 64, epochs = 10, validation_data=(test_pairs, test_labels))"
      ],
      "execution_count": null,
      "outputs": [
        {
          "output_type": "stream",
          "text": [
            "Epoch 1/10\n",
            "1389/1389 [==============================] - 24s 17ms/step - loss: 0.2934 - accuracy: 0.5032 - val_loss: 0.3586 - val_accuracy: 0.5000\n",
            "Epoch 2/10\n",
            "1389/1389 [==============================] - 23s 17ms/step - loss: 0.2512 - accuracy: 0.5163 - val_loss: 0.3105 - val_accuracy: 0.5003\n",
            "Epoch 3/10\n",
            "1389/1389 [==============================] - 23s 17ms/step - loss: 0.2439 - accuracy: 0.5587 - val_loss: 0.2301 - val_accuracy: 0.6159\n",
            "Epoch 4/10\n",
            "1389/1389 [==============================] - 23s 17ms/step - loss: 0.2220 - accuracy: 0.6423 - val_loss: 0.1852 - val_accuracy: 0.7167\n",
            "Epoch 5/10\n",
            "1389/1389 [==============================] - 23s 16ms/step - loss: 0.1985 - accuracy: 0.7135 - val_loss: 0.1662 - val_accuracy: 0.7534\n",
            "Epoch 6/10\n",
            "1389/1389 [==============================] - 23s 16ms/step - loss: 0.1806 - accuracy: 0.7488 - val_loss: 0.1535 - val_accuracy: 0.7767\n",
            "Epoch 7/10\n",
            "1389/1389 [==============================] - 23s 16ms/step - loss: 0.1694 - accuracy: 0.7682 - val_loss: 0.1453 - val_accuracy: 0.7915\n",
            "Epoch 8/10\n",
            "1389/1389 [==============================] - 23s 16ms/step - loss: 0.1597 - accuracy: 0.7828 - val_loss: 0.1392 - val_accuracy: 0.8047\n",
            "Epoch 9/10\n",
            "1389/1389 [==============================] - 23s 17ms/step - loss: 0.1530 - accuracy: 0.7945 - val_loss: 0.1327 - val_accuracy: 0.8143\n",
            "Epoch 10/10\n",
            "1389/1389 [==============================] - 23s 17ms/step - loss: 0.1464 - accuracy: 0.8052 - val_loss: 0.1268 - val_accuracy: 0.8254\n"
          ],
          "name": "stdout"
        }
      ]
    },
    {
      "cell_type": "code",
      "metadata": {
        "id": "uCu4Zt34NHEi",
        "colab": {
          "base_uri": "https://localhost:8080/",
          "height": 295
        },
        "outputId": "6610f8fd-2507-4473-e218-575413cbe472"
      },
      "source": [
        "plot_epoch_vs_loss(history_tripletloss)"
      ],
      "execution_count": null,
      "outputs": [
        {
          "output_type": "display_data",
          "data": {
            "image/png": "[encoded data removed]",
            "text/plain": [
              "<Figure size 432x288 with 1 Axes>"
            ]
          },
          "metadata": {
            "tags": [],
            "needs_background": "light"
          }
        }
      ]
    },
    {
      "cell_type": "markdown",
      "metadata": {
        "id": "nfwLMrZBu8JA"
      },
      "source": [
        "### Cross entropy"
      ]
    },
    {
      "cell_type": "code",
      "metadata": {
        "id": "RLiZBabcuG6t",
        "colab": {
          "base_uri": "https://localhost:8080/"
        },
        "outputId": "af349717-0246-41aa-f5fd-f186b6f4c4a3"
      },
      "source": [
        "model = get_model()\n",
        "model.compile(optimizer='RMSProp', loss = 'categorical_crossentropy')\n",
        "history_crossentropy = model.fit(train_pairs, train_labels, batch_size = 64, epochs = 10, validation_data=(test_pairs, test_labels))"
      ],
      "execution_count": null,
      "outputs": [
        {
          "output_type": "stream",
          "text": [
            "Epoch 1/10\n",
            "1389/1389 [==============================] - 24s 17ms/step - loss: 0.2909 - accuracy: 0.5027 - val_loss: 0.3503 - val_accuracy: 0.5000\n",
            "Epoch 2/10\n",
            "1389/1389 [==============================] - 22s 16ms/step - loss: 0.2495 - accuracy: 0.5284 - val_loss: 0.2902 - val_accuracy: 0.5307\n",
            "Epoch 3/10\n",
            "1389/1389 [==============================] - 23s 16ms/step - loss: 0.2377 - accuracy: 0.5828 - val_loss: 0.2328 - val_accuracy: 0.6239\n",
            "Epoch 4/10\n",
            "1389/1389 [==============================] - 22s 16ms/step - loss: 0.2220 - accuracy: 0.6368 - val_loss: 0.2011 - val_accuracy: 0.6785\n",
            "Epoch 5/10\n",
            "1389/1389 [==============================] - 23s 16ms/step - loss: 0.2053 - accuracy: 0.6875 - val_loss: 0.1652 - val_accuracy: 0.7580\n",
            "Epoch 6/10\n",
            "1389/1389 [==============================] - 23s 16ms/step - loss: 0.1843 - accuracy: 0.7441 - val_loss: 0.1451 - val_accuracy: 0.7928\n",
            "Epoch 7/10\n",
            "1389/1389 [==============================] - 23s 16ms/step - loss: 0.1651 - accuracy: 0.7776 - val_loss: 0.1386 - val_accuracy: 0.8019\n",
            "Epoch 8/10\n",
            "1389/1389 [==============================] - 23s 16ms/step - loss: 0.1552 - accuracy: 0.7905 - val_loss: 0.1341 - val_accuracy: 0.8102\n",
            "Epoch 9/10\n",
            "1389/1389 [==============================] - 23s 16ms/step - loss: 0.1487 - accuracy: 0.7996 - val_loss: 0.1297 - val_accuracy: 0.8170\n",
            "Epoch 10/10\n",
            "1389/1389 [==============================] - 23s 16ms/step - loss: 0.1432 - accuracy: 0.8083 - val_loss: 0.1254 - val_accuracy: 0.8239\n"
          ],
          "name": "stdout"
        }
      ]
    },
    {
      "cell_type": "code",
      "metadata": {
        "colab": {
          "base_uri": "https://localhost:8080/",
          "height": 295
        },
        "id": "URlOZVw-OUKC",
        "outputId": "6d077b79-2cc8-4eef-9372-4bb12fd04040"
      },
      "source": [
        "plot_epoch_vs_loss(history_crossentropy)"
      ],
      "execution_count": null,
      "outputs": [
        {
          "output_type": "display_data",
          "data": {
            "image/png": "[encoded data removed]",
            "text/plain": [
              "<Figure size 432x288 with 1 Axes>"
            ]
          },
          "metadata": {
            "tags": [],
            "needs_background": "light"
          }
        }
      ]
    },
    {
      "cell_type": "markdown",
      "metadata": {
        "id": "J4yb9PK6wH1h"
      },
      "source": [
        "# Running for various optimizers "
      ]
    },
    {
      "cell_type": "markdown",
      "metadata": {
        "id": "Houii9dN28rn"
      },
      "source": [
        "### 1. RMSProp"
      ]
    },
    {
      "cell_type": "code",
      "metadata": {
        "colab": {
          "base_uri": "https://localhost:8080/"
        },
        "id": "A4HqmOl027lK",
        "outputId": "f34feb64-1e0e-4388-ad74-b62b23e7d272"
      },
      "source": [
        "model = get_model()\n",
        "model.compile(optimizer='RMSProp', loss = contrastive_loss, metrics=[accuracy])\n",
        "hist_rms = model.fit(train_pairs, train_labels, batch_size = 64, epochs = 10, validation_data=(test_pairs, test_labels))"
      ],
      "execution_count": null,
      "outputs": [
        {
          "output_type": "stream",
          "text": [
            "Epoch 1/10\n",
            "1389/1389 [==============================] - 29s 20ms/step - loss: 0.1355 - accuracy: 0.8026 - val_loss: 0.0436 - val_accuracy: 0.9436\n",
            "Epoch 2/10\n",
            "1389/1389 [==============================] - 27s 20ms/step - loss: 0.0403 - accuracy: 0.9546 - val_loss: 0.0297 - val_accuracy: 0.9636\n",
            "Epoch 3/10\n",
            "1389/1389 [==============================] - 27s 20ms/step - loss: 0.0248 - accuracy: 0.9701 - val_loss: 0.0265 - val_accuracy: 0.9675\n",
            "Epoch 4/10\n",
            "1389/1389 [==============================] - 28s 20ms/step - loss: 0.0192 - accuracy: 0.9764 - val_loss: 0.0234 - val_accuracy: 0.9704\n",
            "Epoch 5/10\n",
            "1389/1389 [==============================] - 28s 20ms/step - loss: 0.0168 - accuracy: 0.9796 - val_loss: 0.0234 - val_accuracy: 0.9713\n",
            "Epoch 6/10\n",
            "1389/1389 [==============================] - 28s 20ms/step - loss: 0.0145 - accuracy: 0.9826 - val_loss: 0.0224 - val_accuracy: 0.9733\n",
            "Epoch 7/10\n",
            "1389/1389 [==============================] - 28s 20ms/step - loss: 0.0127 - accuracy: 0.9845 - val_loss: 0.0208 - val_accuracy: 0.9751\n",
            "Epoch 8/10\n",
            "1389/1389 [==============================] - 28s 20ms/step - loss: 0.0113 - accuracy: 0.9867 - val_loss: 0.0222 - val_accuracy: 0.9740\n",
            "Epoch 9/10\n",
            "1389/1389 [==============================] - 28s 20ms/step - loss: 0.0104 - accuracy: 0.9877 - val_loss: 0.0212 - val_accuracy: 0.9751\n",
            "Epoch 10/10\n",
            "1389/1389 [==============================] - 27s 20ms/step - loss: 0.0085 - accuracy: 0.9900 - val_loss: 0.0195 - val_accuracy: 0.9768\n"
          ],
          "name": "stdout"
        }
      ]
    },
    {
      "cell_type": "markdown",
      "metadata": {
        "id": "iEtmjxYf3K-i"
      },
      "source": [
        "### 2. ADAM"
      ]
    },
    {
      "cell_type": "code",
      "metadata": {
        "colab": {
          "base_uri": "https://localhost:8080/"
        },
        "id": "nLLPGZB13Ngc",
        "outputId": "86975a6e-b8c8-48cb-863a-c0bed5bdb308"
      },
      "source": [
        "model = get_model()\n",
        "model.compile(optimizer='adam', loss = contrastive_loss, metrics=[accuracy])\n",
        "hist_adam = model.fit(train_pairs, train_labels, batch_size = 64, epochs = 10, validation_data=(test_pairs, test_labels))"
      ],
      "execution_count": null,
      "outputs": [
        {
          "output_type": "stream",
          "text": [
            "Epoch 1/10\n",
            "1389/1389 [==============================] - 26s 18ms/step - loss: 0.1537 - accuracy: 0.7634 - val_loss: 0.0485 - val_accuracy: 0.9406\n",
            "Epoch 2/10\n",
            "1389/1389 [==============================] - 24s 17ms/step - loss: 0.0463 - accuracy: 0.9487 - val_loss: 0.0335 - val_accuracy: 0.9609\n",
            "Epoch 3/10\n",
            "1389/1389 [==============================] - 24s 17ms/step - loss: 0.0271 - accuracy: 0.9698 - val_loss: 0.0260 - val_accuracy: 0.9680\n",
            "Epoch 4/10\n",
            "1389/1389 [==============================] - 24s 18ms/step - loss: 0.0206 - accuracy: 0.9754 - val_loss: 0.0232 - val_accuracy: 0.9721\n",
            "Epoch 5/10\n",
            "1389/1389 [==============================] - 24s 18ms/step - loss: 0.0171 - accuracy: 0.9799 - val_loss: 0.0231 - val_accuracy: 0.9710\n",
            "Epoch 6/10\n",
            "1389/1389 [==============================] - 24s 18ms/step - loss: 0.0149 - accuracy: 0.9828 - val_loss: 0.0224 - val_accuracy: 0.9715\n",
            "Epoch 7/10\n",
            "1389/1389 [==============================] - 24s 17ms/step - loss: 0.0123 - accuracy: 0.9855 - val_loss: 0.0231 - val_accuracy: 0.9717\n",
            "Epoch 8/10\n",
            "1389/1389 [==============================] - 24s 18ms/step - loss: 0.0115 - accuracy: 0.9860 - val_loss: 0.0202 - val_accuracy: 0.9753\n",
            "Epoch 9/10\n",
            "1389/1389 [==============================] - 25s 18ms/step - loss: 0.0104 - accuracy: 0.9878 - val_loss: 0.0206 - val_accuracy: 0.9746\n",
            "Epoch 10/10\n",
            "1389/1389 [==============================] - 25s 18ms/step - loss: 0.0101 - accuracy: 0.9880 - val_loss: 0.0208 - val_accuracy: 0.9753\n"
          ],
          "name": "stdout"
        }
      ]
    },
    {
      "cell_type": "markdown",
      "metadata": {
        "id": "yB7tghlh3TJ6"
      },
      "source": [
        "### 3. Mini Batch Gradient Descent"
      ]
    },
    {
      "cell_type": "code",
      "metadata": {
        "id": "jHmkrJUh315E",
        "colab": {
          "base_uri": "https://localhost:8080/"
        },
        "outputId": "a3bf404d-b648-4114-9acd-dd55cedbdada"
      },
      "source": [
        "model = get_model()\n",
        "model.compile(optimizer='SGD', loss = contrastive_loss, metrics=[accuracy])\n",
        "hist_sgd = model.fit(train_pairs, train_labels, batch_size = 64, epochs = 10, validation_data=(test_pairs, test_labels))"
      ],
      "execution_count": null,
      "outputs": [
        {
          "output_type": "stream",
          "text": [
            "Epoch 1/10\n",
            "1389/1389 [==============================] - 27s 19ms/step - loss: 0.2853 - accuracy: 0.5052 - val_loss: 0.3573 - val_accuracy: 0.5000\n",
            "Epoch 2/10\n",
            "1389/1389 [==============================] - 24s 17ms/step - loss: 0.2506 - accuracy: 0.5198 - val_loss: 0.2994 - val_accuracy: 0.5206\n",
            "Epoch 3/10\n",
            "1389/1389 [==============================] - 24s 17ms/step - loss: 0.2406 - accuracy: 0.5680 - val_loss: 0.2354 - val_accuracy: 0.6291\n",
            "Epoch 4/10\n",
            "1389/1389 [==============================] - 24s 17ms/step - loss: 0.2217 - accuracy: 0.6392 - val_loss: 0.2044 - val_accuracy: 0.6877\n",
            "Epoch 5/10\n",
            "1389/1389 [==============================] - 24s 17ms/step - loss: 0.2049 - accuracy: 0.6869 - val_loss: 0.1875 - val_accuracy: 0.7180\n",
            "Epoch 6/10\n",
            "1389/1389 [==============================] - 24s 17ms/step - loss: 0.1917 - accuracy: 0.7224 - val_loss: 0.1687 - val_accuracy: 0.7567\n",
            "Epoch 7/10\n",
            "1389/1389 [==============================] - 24s 17ms/step - loss: 0.1781 - accuracy: 0.7551 - val_loss: 0.1540 - val_accuracy: 0.7839\n",
            "Epoch 8/10\n",
            "1389/1389 [==============================] - 24s 17ms/step - loss: 0.1672 - accuracy: 0.7738 - val_loss: 0.1440 - val_accuracy: 0.7990\n",
            "Epoch 9/10\n",
            "1389/1389 [==============================] - 24s 17ms/step - loss: 0.1577 - accuracy: 0.7904 - val_loss: 0.1370 - val_accuracy: 0.8091\n",
            "Epoch 10/10\n",
            "1389/1389 [==============================] - 25s 18ms/step - loss: 0.1497 - accuracy: 0.7990 - val_loss: 0.1314 - val_accuracy: 0.8174\n"
          ],
          "name": "stdout"
        }
      ]
    },
    {
      "cell_type": "markdown",
      "metadata": {
        "id": "dbS_V53A4D6O"
      },
      "source": [
        "### Comparision b/w above optimizers"
      ]
    },
    {
      "cell_type": "code",
      "metadata": {
        "id": "S-bvq4jY4SVm",
        "colab": {
          "base_uri": "https://localhost:8080/",
          "height": 300
        },
        "outputId": "8d1810bd-d934-4b9b-82f0-3af699c79980"
      },
      "source": [
        "plt.xlabel('Epoch')\n",
        "plt.ylabel('Loss')\n",
        "plt.ylim([0.0, 0.3])\n",
        "\n",
        "plt.plot(hist_rms.history['loss'], label='RMSProp')\n",
        "plt.plot(hist_adam.history['loss'], label='Adam')\n",
        "plt.plot(hist_sgd.history['loss'], label='Mini Batch Gradient descent') \n",
        "\n",
        "plt.legend()"
      ],
      "execution_count": null,
      "outputs": [
        {
          "output_type": "execute_result",
          "data": {
            "text/plain": [
              "<matplotlib.legend.Legend at 0x7fef2c2d30d0>"
            ]
          },
          "metadata": {
            "tags": []
          },
          "execution_count": 25
        },
        {
          "output_type": "display_data",
          "data": {
            "image/png": "[encoded data removed]",
            "text/plain": [
              "<Figure size 432x288 with 1 Axes>"
            ]
          },
          "metadata": {
            "tags": [],
            "needs_background": "light"
          }
        }
      ]
    },
    {
      "cell_type": "markdown",
      "metadata": {
        "id": "JIK9m1DORfTS"
      },
      "source": [
        "Choosing Adam as a best optimizer because:\n",
        "1. It is Computationally efficient.\n",
        "2. Training time is much lesser then other algorithms.\n",
        "3. Have intuitive interpretation and typically require little tuning."
      ]
    },
    {
      "cell_type": "markdown",
      "metadata": {
        "id": "4w68-p3tE4ES"
      },
      "source": [
        "# Trying Hyperparameters Optimization\n",
        "\n",
        "1. Exponential Annealing\n",
        "2. Earlystopping\n",
        "3. ReduceLr on Pleateau"
      ]
    },
    {
      "cell_type": "code",
      "metadata": {
        "id": "7MZVguDwAEBS"
      },
      "source": [
        "def exp_decay(epoch):\n",
        "   initial_lrate = 0.01\n",
        "   lrate = initial_lrate * math.exp(-0.1*epoch)\n",
        "   return lrate\n",
        "\n",
        "lrt = LearningRateScheduler(exp_decay)\n",
        "\n",
        "# To prevent over fitting we will stop the learning after 5 epochs and val_loss value not decreased\n",
        "earlystop = EarlyStopping(patience=5)\n",
        "\n",
        "# It will reduce the learning rate when accuracy is not increasing for 2 epochs\n",
        "learning_rate_reduction = ReduceLROnPlateau(monitor='val_accuracy', \n",
        "                                            patience=2, \n",
        "                                            verbose=1, \n",
        "                                            factor=0.5, \n",
        "                                            min_lr=0.00001)\n",
        "\n",
        "callbacks = [earlystop, learning_rate_reduction, lrt]"
      ],
      "execution_count": null,
      "outputs": []
    },
    {
      "cell_type": "code",
      "metadata": {
        "id": "ZrsvOYQuF4_U",
        "colab": {
          "base_uri": "https://localhost:8080/"
        },
        "outputId": "52a70eed-45cc-479b-c52f-67c490a96991"
      },
      "source": [
        "model = get_model()\n",
        "model.compile(optimizer='Adam', loss = contrastive_loss, metrics=[accuracy])\n",
        "hist_optimal = model.fit(train_pairs, train_labels, batch_size = 64, epochs = 10, callbacks = callbacks, validation_data=(test_pairs, test_labels))"
      ],
      "execution_count": null,
      "outputs": [
        {
          "output_type": "stream",
          "text": [
            "Epoch 1/10\n",
            "1389/1389 [==============================] - 48s 34ms/step - loss: 0.1896 - accuracy: 0.6817 - val_loss: 0.0620 - val_accuracy: 0.9269\n",
            "Epoch 2/10\n",
            "1389/1389 [==============================] - 33s 23ms/step - loss: 0.0565 - accuracy: 0.9337 - val_loss: 0.0359 - val_accuracy: 0.9536\n",
            "Epoch 3/10\n",
            "1389/1389 [==============================] - 35s 25ms/step - loss: 0.0339 - accuracy: 0.9615 - val_loss: 0.0307 - val_accuracy: 0.9615\n",
            "Epoch 4/10\n",
            "1389/1389 [==============================] - 34s 25ms/step - loss: 0.0246 - accuracy: 0.9712 - val_loss: 0.0269 - val_accuracy: 0.9660\n",
            "Epoch 5/10\n",
            "1389/1389 [==============================] - 31s 22ms/step - loss: 0.0196 - accuracy: 0.9767 - val_loss: 0.0257 - val_accuracy: 0.9686\n",
            "Epoch 6/10\n",
            "1389/1389 [==============================] - 34s 25ms/step - loss: 0.0158 - accuracy: 0.9810 - val_loss: 0.0216 - val_accuracy: 0.9742\n",
            "Epoch 7/10\n",
            "1389/1389 [==============================] - 33s 24ms/step - loss: 0.0137 - accuracy: 0.9839 - val_loss: 0.0211 - val_accuracy: 0.9750\n",
            "Epoch 8/10\n",
            "1389/1389 [==============================] - 32s 23ms/step - loss: 0.0122 - accuracy: 0.9849 - val_loss: 0.0213 - val_accuracy: 0.9744\n",
            "Epoch 9/10\n",
            "1389/1389 [==============================] - 32s 23ms/step - loss: 0.0100 - accuracy: 0.9881 - val_loss: 0.0209 - val_accuracy: 0.9754\n",
            "Epoch 10/10\n",
            "1389/1389 [==============================] - 33s 24ms/step - loss: 0.0087 - accuracy: 0.9895 - val_loss: 0.0215 - val_accuracy: 0.9746\n"
          ],
          "name": "stdout"
        }
      ]
    },
    {
      "cell_type": "markdown",
      "metadata": {
        "id": "EVhg6s8hbEpZ"
      },
      "source": [
        "# Pros And Cons Of Saimese Network"
      ]
    },
    {
      "cell_type": "markdown",
      "metadata": {
        "id": "7GqeTdR8b_Sl"
      },
      "source": [
        "#### Pros :\n",
        "\n",
        "1. More robust to class imbalance problem.\n",
        "2. Can be used with very less amount of data.\n",
        "3. Can be easily ensemble with best classifier.\n",
        "4. This algorithm learns embeddings the place the objects of same class together.\n",
        "5. Can also handle varying input requirements."
      ]
    },
    {
      "cell_type": "markdown",
      "metadata": {
        "id": "7sZgLozFcvfA"
      },
      "source": [
        "#### Cons :"
      ]
    },
    {
      "cell_type": "markdown",
      "metadata": {
        "id": "Hs3RblV2cz3b"
      },
      "source": [
        "1. It takes more training time as compared to other networks.\n",
        "2. It will not output probabilities (which is required in many cases)"
      ]
    }
  ]
}