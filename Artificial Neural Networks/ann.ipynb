{
  "nbformat": 4,
  "nbformat_minor": 0,
  "metadata": {
    "colab": {
      "name": "Q3.ipynb",
      "provenance": []
    },
    "kernelspec": {
      "name": "python3",
      "display_name": "Python 3"
    },
    "language_info": {
      "name": "python"
    },
    "accelerator": "TPU"
  },
  "cells": [
    {
      "cell_type": "markdown",
      "metadata": {
        "id": "GRsrhH9zcfAT"
      },
      "source": [
        "# PART : 1"
      ]
    },
    {
      "cell_type": "markdown",
      "metadata": {
        "id": "p5AHVVfZl6n3"
      },
      "source": [
        "### Importing Dependencies\n"
      ]
    },
    {
      "cell_type": "code",
      "metadata": {
        "id": "T9ZjnARktSqM"
      },
      "source": [
        "import numpy as np\n",
        "import math\n",
        "import tensorflow as tf\n",
        "import keras\n",
        "import matplotlib.pyplot as plt\n",
        "from keras.datasets import mnist\n",
        "from keras.utils import to_categorical\n",
        "from sklearn.model_selection import train_test_split\n",
        "from keras.models import Sequential, Model\n",
        "from keras.layers import Dense, Dropout, Activation, Flatten, MaxPool2D, LeakyReLU, Input\n",
        "from keras.layers import Conv2D, BatchNormalization\n",
        "from keras.optimizers import RMSprop\n",
        "from keras.optimizers import Adam\n",
        "from keras.optimizers import SGD\n",
        "from keras.models import load_model\n",
        "from keras.preprocessing.image import ImageDataGenerator\n",
        "from keras.utils.vis_utils import plot_model\n",
        "from keras.callbacks import EarlyStopping, ReduceLROnPlateau, LearningRateScheduler\n",
        "from keras.callbacks import ModelCheckpoint"
      ],
      "execution_count": null,
      "outputs": []
    },
    {
      "cell_type": "markdown",
      "metadata": {
        "id": "s-nwx6lCmpvp"
      },
      "source": [
        "### Train Test Split"
      ]
    },
    {
      "cell_type": "code",
      "metadata": {
        "colab": {
          "base_uri": "https://localhost:8080/"
        },
        "id": "7cXr5REouOyM",
        "outputId": "32583507-ec04-4258-dc87-68ede5abb2dc"
      },
      "source": [
        "(x_train, y_train) , (x_test, y_test) = mnist.load_data()\n",
        "\n",
        "x = np.concatenate((x_train, x_test), axis=0)\n",
        "y = np.concatenate((y_train, y_test), axis=0)\n",
        "x_train, x_test, y_train, y_test = train_test_split(x, y, test_size=0.3, random_state=55)\n",
        "\n",
        "x_train= x_train.reshape(x_train.shape[0], 28, 28, 1)\n",
        "x_test = x_test.reshape(x_test.shape[0],28,28,1)\n",
        "print(\"\\nData after 70:30 split\")\n",
        "print(\"----------------------\\n\")\n",
        "print(\"X_train shape :\", x_train.shape)\n",
        "print(\"y_train shape :\", y_train.shape)\n",
        "print(\"X_test shape :\", x_test.shape)\n",
        "print(\"y_test shape :\", y_test.shape)"
      ],
      "execution_count": null,
      "outputs": [
        {
          "output_type": "stream",
          "text": [
            "\n",
            "Data after 70:30 split\n",
            "----------------------\n",
            "\n",
            "X_train shape : (49000, 28, 28, 1)\n",
            "y_train shape : (49000,)\n",
            "X_test shape : (21000, 28, 28, 1)\n",
            "y_test shape : (21000,)\n"
          ],
          "name": "stdout"
        }
      ]
    },
    {
      "cell_type": "markdown",
      "metadata": {
        "id": "eGvASGGFrw18"
      },
      "source": [
        "### Normalize Data"
      ]
    },
    {
      "cell_type": "code",
      "metadata": {
        "id": "KezVuvGPvi9j"
      },
      "source": [
        "def normalize_data(x_train, x_test):\n",
        "    x_train = x_train / 255.0\n",
        "    x_test = x_test / 255.0\n",
        "    return x_train, x_test\n",
        "    \n",
        "x_train, x_test = normalize_data(x_train, x_test)"
      ],
      "execution_count": null,
      "outputs": []
    },
    {
      "cell_type": "markdown",
      "metadata": {
        "id": "B_lyOIwRr8fC"
      },
      "source": [
        "### Converting Labels to Categorical format"
      ]
    },
    {
      "cell_type": "code",
      "metadata": {
        "id": "HSFLved4AsHy"
      },
      "source": [
        "def process_labels(y_train, y_test):\n",
        "    y_train = to_categorical(y_train)\n",
        "    y_test = to_categorical(y_test)\n",
        "    return y_train, y_test\n",
        "\n",
        "y_train, y_test = process_labels(y_train, y_test)    "
      ],
      "execution_count": null,
      "outputs": []
    },
    {
      "cell_type": "markdown",
      "metadata": {
        "id": "jdetLQye62KA"
      },
      "source": [
        "# Running for various Optimizers"
      ]
    },
    {
      "cell_type": "markdown",
      "metadata": {
        "id": "uUpHz6gmTtE2"
      },
      "source": [
        "### 1. Training Neural Net with ADAM"
      ]
    },
    {
      "cell_type": "code",
      "metadata": {
        "colab": {
          "base_uri": "https://localhost:8080/"
        },
        "id": "F_kiUR9UA1J7",
        "outputId": "9e953304-dbb6-492a-f6b7-b7e461681e2b"
      },
      "source": [
        "model = Sequential()\n",
        "model.add(Flatten())\n",
        "model.add(Dense(512))\n",
        "model.add(Activation('relu'))\n",
        "model.add(Dropout(0.3))\n",
        "model.add(Dense(64))\n",
        "model.add(Activation('relu'))\n",
        "model.add(Dropout(0.2))\n",
        "model.add(Dense(10))\n",
        "model.add(Activation('softmax'))\n",
        "\n",
        "train_gen = ImageDataGenerator(rotation_range=8, width_shift_range=0.08, shear_range=0.3, height_shift_range=0.08)\n",
        "test_gen = ImageDataGenerator()\n",
        "training_set= train_gen.flow(x_train, y_train, batch_size=64)\n",
        "test_set= train_gen.flow(x_test, y_test, batch_size=64)\n",
        "\n",
        "# To prevent over fitting we will stop the learning after 5 epochs and val_loss value not decreased\n",
        "earlystop = EarlyStopping(patience=5)\n",
        "# It will reduce the learning rate when accuracy is not increasing for 2 epochs\n",
        "learning_rate_reduction = ReduceLROnPlateau(monitor='val_accuracy', patience=2, verbose=1, factor=0.5, min_lr=0.00001)\n",
        "callbacks = [earlystop, learning_rate_reduction]\n",
        "\n",
        "model.compile(optimizer = 'Adam', loss = 'categorical_crossentropy', metrics=['accuracy'])\n",
        "hist_adam = model.fit_generator(training_set, steps_per_epoch=49000//64, validation_data= test_set, callbacks = callbacks, validation_steps=21000//64, epochs=10)"
      ],
      "execution_count": null,
      "outputs": [
        {
          "output_type": "stream",
          "text": [
            "/usr/local/lib/python3.7/dist-packages/tensorflow/python/keras/engine/training.py:1844: UserWarning: `Model.fit_generator` is deprecated and will be removed in a future version. Please use `Model.fit`, which supports generators.\n",
            "  warnings.warn('`Model.fit_generator` is deprecated and '\n"
          ],
          "name": "stderr"
        },
        {
          "output_type": "stream",
          "text": [
            "Epoch 1/10\n",
            "765/765 [==============================] - 27s 34ms/step - loss: 0.8574 - accuracy: 0.7223 - val_loss: 0.2182 - val_accuracy: 0.9358\n",
            "Epoch 2/10\n",
            "765/765 [==============================] - 25s 33ms/step - loss: 0.2696 - accuracy: 0.9188 - val_loss: 0.1561 - val_accuracy: 0.9534\n",
            "Epoch 3/10\n",
            "765/765 [==============================] - 25s 33ms/step - loss: 0.2079 - accuracy: 0.9358 - val_loss: 0.1371 - val_accuracy: 0.9575\n",
            "Epoch 4/10\n",
            "765/765 [==============================] - 25s 33ms/step - loss: 0.1842 - accuracy: 0.9450 - val_loss: 0.1279 - val_accuracy: 0.9595\n",
            "Epoch 5/10\n",
            "765/765 [==============================] - 26s 34ms/step - loss: 0.1682 - accuracy: 0.9480 - val_loss: 0.1128 - val_accuracy: 0.9669\n",
            "Epoch 6/10\n",
            "765/765 [==============================] - 26s 34ms/step - loss: 0.1467 - accuracy: 0.9553 - val_loss: 0.1009 - val_accuracy: 0.9691\n",
            "Epoch 7/10\n",
            "765/765 [==============================] - 26s 34ms/step - loss: 0.1479 - accuracy: 0.9550 - val_loss: 0.1028 - val_accuracy: 0.9688\n",
            "Epoch 8/10\n",
            "765/765 [==============================] - 26s 34ms/step - loss: 0.1392 - accuracy: 0.9576 - val_loss: 0.0958 - val_accuracy: 0.9705\n",
            "Epoch 9/10\n",
            "765/765 [==============================] - 26s 34ms/step - loss: 0.1297 - accuracy: 0.9609 - val_loss: 0.0981 - val_accuracy: 0.9698\n",
            "Epoch 10/10\n",
            "765/765 [==============================] - 26s 34ms/step - loss: 0.1251 - accuracy: 0.9623 - val_loss: 0.0875 - val_accuracy: 0.9721\n"
          ],
          "name": "stdout"
        }
      ]
    },
    {
      "cell_type": "code",
      "metadata": {
        "colab": {
          "base_uri": "https://localhost:8080/",
          "height": 295
        },
        "id": "pzv6XbrtYbrJ",
        "outputId": "44ccafbb-c9dc-4335-9b80-279c660110ca"
      },
      "source": [
        "fig = plt.figure()\n",
        "ax = fig.add_subplot(111)\n",
        "ax.set_facecolor('w')\n",
        "ax.grid(b=False)\n",
        "ax.plot(hist_adam.history['loss'], color='red')\n",
        "ax.plot(hist_adam.history['val_loss'], color ='green')\n",
        "plt.title('model loss')\n",
        "plt.ylabel('loss')\n",
        "plt.xlabel('epoch')\n",
        "plt.legend(['train', 'test'], loc='upper right')\n",
        "plt.show()"
      ],
      "execution_count": null,
      "outputs": [
        {
          "output_type": "display_data",
          "data": {
            "image/png": "[encoded data removed]",
            "text/plain": [
              "<Figure size 432x288 with 1 Axes>"
            ]
          },
          "metadata": {
            "tags": [],
            "needs_background": "light"
          }
        }
      ]
    },
    {
      "cell_type": "markdown",
      "metadata": {
        "id": "AmdHu3zLSQUK"
      },
      "source": [
        "### 2. Training Neural Net with RMSProp\n",
        "\n"
      ]
    },
    {
      "cell_type": "code",
      "metadata": {
        "colab": {
          "base_uri": "https://localhost:8080/"
        },
        "id": "SopAsOyrXcG1",
        "outputId": "48c8d939-f196-47d9-8b83-dcccd5ad1e58"
      },
      "source": [
        "model2 = Sequential()\n",
        "model2.add(Flatten())\n",
        "model2.add(Dense(512))\n",
        "model2.add(Activation('relu'))\n",
        "model2.add(Dropout(0.3))\n",
        "model2.add(Dense(64))\n",
        "model2.add(Activation('relu'))\n",
        "model2.add(Dropout(0.2))\n",
        "model2.add(Dense(10))\n",
        "model2.add(Activation('softmax'))\n",
        "\n",
        "train_gen = ImageDataGenerator(rotation_range=8, width_shift_range=0.08, shear_range=0.3, height_shift_range=0.08)\n",
        "test_gen = ImageDataGenerator()\n",
        "training_set= train_gen.flow(x_train, y_train, batch_size=64)\n",
        "test_set= train_gen.flow(x_test, y_test, batch_size=64)\n",
        "\n",
        "# To prevent over fitting we will stop the learning after 5 epochs and val_loss value not decreased\n",
        "earlystop = EarlyStopping(patience=5)\n",
        "# It will reduce the learning rate when accuracy is not increasing for 2 epochs\n",
        "learning_rate_reduction = ReduceLROnPlateau(monitor='val_accuracy', patience=2, verbose=1, factor=0.5, min_lr=0.00001)\n",
        "callbacks = [earlystop, learning_rate_reduction]\n",
        "\n",
        "model2.compile(optimizer = 'RMSprop', loss = 'categorical_crossentropy', metrics=['accuracy'])\n",
        "hist_rms = model2.fit_generator(training_set, steps_per_epoch=49000//64, validation_data= test_set, callbacks = callbacks, validation_steps=21000//64, epochs=10)"
      ],
      "execution_count": null,
      "outputs": [
        {
          "output_type": "stream",
          "text": [
            "/usr/local/lib/python3.7/dist-packages/tensorflow/python/keras/engine/training.py:1844: UserWarning: `Model.fit_generator` is deprecated and will be removed in a future version. Please use `Model.fit`, which supports generators.\n",
            "  warnings.warn('`Model.fit_generator` is deprecated and '\n"
          ],
          "name": "stderr"
        },
        {
          "output_type": "stream",
          "text": [
            "Epoch 1/10\n",
            "765/765 [==============================] - 28s 36ms/step - loss: 0.8384 - accuracy: 0.7303 - val_loss: 0.2215 - val_accuracy: 0.9317\n",
            "Epoch 2/10\n",
            "765/765 [==============================] - 27s 36ms/step - loss: 0.2684 - accuracy: 0.9204 - val_loss: 0.1757 - val_accuracy: 0.9473\n",
            "Epoch 3/10\n",
            "765/765 [==============================] - 27s 36ms/step - loss: 0.2101 - accuracy: 0.9369 - val_loss: 0.1387 - val_accuracy: 0.9586\n",
            "Epoch 4/10\n",
            "765/765 [==============================] - 28s 36ms/step - loss: 0.1857 - accuracy: 0.9467 - val_loss: 0.1303 - val_accuracy: 0.9605\n",
            "Epoch 5/10\n",
            "765/765 [==============================] - 27s 35ms/step - loss: 0.1820 - accuracy: 0.9487 - val_loss: 0.1279 - val_accuracy: 0.9649\n",
            "Epoch 6/10\n",
            "765/765 [==============================] - 27s 35ms/step - loss: 0.1747 - accuracy: 0.9518 - val_loss: 0.1205 - val_accuracy: 0.9647\n",
            "Epoch 7/10\n",
            "765/765 [==============================] - 27s 36ms/step - loss: 0.1648 - accuracy: 0.9550 - val_loss: 0.1200 - val_accuracy: 0.9667\n",
            "Epoch 8/10\n",
            "765/765 [==============================] - 29s 37ms/step - loss: 0.1634 - accuracy: 0.9562 - val_loss: 0.1222 - val_accuracy: 0.9678\n",
            "Epoch 9/10\n",
            "765/765 [==============================] - 27s 35ms/step - loss: 0.1645 - accuracy: 0.9571 - val_loss: 0.1100 - val_accuracy: 0.9711\n",
            "Epoch 10/10\n",
            "765/765 [==============================] - 27s 36ms/step - loss: 0.1555 - accuracy: 0.9597 - val_loss: 0.1106 - val_accuracy: 0.9706\n"
          ],
          "name": "stdout"
        }
      ]
    },
    {
      "cell_type": "code",
      "metadata": {
        "colab": {
          "base_uri": "https://localhost:8080/",
          "height": 295
        },
        "id": "Elh8QeqqesFX",
        "outputId": "2519580c-2116-46c0-8204-6dc001cfb630"
      },
      "source": [
        "fig = plt.figure()\n",
        "ax = fig.add_subplot(111)\n",
        "ax.set_facecolor('w')\n",
        "ax.grid(b=False)\n",
        "ax.plot(hist_rms.history['loss'], color='red')\n",
        "ax.plot(hist_rms.history['val_loss'], color ='green')\n",
        "plt.title('model loss')\n",
        "plt.ylabel('loss')\n",
        "plt.xlabel('epoch')\n",
        "plt.legend(['train', 'test'], loc='upper right')\n",
        "plt.show()"
      ],
      "execution_count": null,
      "outputs": [
        {
          "output_type": "display_data",
          "data": {
            "image/png": "[encoded data removed]",
            "text/plain": [
              "<Figure size 432x288 with 1 Axes>"
            ]
          },
          "metadata": {
            "tags": [],
            "needs_background": "light"
          }
        }
      ]
    },
    {
      "cell_type": "markdown",
      "metadata": {
        "id": "fPy5kdPvX944"
      },
      "source": [
        "### 3. Training Neural Net with SGD"
      ]
    },
    {
      "cell_type": "code",
      "metadata": {
        "colab": {
          "base_uri": "https://localhost:8080/"
        },
        "id": "t_yu0eLSYOtP",
        "outputId": "0d2f2ae5-5e80-4570-c4dd-6e0e8f66cdac"
      },
      "source": [
        "model3 = Sequential()\n",
        "model3.add(Flatten())\n",
        "model3.add(Dense(512))\n",
        "model3.add(Activation('relu'))\n",
        "model3.add(Dropout(0.3))\n",
        "model3.add(Dense(64))\n",
        "model3.add(Activation('relu'))\n",
        "model3.add(Dropout(0.2))\n",
        "model3.add(Dense(10))\n",
        "model3.add(Activation('softmax'))\n",
        "\n",
        "train_gen = ImageDataGenerator(rotation_range=8, width_shift_range=0.08, shear_range=0.3, height_shift_range=0.08)\n",
        "test_gen = ImageDataGenerator()\n",
        "training_set= train_gen.flow(x_train, y_train, batch_size=64)\n",
        "test_set= train_gen.flow(x_test, y_test, batch_size=64)\n",
        "\n",
        "# To prevent over fitting we will stop the learning after 5 epochs and val_loss value not decreased\n",
        "earlystop = EarlyStopping(patience=5)\n",
        "# It will reduce the learning rate when accuracy is not increasing for 2 epochs\n",
        "learning_rate_reduction = ReduceLROnPlateau(monitor='val_accuracy', patience=2, verbose=1, factor=0.5, min_lr=0.00001)\n",
        "callbacks = [earlystop, learning_rate_reduction]\n",
        "\n",
        "model3.compile(optimizer = 'SGD', loss = 'categorical_crossentropy', metrics=['accuracy'])\n",
        "hist_sgd = model3.fit_generator(training_set, steps_per_epoch=49000//64, validation_data= test_set, callbacks = callbacks, validation_steps=21000//64, epochs=10)"
      ],
      "execution_count": null,
      "outputs": [
        {
          "output_type": "stream",
          "text": [
            "/usr/local/lib/python3.7/dist-packages/tensorflow/python/keras/engine/training.py:1844: UserWarning: `Model.fit_generator` is deprecated and will be removed in a future version. Please use `Model.fit`, which supports generators.\n",
            "  warnings.warn('`Model.fit_generator` is deprecated and '\n"
          ],
          "name": "stderr"
        },
        {
          "output_type": "stream",
          "text": [
            "Epoch 1/10\n",
            "765/765 [==============================] - 25s 32ms/step - loss: 1.9104 - accuracy: 0.3517 - val_loss: 0.9784 - val_accuracy: 0.7242\n",
            "Epoch 2/10\n",
            "765/765 [==============================] - 24s 32ms/step - loss: 1.0479 - accuracy: 0.6667 - val_loss: 0.7345 - val_accuracy: 0.7908\n",
            "Epoch 3/10\n",
            "765/765 [==============================] - 24s 32ms/step - loss: 0.8140 - accuracy: 0.7512 - val_loss: 0.5966 - val_accuracy: 0.8336\n",
            "Epoch 4/10\n",
            "765/765 [==============================] - 24s 32ms/step - loss: 0.6906 - accuracy: 0.7895 - val_loss: 0.5062 - val_accuracy: 0.8562\n",
            "Epoch 5/10\n",
            "765/765 [==============================] - 24s 32ms/step - loss: 0.5974 - accuracy: 0.8228 - val_loss: 0.4459 - val_accuracy: 0.8743\n",
            "Epoch 6/10\n",
            "765/765 [==============================] - 24s 32ms/step - loss: 0.5328 - accuracy: 0.8417 - val_loss: 0.3938 - val_accuracy: 0.8892\n",
            "Epoch 7/10\n",
            "765/765 [==============================] - 24s 32ms/step - loss: 0.4802 - accuracy: 0.8573 - val_loss: 0.3499 - val_accuracy: 0.8995\n",
            "Epoch 8/10\n",
            "765/765 [==============================] - 24s 32ms/step - loss: 0.4394 - accuracy: 0.8701 - val_loss: 0.3149 - val_accuracy: 0.9108\n",
            "Epoch 9/10\n",
            "765/765 [==============================] - 25s 32ms/step - loss: 0.4014 - accuracy: 0.8804 - val_loss: 0.2936 - val_accuracy: 0.9147\n",
            "Epoch 10/10\n",
            "765/765 [==============================] - 24s 32ms/step - loss: 0.3725 - accuracy: 0.8907 - val_loss: 0.2682 - val_accuracy: 0.9236\n"
          ],
          "name": "stdout"
        }
      ]
    },
    {
      "cell_type": "code",
      "metadata": {
        "colab": {
          "base_uri": "https://localhost:8080/",
          "height": 295
        },
        "id": "zQbtQexjfGSj",
        "outputId": "9879b39a-d251-4d4c-8247-35ab9b427998"
      },
      "source": [
        "fig = plt.figure()\n",
        "ax = fig.add_subplot(111)\n",
        "ax.set_facecolor('w')\n",
        "ax.grid(b=False)\n",
        "ax.plot(hist_sgd.history['loss'], color='red')\n",
        "ax.plot(hist_sgd.history['val_loss'], color ='green')\n",
        "plt.title('model loss')\n",
        "plt.ylabel('loss')\n",
        "plt.xlabel('epoch')\n",
        "plt.legend(['train', 'test'], loc='upper right')\n",
        "plt.show()"
      ],
      "execution_count": null,
      "outputs": [
        {
          "output_type": "display_data",
          "data": {
            "image/png": "[encoded data removed]",
            "text/plain": [
              "<Figure size 432x288 with 1 Axes>"
            ]
          },
          "metadata": {
            "tags": [],
            "needs_background": "light"
          }
        }
      ]
    },
    {
      "cell_type": "markdown",
      "metadata": {
        "id": "4n2ppuNKfaTM"
      },
      "source": [
        "### 4. Training Neural Net with SGD (Momentum)\n",
        "\n",
        "\n"
      ]
    },
    {
      "cell_type": "code",
      "metadata": {
        "colab": {
          "base_uri": "https://localhost:8080/"
        },
        "id": "OqbI1Rhlfh-J",
        "outputId": "01d53ccd-64ea-4d62-f394-d9957bbbbbf1"
      },
      "source": [
        "model4 = Sequential()\n",
        "model4.add(Flatten())\n",
        "model4.add(Dense(512))\n",
        "model4.add(Activation('relu'))\n",
        "model4.add(Dropout(0.3))\n",
        "model4.add(Dense(64))\n",
        "model4.add(Activation('relu'))\n",
        "model4.add(Dropout(0.2))\n",
        "model4.add(Dense(10))\n",
        "model4.add(Activation('softmax'))\n",
        "\n",
        "train_gen = ImageDataGenerator(rotation_range=8, width_shift_range=0.08, shear_range=0.3, height_shift_range=0.08)\n",
        "test_gen = ImageDataGenerator()\n",
        "training_set= train_gen.flow(x_train, y_train, batch_size=64)\n",
        "test_set= train_gen.flow(x_test, y_test, batch_size=64)\n",
        "\n",
        "# To prevent over fitting we will stop the learning after 5 epochs and val_loss value not decreased\n",
        "earlystop = EarlyStopping(patience=5)\n",
        "# It will reduce the learning rate when accuracy is not increasing for 2 epochs\n",
        "learning_rate_reduction = ReduceLROnPlateau(monitor='val_accuracy', patience=2, verbose=1, factor=0.5, min_lr=0.00001)\n",
        "callbacks = [earlystop, learning_rate_reduction]\n",
        "\n",
        "model4.compile(optimizer = SGD(lr=0.01, momentum=0.9), loss = 'categorical_crossentropy', metrics=['accuracy'])\n",
        "hist_sgdm = model4.fit_generator(training_set, steps_per_epoch=49000//64, validation_data= test_set, callbacks = callbacks, validation_steps=21000//64, epochs=10)"
      ],
      "execution_count": null,
      "outputs": [
        {
          "output_type": "stream",
          "text": [
            "/usr/local/lib/python3.7/dist-packages/tensorflow/python/keras/engine/training.py:1844: UserWarning: `Model.fit_generator` is deprecated and will be removed in a future version. Please use `Model.fit`, which supports generators.\n",
            "  warnings.warn('`Model.fit_generator` is deprecated and '\n"
          ],
          "name": "stderr"
        },
        {
          "output_type": "stream",
          "text": [
            "Epoch 1/10\n",
            "765/765 [==============================] - 26s 33ms/step - loss: 1.1714 - accuracy: 0.6118 - val_loss: 0.3258 - val_accuracy: 0.9063\n",
            "Epoch 2/10\n",
            "765/765 [==============================] - 25s 33ms/step - loss: 0.3747 - accuracy: 0.8869 - val_loss: 0.2172 - val_accuracy: 0.9354\n",
            "Epoch 3/10\n",
            "765/765 [==============================] - 25s 32ms/step - loss: 0.2867 - accuracy: 0.9141 - val_loss: 0.1731 - val_accuracy: 0.9477\n",
            "Epoch 4/10\n",
            "765/765 [==============================] - 24s 32ms/step - loss: 0.2340 - accuracy: 0.9303 - val_loss: 0.1516 - val_accuracy: 0.9536\n",
            "Epoch 5/10\n",
            "765/765 [==============================] - 25s 32ms/step - loss: 0.2022 - accuracy: 0.9384 - val_loss: 0.1375 - val_accuracy: 0.9581\n",
            "Epoch 6/10\n",
            "765/765 [==============================] - 25s 32ms/step - loss: 0.1877 - accuracy: 0.9444 - val_loss: 0.1238 - val_accuracy: 0.9616\n",
            "Epoch 7/10\n",
            "765/765 [==============================] - 25s 32ms/step - loss: 0.1736 - accuracy: 0.9474 - val_loss: 0.1257 - val_accuracy: 0.9622\n",
            "Epoch 8/10\n",
            "765/765 [==============================] - 25s 33ms/step - loss: 0.1627 - accuracy: 0.9509 - val_loss: 0.1083 - val_accuracy: 0.9679\n",
            "Epoch 9/10\n",
            "765/765 [==============================] - 25s 32ms/step - loss: 0.1537 - accuracy: 0.9530 - val_loss: 0.1065 - val_accuracy: 0.9674\n",
            "Epoch 10/10\n",
            "765/765 [==============================] - 25s 32ms/step - loss: 0.1415 - accuracy: 0.9575 - val_loss: 0.0994 - val_accuracy: 0.9692\n"
          ],
          "name": "stdout"
        }
      ]
    },
    {
      "cell_type": "code",
      "metadata": {
        "colab": {
          "base_uri": "https://localhost:8080/",
          "height": 295
        },
        "id": "UhXbWM0wfuB9",
        "outputId": "74cdae32-31ff-4719-ccfc-129cbd1facfd"
      },
      "source": [
        "fig = plt.figure()\n",
        "ax = fig.add_subplot(111)\n",
        "ax.set_facecolor('w')\n",
        "ax.grid(b=False)\n",
        "ax.plot(hist_sgdm.history['loss'], color='red')\n",
        "ax.plot(hist_sgdm.history['val_loss'], color ='green')\n",
        "plt.title('model loss')\n",
        "plt.ylabel('loss')\n",
        "plt.xlabel('epoch')\n",
        "plt.legend(['train', 'test'], loc='upper right')\n",
        "plt.show()"
      ],
      "execution_count": null,
      "outputs": [
        {
          "output_type": "display_data",
          "data": {
            "image/png": "[encoded data removed]",
            "text/plain": [
              "<Figure size 432x288 with 1 Axes>"
            ]
          },
          "metadata": {
            "tags": [],
            "needs_background": "light"
          }
        }
      ]
    },
    {
      "cell_type": "code",
      "metadata": {
        "id": "AWHJ5pd675Fw"
      },
      "source": [
        "model.save('model_adam.h5')\n",
        "model2.save('model_rms.h5')\n",
        "model3.save('model_sgd.h5')\n",
        "model4.save('model_sgdm.h5')"
      ],
      "execution_count": null,
      "outputs": []
    },
    {
      "cell_type": "markdown",
      "metadata": {
        "id": "E3XrLI8o6Zl8"
      },
      "source": [
        "### Comparision between above optimizers"
      ]
    },
    {
      "cell_type": "code",
      "metadata": {
        "colab": {
          "base_uri": "https://localhost:8080/",
          "height": 300
        },
        "id": "yga5pSPw6e-Z",
        "outputId": "338e0bae-6496-46ba-f708-dde9c502601d"
      },
      "source": [
        "plt.xlabel('Epoch')\n",
        "plt.ylabel('Loss')\n",
        "plt.ylim([0.0, 1])\n",
        "\n",
        "plt.plot(hist_adam.history['loss'], label='ADAM')\n",
        "plt.plot(hist_rms.history['loss'], label='RMSProp')\n",
        "plt.plot(hist_sgd.history['loss'], label='SGD WITHOUT MOMENTUM') \n",
        "plt.plot(hist_sgdm.history['loss'], label='SGD WITH MOMENTUM')\n",
        "\n",
        "plt.legend()"
      ],
      "execution_count": null,
      "outputs": [
        {
          "output_type": "execute_result",
          "data": {
            "text/plain": [
              "<matplotlib.legend.Legend at 0x7f1fdd716150>"
            ]
          },
          "metadata": {
            "tags": []
          },
          "execution_count": 14
        },
        {
          "output_type": "display_data",
          "data": {
            "image/png": "[encoded data removed]",
            "text/plain": [
              "<Figure size 432x288 with 1 Axes>"
            ]
          },
          "metadata": {
            "tags": [],
            "needs_background": "light"
          }
        }
      ]
    },
    {
      "cell_type": "markdown",
      "metadata": {
        "id": "ryKkNT1YkP3y"
      },
      "source": [
        "## Running for various Weight Initializers\n",
        "\n",
        "### Optimizer used : ADAM\n"
      ]
    },
    {
      "cell_type": "markdown",
      "metadata": {
        "id": "h3DlT3xYkl8Q"
      },
      "source": [
        "### 1. Training Neural Net with Xavier Initialization\n"
      ]
    },
    {
      "cell_type": "code",
      "metadata": {
        "colab": {
          "base_uri": "https://localhost:8080/"
        },
        "id": "XWKY4HzukPYv",
        "outputId": "6bb66de5-babd-438d-af9e-b45ecb58073e"
      },
      "source": [
        "model5 = Sequential()\n",
        "model5.add(Flatten())\n",
        "model5.add(Dense(512, kernel_initializer='glorot_uniform'))\n",
        "model5.add(Activation('relu'))\n",
        "model5.add(Dropout(0.3))\n",
        "model5.add(Dense(64, kernel_initializer='glorot_uniform'))\n",
        "model5.add(Activation('relu'))\n",
        "model5.add(Dropout(0.2))\n",
        "model5.add(Dense(10, kernel_initializer='glorot_uniform'))\n",
        "model5.add(Activation('softmax'))\n",
        "\n",
        "train_gen = ImageDataGenerator(rotation_range=8, width_shift_range=0.08, shear_range=0.3, height_shift_range=0.08)\n",
        "test_gen = ImageDataGenerator()\n",
        "training_set= train_gen.flow(x_train, y_train, batch_size=64)\n",
        "test_set= train_gen.flow(x_test, y_test, batch_size=64)\n",
        "\n",
        "# To prevent over fitting we will stop the learning after 5 epochs and val_loss value not decreased\n",
        "earlystop = EarlyStopping(patience=5)\n",
        "# It will reduce the learning rate when accuracy is not increasing for 2 epochs\n",
        "learning_rate_reduction = ReduceLROnPlateau(monitor='val_accuracy', patience=2, verbose=1, factor=0.5, min_lr=0.00001)\n",
        "callbacks = [earlystop, learning_rate_reduction]\n",
        "\n",
        "model5.compile(optimizer = 'Adam', loss = 'categorical_crossentropy', metrics=['accuracy'])\n",
        "hist_xavier = model5.fit_generator(training_set, steps_per_epoch=49000//64, validation_data= test_set, callbacks = callbacks, validation_steps=21000//64, epochs=10)"
      ],
      "execution_count": null,
      "outputs": [
        {
          "output_type": "stream",
          "text": [
            "/usr/local/lib/python3.7/dist-packages/tensorflow/python/keras/engine/training.py:1844: UserWarning: `Model.fit_generator` is deprecated and will be removed in a future version. Please use `Model.fit`, which supports generators.\n",
            "  warnings.warn('`Model.fit_generator` is deprecated and '\n"
          ],
          "name": "stderr"
        },
        {
          "output_type": "stream",
          "text": [
            "Epoch 1/10\n",
            "765/765 [==============================] - 27s 34ms/step - loss: 0.8850 - accuracy: 0.7127 - val_loss: 0.2084 - val_accuracy: 0.9364\n",
            "Epoch 2/10\n",
            "765/765 [==============================] - 26s 34ms/step - loss: 0.2691 - accuracy: 0.9182 - val_loss: 0.1647 - val_accuracy: 0.9509\n",
            "Epoch 3/10\n",
            "765/765 [==============================] - 26s 34ms/step - loss: 0.2147 - accuracy: 0.9349 - val_loss: 0.1386 - val_accuracy: 0.9573\n",
            "Epoch 4/10\n",
            "765/765 [==============================] - 26s 34ms/step - loss: 0.1798 - accuracy: 0.9424 - val_loss: 0.1233 - val_accuracy: 0.9627\n",
            "Epoch 5/10\n",
            "765/765 [==============================] - 25s 33ms/step - loss: 0.1698 - accuracy: 0.9494 - val_loss: 0.1237 - val_accuracy: 0.9600\n",
            "Epoch 6/10\n",
            "765/765 [==============================] - 25s 33ms/step - loss: 0.1518 - accuracy: 0.9519 - val_loss: 0.1106 - val_accuracy: 0.9652\n",
            "Epoch 7/10\n",
            "765/765 [==============================] - 25s 33ms/step - loss: 0.1433 - accuracy: 0.9556 - val_loss: 0.1040 - val_accuracy: 0.9676\n",
            "Epoch 8/10\n",
            "765/765 [==============================] - 26s 34ms/step - loss: 0.1386 - accuracy: 0.9575 - val_loss: 0.0913 - val_accuracy: 0.9724\n",
            "Epoch 9/10\n",
            "765/765 [==============================] - 27s 35ms/step - loss: 0.1262 - accuracy: 0.9613 - val_loss: 0.0884 - val_accuracy: 0.9710\n",
            "Epoch 10/10\n",
            "765/765 [==============================] - 25s 33ms/step - loss: 0.1282 - accuracy: 0.9615 - val_loss: 0.0889 - val_accuracy: 0.9731\n"
          ],
          "name": "stdout"
        }
      ]
    },
    {
      "cell_type": "code",
      "metadata": {
        "colab": {
          "base_uri": "https://localhost:8080/",
          "height": 295
        },
        "id": "55DiSCk6mqjZ",
        "outputId": "3b0b7099-99ff-4748-e5ee-9e325d0ac8d7"
      },
      "source": [
        "fig = plt.figure()\n",
        "ax = fig.add_subplot(111)\n",
        "ax.set_facecolor('w')\n",
        "ax.grid(b=False)\n",
        "ax.plot(hist_xavier.history['loss'], color='red')\n",
        "ax.plot(hist_xavier.history['val_loss'], color ='green')\n",
        "plt.title('model loss')\n",
        "plt.ylabel('loss')\n",
        "plt.xlabel('epoch')\n",
        "plt.legend(['train', 'test'], loc='upper right')\n",
        "plt.show()"
      ],
      "execution_count": null,
      "outputs": [
        {
          "output_type": "display_data",
          "data": {
            "image/png": "[encoded data removed]",
            "text/plain": [
              "<Figure size 432x288 with 1 Axes>"
            ]
          },
          "metadata": {
            "tags": [],
            "needs_background": "light"
          }
        }
      ]
    },
    {
      "cell_type": "markdown",
      "metadata": {
        "id": "iYN1CXhb-T3n"
      },
      "source": [
        "### 2. Training Neural net with Uniform Initialization"
      ]
    },
    {
      "cell_type": "code",
      "metadata": {
        "colab": {
          "base_uri": "https://localhost:8080/"
        },
        "id": "pAbURPaW-Te-",
        "outputId": "2ecdf68e-e51a-43f0-b69f-bd3828f1e526"
      },
      "source": [
        "model6 = Sequential()\n",
        "model6.add(Flatten())\n",
        "model6.add(Dense(512, kernel_initializer='random_uniform'))\n",
        "model6.add(Activation('relu'))\n",
        "model6.add(Dropout(0.3))\n",
        "model6.add(Dense(64, kernel_initializer='random_uniform'))\n",
        "model6.add(Activation('relu'))\n",
        "model6.add(Dropout(0.2))\n",
        "model6.add(Dense(10, kernel_initializer='random_uniform'))\n",
        "model6.add(Activation('softmax'))\n",
        "\n",
        "train_gen = ImageDataGenerator(rotation_range=8, width_shift_range=0.08, shear_range=0.3, height_shift_range=0.08)\n",
        "test_gen = ImageDataGenerator()\n",
        "training_set= train_gen.flow(x_train, y_train, batch_size=64)\n",
        "test_set= train_gen.flow(x_test, y_test, batch_size=64)\n",
        "\n",
        "# To prevent over fitting we will stop the learning after 5 epochs and val_loss value not decreased\n",
        "earlystop = EarlyStopping(patience=5)\n",
        "# It will reduce the learning rate when accuracy is not increasing for 2 epochs\n",
        "learning_rate_reduction = ReduceLROnPlateau(monitor='val_accuracy', patience=2, verbose=1, factor=0.5, min_lr=0.00001)\n",
        "callbacks = [earlystop, learning_rate_reduction]\n",
        "\n",
        "model6.compile(optimizer = 'Adam', loss = 'categorical_crossentropy', metrics=['accuracy'])\n",
        "hist_uniform = model6.fit_generator(training_set, steps_per_epoch=49000//64, validation_data= test_set, callbacks = callbacks, validation_steps=21000//64, epochs=10)"
      ],
      "execution_count": null,
      "outputs": [
        {
          "output_type": "stream",
          "text": [
            "/usr/local/lib/python3.7/dist-packages/tensorflow/python/keras/engine/training.py:1844: UserWarning: `Model.fit_generator` is deprecated and will be removed in a future version. Please use `Model.fit`, which supports generators.\n",
            "  warnings.warn('`Model.fit_generator` is deprecated and '\n"
          ],
          "name": "stderr"
        },
        {
          "output_type": "stream",
          "text": [
            "Epoch 1/10\n",
            "765/765 [==============================] - 26s 34ms/step - loss: 1.0005 - accuracy: 0.6793 - val_loss: 0.2510 - val_accuracy: 0.9244\n",
            "Epoch 2/10\n",
            "765/765 [==============================] - 26s 34ms/step - loss: 0.2801 - accuracy: 0.9148 - val_loss: 0.1672 - val_accuracy: 0.9492\n",
            "Epoch 3/10\n",
            "765/765 [==============================] - 26s 34ms/step - loss: 0.2184 - accuracy: 0.9342 - val_loss: 0.1423 - val_accuracy: 0.9570\n",
            "Epoch 4/10\n",
            "765/765 [==============================] - 26s 35ms/step - loss: 0.1802 - accuracy: 0.9453 - val_loss: 0.1234 - val_accuracy: 0.9627\n",
            "Epoch 5/10\n",
            "765/765 [==============================] - 26s 34ms/step - loss: 0.1605 - accuracy: 0.9517 - val_loss: 0.1187 - val_accuracy: 0.9638\n",
            "Epoch 6/10\n",
            "765/765 [==============================] - 25s 33ms/step - loss: 0.1481 - accuracy: 0.9557 - val_loss: 0.1091 - val_accuracy: 0.9655\n",
            "Epoch 7/10\n",
            "765/765 [==============================] - 25s 33ms/step - loss: 0.1390 - accuracy: 0.9570 - val_loss: 0.1063 - val_accuracy: 0.9669\n",
            "Epoch 8/10\n",
            "765/765 [==============================] - 25s 33ms/step - loss: 0.1411 - accuracy: 0.9570 - val_loss: 0.0908 - val_accuracy: 0.9708\n",
            "Epoch 9/10\n",
            "765/765 [==============================] - 25s 33ms/step - loss: 0.1372 - accuracy: 0.9590 - val_loss: 0.0907 - val_accuracy: 0.9710\n",
            "Epoch 10/10\n",
            "765/765 [==============================] - 25s 33ms/step - loss: 0.1262 - accuracy: 0.9616 - val_loss: 0.0935 - val_accuracy: 0.9712\n"
          ],
          "name": "stdout"
        }
      ]
    },
    {
      "cell_type": "code",
      "metadata": {
        "colab": {
          "base_uri": "https://localhost:8080/",
          "height": 295
        },
        "id": "TfU_-DBr_XEj",
        "outputId": "25662e69-3179-4735-8aad-9397af6fe56c"
      },
      "source": [
        "fig = plt.figure()\n",
        "ax = fig.add_subplot(111)\n",
        "ax.set_facecolor('w')\n",
        "ax.grid(b=False)\n",
        "ax.plot(hist_uniform.history['loss'], color='red')\n",
        "ax.plot(hist_uniform.history['val_loss'], color ='green')\n",
        "plt.title('model loss')\n",
        "plt.ylabel('loss')\n",
        "plt.xlabel('epoch')\n",
        "plt.legend(['train', 'test'], loc='upper right')\n",
        "plt.show()"
      ],
      "execution_count": null,
      "outputs": [
        {
          "output_type": "display_data",
          "data": {
            "image/png": "[encoded data removed]",
            "text/plain": [
              "<Figure size 432x288 with 1 Axes>"
            ]
          },
          "metadata": {
            "tags": [],
            "needs_background": "light"
          }
        }
      ]
    },
    {
      "cell_type": "markdown",
      "metadata": {
        "id": "lrA5opfk-xiq"
      },
      "source": [
        "### 3. Training Neural Net with Normal Initialization"
      ]
    },
    {
      "cell_type": "code",
      "metadata": {
        "colab": {
          "base_uri": "https://localhost:8080/"
        },
        "id": "q8PqPj7O-pb8",
        "outputId": "c251337a-520f-4db3-dc1e-8aac2d2acf13"
      },
      "source": [
        "model7 = Sequential()\n",
        "model7.add(Flatten())\n",
        "model7.add(Dense(512, kernel_initializer='random_normal'))\n",
        "model7.add(Activation('relu'))\n",
        "model7.add(Dropout(0.3))\n",
        "model7.add(Dense(64, kernel_initializer='random_normal'))\n",
        "model7.add(Activation('relu'))\n",
        "model7.add(Dropout(0.2))\n",
        "model7.add(Dense(10, kernel_initializer='random_normal'))\n",
        "model7.add(Activation('softmax'))\n",
        "\n",
        "train_gen = ImageDataGenerator(rotation_range=8, width_shift_range=0.08, shear_range=0.3, height_shift_range=0.08)\n",
        "test_gen = ImageDataGenerator()\n",
        "training_set= train_gen.flow(x_train, y_train, batch_size=64)\n",
        "test_set= train_gen.flow(x_test, y_test, batch_size=64)\n",
        "\n",
        "# To prevent over fitting we will stop the learning after 5 epochs and val_loss value not decreased\n",
        "earlystop = EarlyStopping(patience=5)\n",
        "# It will reduce the learning rate when accuracy is not increasing for 2 epochs\n",
        "learning_rate_reduction = ReduceLROnPlateau(monitor='val_accuracy', patience=2, verbose=1, factor=0.5, min_lr=0.00001)\n",
        "callbacks = [earlystop, learning_rate_reduction]\n",
        "\n",
        "model7.compile(optimizer = 'Adam', loss = 'categorical_crossentropy', metrics=['accuracy'])\n",
        "hist_normal = model7.fit_generator(training_set, steps_per_epoch=49000//64, validation_data= test_set, callbacks = callbacks, validation_steps=21000//64, epochs=10)"
      ],
      "execution_count": null,
      "outputs": [
        {
          "output_type": "stream",
          "text": [
            "/usr/local/lib/python3.7/dist-packages/tensorflow/python/keras/engine/training.py:1844: UserWarning: `Model.fit_generator` is deprecated and will be removed in a future version. Please use `Model.fit`, which supports generators.\n",
            "  warnings.warn('`Model.fit_generator` is deprecated and '\n"
          ],
          "name": "stderr"
        },
        {
          "output_type": "stream",
          "text": [
            "Epoch 1/10\n",
            "765/765 [==============================] - 26s 34ms/step - loss: 0.9411 - accuracy: 0.7010 - val_loss: 0.2303 - val_accuracy: 0.9319\n",
            "Epoch 2/10\n",
            "765/765 [==============================] - 25s 33ms/step - loss: 0.2688 - accuracy: 0.9182 - val_loss: 0.1672 - val_accuracy: 0.9483\n",
            "Epoch 3/10\n",
            "765/765 [==============================] - 25s 33ms/step - loss: 0.2131 - accuracy: 0.9334 - val_loss: 0.1418 - val_accuracy: 0.9568\n",
            "Epoch 4/10\n",
            "765/765 [==============================] - 25s 33ms/step - loss: 0.1736 - accuracy: 0.9478 - val_loss: 0.1352 - val_accuracy: 0.9596\n",
            "Epoch 5/10\n",
            "765/765 [==============================] - 25s 33ms/step - loss: 0.1611 - accuracy: 0.9501 - val_loss: 0.1157 - val_accuracy: 0.9634\n",
            "Epoch 6/10\n",
            "765/765 [==============================] - 25s 33ms/step - loss: 0.1458 - accuracy: 0.9553 - val_loss: 0.1042 - val_accuracy: 0.9676\n",
            "Epoch 7/10\n",
            "765/765 [==============================] - 25s 33ms/step - loss: 0.1340 - accuracy: 0.9599 - val_loss: 0.1026 - val_accuracy: 0.9689\n",
            "Epoch 8/10\n",
            "765/765 [==============================] - 25s 33ms/step - loss: 0.1302 - accuracy: 0.9585 - val_loss: 0.0903 - val_accuracy: 0.9719\n",
            "Epoch 9/10\n",
            "765/765 [==============================] - 25s 33ms/step - loss: 0.1293 - accuracy: 0.9594 - val_loss: 0.0942 - val_accuracy: 0.9705\n",
            "Epoch 10/10\n",
            "765/765 [==============================] - 25s 33ms/step - loss: 0.1256 - accuracy: 0.9622 - val_loss: 0.0920 - val_accuracy: 0.9718\n",
            "\n",
            "Epoch 00010: ReduceLROnPlateau reducing learning rate to 0.0005000000237487257.\n"
          ],
          "name": "stdout"
        }
      ]
    },
    {
      "cell_type": "code",
      "metadata": {
        "colab": {
          "base_uri": "https://localhost:8080/",
          "height": 295
        },
        "id": "5RCUTpPKAfc5",
        "outputId": "cb2be4de-28a3-41b2-c81a-70e9fcbd9e89"
      },
      "source": [
        "fig = plt.figure()\n",
        "ax = fig.add_subplot(111)\n",
        "ax.set_facecolor('w')\n",
        "ax.grid(b=False)\n",
        "ax.plot(hist_normal.history['loss'], color='red')\n",
        "ax.plot(hist_normal.history['val_loss'], color ='green')\n",
        "plt.title('model loss')\n",
        "plt.ylabel('loss')\n",
        "plt.xlabel('epoch')\n",
        "plt.legend(['train', 'test'], loc='upper right')\n",
        "plt.show()"
      ],
      "execution_count": null,
      "outputs": [
        {
          "output_type": "display_data",
          "data": {
            "image/png": "[encoded data removed]",
            "text/plain": [
              "<Figure size 432x288 with 1 Axes>"
            ]
          },
          "metadata": {
            "tags": [],
            "needs_background": "light"
          }
        }
      ]
    },
    {
      "cell_type": "code",
      "metadata": {
        "id": "7Lblkdv5B1Yv"
      },
      "source": [
        "model5.save('model_xavier.h5')\n",
        "model6.save('model_uniform.h5')\n",
        "model7.save('model_normal.h5')"
      ],
      "execution_count": null,
      "outputs": []
    },
    {
      "cell_type": "markdown",
      "metadata": {
        "id": "EoAVPAseCMY9"
      },
      "source": [
        "### Comparision between above weights initialization"
      ]
    },
    {
      "cell_type": "code",
      "metadata": {
        "colab": {
          "base_uri": "https://localhost:8080/",
          "height": 300
        },
        "id": "On9-4GXtCLog",
        "outputId": "f054d74c-bc4a-4a2d-9266-1273d132b22b"
      },
      "source": [
        "plt.xlabel('Epoch')\n",
        "plt.ylabel('Loss')\n",
        "plt.ylim([0.0, 1])\n",
        "\n",
        "plt.plot(hist_xavier.history['loss'], label='Xavier')\n",
        "plt.plot(hist_uniform.history['loss'], label='Uniform')\n",
        "plt.plot(hist_normal.history['loss'], label='Normal') \n",
        "\n",
        "plt.legend()"
      ],
      "execution_count": null,
      "outputs": [
        {
          "output_type": "execute_result",
          "data": {
            "text/plain": [
              "<matplotlib.legend.Legend at 0x7f50d7747850>"
            ]
          },
          "metadata": {
            "tags": []
          },
          "execution_count": 14
        },
        {
          "output_type": "display_data",
          "data": {
            "image/png": "[encoded data removed]",
            "text/plain": [
              "<Figure size 432x288 with 1 Axes>"
            ]
          },
          "metadata": {
            "tags": [],
            "needs_background": "light"
          }
        }
      ]
    },
    {
      "cell_type": "markdown",
      "metadata": {
        "id": "tkTgO9FcDegM"
      },
      "source": [
        "# Running for Various Learning rate"
      ]
    },
    {
      "cell_type": "markdown",
      "metadata": {
        "id": "WKSE3z2tFfQM"
      },
      "source": [
        "### 1. Training Neural Net with Learning rate = 0.1"
      ]
    },
    {
      "cell_type": "code",
      "metadata": {
        "colab": {
          "base_uri": "https://localhost:8080/"
        },
        "id": "TlqjKUZMDuWl",
        "outputId": "96bd4814-ce1d-4f21-d64a-925276086106"
      },
      "source": [
        "model8 = Sequential()\n",
        "model8.add(Flatten())\n",
        "model8.add(Dense(512, kernel_initializer='random_normal'))\n",
        "model8.add(Activation('relu'))\n",
        "model8.add(Dropout(0.3))\n",
        "model8.add(Dense(64, kernel_initializer='random_normal'))\n",
        "model8.add(Activation('relu'))\n",
        "model8.add(Dropout(0.2))\n",
        "model8.add(Dense(10, kernel_initializer='random_normal'))\n",
        "model8.add(Activation('softmax'))\n",
        "\n",
        "train_gen = ImageDataGenerator(rotation_range=8, width_shift_range=0.08, shear_range=0.3, height_shift_range=0.08)\n",
        "test_gen = ImageDataGenerator()\n",
        "training_set= train_gen.flow(x_train, y_train, batch_size=64)\n",
        "test_set= train_gen.flow(x_test, y_test, batch_size=64)\n",
        "\n",
        "# To prevent over fitting we will stop the learning after 5 epochs and val_loss value not decreased\n",
        "earlystop = EarlyStopping(patience=5)\n",
        "callbacks = [earlystop]\n",
        "\n",
        "model8.compile(optimizer = Adam(lr=0.1), loss = 'categorical_crossentropy', metrics=['accuracy'])\n",
        "hist_01 = model8.fit_generator(training_set, steps_per_epoch=49000//64, validation_data= test_set, callbacks = callbacks, validation_steps=21000//64, epochs=10)"
      ],
      "execution_count": null,
      "outputs": [
        {
          "output_type": "stream",
          "text": [
            "/usr/local/lib/python3.7/dist-packages/tensorflow/python/keras/engine/training.py:1844: UserWarning: `Model.fit_generator` is deprecated and will be removed in a future version. Please use `Model.fit`, which supports generators.\n",
            "  warnings.warn('`Model.fit_generator` is deprecated and '\n"
          ],
          "name": "stderr"
        },
        {
          "output_type": "stream",
          "text": [
            "Epoch 1/10\n",
            "765/765 [==============================] - 25s 32ms/step - loss: 3.6676 - accuracy: 0.1012 - val_loss: 2.3103 - val_accuracy: 0.1035\n",
            "Epoch 2/10\n",
            "765/765 [==============================] - 24s 32ms/step - loss: 2.3120 - accuracy: 0.1036 - val_loss: 2.3088 - val_accuracy: 0.1109\n",
            "Epoch 3/10\n",
            "765/765 [==============================] - 26s 33ms/step - loss: 2.3105 - accuracy: 0.1041 - val_loss: 2.3138 - val_accuracy: 0.1034\n",
            "Epoch 4/10\n",
            "765/765 [==============================] - 24s 32ms/step - loss: 2.3091 - accuracy: 0.1040 - val_loss: 2.3095 - val_accuracy: 0.0992\n",
            "Epoch 5/10\n",
            "765/765 [==============================] - 24s 32ms/step - loss: 2.3096 - accuracy: 0.1063 - val_loss: 2.3051 - val_accuracy: 0.0995\n",
            "Epoch 6/10\n",
            "765/765 [==============================] - 25s 32ms/step - loss: 2.3088 - accuracy: 0.1024 - val_loss: 2.3105 - val_accuracy: 0.1109\n",
            "Epoch 7/10\n",
            "765/765 [==============================] - 24s 32ms/step - loss: 2.3098 - accuracy: 0.1036 - val_loss: 2.3140 - val_accuracy: 0.1034\n",
            "Epoch 8/10\n",
            "765/765 [==============================] - 25s 32ms/step - loss: 2.3103 - accuracy: 0.1034 - val_loss: 2.3078 - val_accuracy: 0.1035\n",
            "Epoch 9/10\n",
            "765/765 [==============================] - 25s 32ms/step - loss: 2.3099 - accuracy: 0.1036 - val_loss: 2.3037 - val_accuracy: 0.1035\n",
            "Epoch 10/10\n",
            "765/765 [==============================] - 25s 33ms/step - loss: 2.3099 - accuracy: 0.1037 - val_loss: 2.3041 - val_accuracy: 0.1035\n"
          ],
          "name": "stdout"
        }
      ]
    },
    {
      "cell_type": "markdown",
      "metadata": {
        "id": "Tp5sC8HrI0au"
      },
      "source": [
        "### 2. Training Neural Net with learning rate = 0.01"
      ]
    },
    {
      "cell_type": "code",
      "metadata": {
        "colab": {
          "base_uri": "https://localhost:8080/"
        },
        "id": "5YyUmukEI6SQ",
        "outputId": "2e248251-51c3-4d6a-8352-1c20353bd0f6"
      },
      "source": [
        "model9 = Sequential()\n",
        "model9.add(Flatten())\n",
        "model9.add(Dense(512, kernel_initializer='random_normal'))\n",
        "model9.add(Activation('relu'))\n",
        "model9.add(Dropout(0.3))\n",
        "model9.add(Dense(64, kernel_initializer='random_normal'))\n",
        "model9.add(Activation('relu'))\n",
        "model9.add(Dropout(0.2))\n",
        "model9.add(Dense(10, kernel_initializer='random_normal'))\n",
        "model9.add(Activation('softmax'))\n",
        "\n",
        "train_gen = ImageDataGenerator(rotation_range=8, width_shift_range=0.08, shear_range=0.3, height_shift_range=0.08)\n",
        "test_gen = ImageDataGenerator()\n",
        "training_set= train_gen.flow(x_train, y_train, batch_size=64)\n",
        "test_set= train_gen.flow(x_test, y_test, batch_size=64)\n",
        "\n",
        "# To prevent over fitting we will stop the learning after 5 epochs and val_loss value not decreased\n",
        "earlystop = EarlyStopping(patience=5)\n",
        "callbacks = [earlystop]\n",
        "\n",
        "model9.compile(optimizer = Adam(lr=0.01), loss = 'categorical_crossentropy', metrics=['accuracy'])\n",
        "hist_001 = model9.fit_generator(training_set, steps_per_epoch=49000//64, validation_data= test_set, callbacks = callbacks, validation_steps=21000//64, epochs=10)"
      ],
      "execution_count": null,
      "outputs": [
        {
          "output_type": "stream",
          "text": [
            "/usr/local/lib/python3.7/dist-packages/tensorflow/python/keras/engine/training.py:1844: UserWarning: `Model.fit_generator` is deprecated and will be removed in a future version. Please use `Model.fit`, which supports generators.\n",
            "  warnings.warn('`Model.fit_generator` is deprecated and '\n"
          ],
          "name": "stderr"
        },
        {
          "output_type": "stream",
          "text": [
            "Epoch 1/10\n",
            "765/765 [==============================] - 26s 34ms/step - loss: 0.8068 - accuracy: 0.7381 - val_loss: 0.3475 - val_accuracy: 0.8992\n",
            "Epoch 2/10\n",
            "765/765 [==============================] - 25s 33ms/step - loss: 0.4469 - accuracy: 0.8706 - val_loss: 0.2695 - val_accuracy: 0.9219\n",
            "Epoch 3/10\n",
            "765/765 [==============================] - 25s 33ms/step - loss: 0.4150 - accuracy: 0.8829 - val_loss: 0.2292 - val_accuracy: 0.9355\n",
            "Epoch 4/10\n",
            "765/765 [==============================] - 25s 33ms/step - loss: 0.4062 - accuracy: 0.8881 - val_loss: 0.2407 - val_accuracy: 0.9327\n",
            "Epoch 5/10\n",
            "765/765 [==============================] - 25s 32ms/step - loss: 0.3928 - accuracy: 0.8927 - val_loss: 0.2787 - val_accuracy: 0.9220\n",
            "Epoch 6/10\n",
            "765/765 [==============================] - 25s 32ms/step - loss: 0.3998 - accuracy: 0.8927 - val_loss: 0.2331 - val_accuracy: 0.9366\n",
            "Epoch 7/10\n",
            "765/765 [==============================] - 25s 32ms/step - loss: 0.3705 - accuracy: 0.8986 - val_loss: 0.2335 - val_accuracy: 0.9406\n",
            "Epoch 8/10\n",
            "765/765 [==============================] - 26s 33ms/step - loss: 0.3703 - accuracy: 0.9022 - val_loss: 0.2354 - val_accuracy: 0.9367\n"
          ],
          "name": "stdout"
        }
      ]
    },
    {
      "cell_type": "markdown",
      "metadata": {
        "id": "5k4engV6Lj7i"
      },
      "source": [
        "### 3. Training Neural Net with learning rate = 0.001"
      ]
    },
    {
      "cell_type": "code",
      "metadata": {
        "colab": {
          "base_uri": "https://localhost:8080/"
        },
        "id": "d1XWEHBLKLau",
        "outputId": "8ff8203a-c135-4baf-c142-e91c34b05d26"
      },
      "source": [
        "model10 = Sequential()\n",
        "model10.add(Flatten())\n",
        "model10.add(Dense(512, kernel_initializer='random_normal'))\n",
        "model10.add(Activation('relu'))\n",
        "model10.add(Dropout(0.3))\n",
        "model10.add(Dense(64, kernel_initializer='random_normal'))\n",
        "model10.add(Activation('relu'))\n",
        "model10.add(Dropout(0.2))\n",
        "model10.add(Dense(10, kernel_initializer='random_normal'))\n",
        "model10.add(Activation('softmax'))\n",
        "\n",
        "train_gen = ImageDataGenerator(rotation_range=8, width_shift_range=0.08, shear_range=0.3, height_shift_range=0.08)\n",
        "test_gen = ImageDataGenerator()\n",
        "training_set= train_gen.flow(x_train, y_train, batch_size=64)\n",
        "test_set= train_gen.flow(x_test, y_test, batch_size=64)\n",
        "\n",
        "# To prevent over fitting we will stop the learning after 5 epochs and val_loss value not decreased\n",
        "earlystop = EarlyStopping(patience=5)\n",
        "callbacks = [earlystop]\n",
        "\n",
        "model10.compile(optimizer = Adam(lr=0.001), loss = 'categorical_crossentropy', metrics=['accuracy'])\n",
        "hist_0001 = model10.fit_generator(training_set, steps_per_epoch=49000//64, validation_data= test_set, callbacks = callbacks, validation_steps=21000//64, epochs=10)"
      ],
      "execution_count": null,
      "outputs": [
        {
          "output_type": "stream",
          "text": [
            "/usr/local/lib/python3.7/dist-packages/tensorflow/python/keras/engine/training.py:1844: UserWarning: `Model.fit_generator` is deprecated and will be removed in a future version. Please use `Model.fit`, which supports generators.\n",
            "  warnings.warn('`Model.fit_generator` is deprecated and '\n"
          ],
          "name": "stderr"
        },
        {
          "output_type": "stream",
          "text": [
            "Epoch 1/10\n",
            "765/765 [==============================] - 27s 34ms/step - loss: 0.9324 - accuracy: 0.7054 - val_loss: 0.2410 - val_accuracy: 0.9274\n",
            "Epoch 2/10\n",
            "765/765 [==============================] - 25s 33ms/step - loss: 0.2662 - accuracy: 0.9188 - val_loss: 0.1770 - val_accuracy: 0.9438\n",
            "Epoch 3/10\n",
            "765/765 [==============================] - 25s 33ms/step - loss: 0.2060 - accuracy: 0.9367 - val_loss: 0.1401 - val_accuracy: 0.9578\n",
            "Epoch 4/10\n",
            "765/765 [==============================] - 25s 33ms/step - loss: 0.1826 - accuracy: 0.9429 - val_loss: 0.1193 - val_accuracy: 0.9630\n",
            "Epoch 5/10\n",
            "765/765 [==============================] - 26s 33ms/step - loss: 0.1611 - accuracy: 0.9515 - val_loss: 0.1224 - val_accuracy: 0.9637\n",
            "Epoch 6/10\n",
            "765/765 [==============================] - 25s 33ms/step - loss: 0.1531 - accuracy: 0.9538 - val_loss: 0.1127 - val_accuracy: 0.9653\n",
            "Epoch 7/10\n",
            "765/765 [==============================] - 25s 33ms/step - loss: 0.1426 - accuracy: 0.9560 - val_loss: 0.0984 - val_accuracy: 0.9688\n",
            "Epoch 8/10\n",
            "765/765 [==============================] - 25s 33ms/step - loss: 0.1335 - accuracy: 0.9590 - val_loss: 0.0926 - val_accuracy: 0.9707\n",
            "Epoch 9/10\n",
            "765/765 [==============================] - 25s 33ms/step - loss: 0.1259 - accuracy: 0.9609 - val_loss: 0.0937 - val_accuracy: 0.9712\n",
            "Epoch 10/10\n",
            "765/765 [==============================] - 25s 33ms/step - loss: 0.1211 - accuracy: 0.9646 - val_loss: 0.0926 - val_accuracy: 0.9715\n"
          ],
          "name": "stdout"
        }
      ]
    },
    {
      "cell_type": "markdown",
      "metadata": {
        "id": "k77GNyQrMnlV"
      },
      "source": [
        "### 4. Training Neural Net with Exponential Annealing"
      ]
    },
    {
      "cell_type": "code",
      "metadata": {
        "colab": {
          "base_uri": "https://localhost:8080/"
        },
        "id": "p_hapYpPMu6g",
        "outputId": "729e9f89-fb21-4cce-e291-60250d6fa553"
      },
      "source": [
        "model11 = Sequential()\n",
        "model11.add(Flatten())\n",
        "model11.add(Dense(512, kernel_initializer='random_normal'))\n",
        "model11.add(Activation('relu'))\n",
        "model11.add(Dropout(0.3))\n",
        "model11.add(Dense(64, kernel_initializer='random_normal'))\n",
        "model11.add(Activation('relu'))\n",
        "model11.add(Dropout(0.2))\n",
        "model11.add(Dense(10, kernel_initializer='random_normal'))\n",
        "model11.add(Activation('softmax'))\n",
        "\n",
        "train_gen = ImageDataGenerator(rotation_range=8, width_shift_range=0.08, shear_range=0.3, height_shift_range=0.08)\n",
        "test_gen = ImageDataGenerator()\n",
        "training_set= train_gen.flow(x_train, y_train, batch_size=64)\n",
        "test_set= train_gen.flow(x_test, y_test, batch_size=64)\n",
        "\n",
        "# To prevent over fitting we will stop the learning after 5 epochs and val_loss value not decreased\n",
        "earlystop = EarlyStopping(patience=5)\n",
        "\n",
        "def exp_decay(epoch):\n",
        "   initial_lrate = 0.01\n",
        "   lrate = initial_lrate * math.exp(-0.1*epoch)\n",
        "   return lrate\n",
        "\n",
        "lrt = LearningRateScheduler(exp_decay)\n",
        "callbacks = [earlystop, lrt]\n",
        "\n",
        "model11.compile(optimizer = Adam(lr=0.01), loss = 'categorical_crossentropy', metrics=['accuracy'])\n",
        "hist_annealing = model11.fit_generator(training_set, steps_per_epoch=49000//64, validation_data= test_set, callbacks = callbacks, validation_steps=21000//64, epochs=10)"
      ],
      "execution_count": null,
      "outputs": [
        {
          "output_type": "stream",
          "text": [
            "/usr/local/lib/python3.7/dist-packages/tensorflow/python/keras/engine/training.py:1844: UserWarning: `Model.fit_generator` is deprecated and will be removed in a future version. Please use `Model.fit`, which supports generators.\n",
            "  warnings.warn('`Model.fit_generator` is deprecated and '\n"
          ],
          "name": "stderr"
        },
        {
          "output_type": "stream",
          "text": [
            "Epoch 1/10\n",
            "765/765 [==============================] - 26s 34ms/step - loss: 0.7953 - accuracy: 0.7439 - val_loss: 0.3204 - val_accuracy: 0.9067\n",
            "Epoch 2/10\n",
            "765/765 [==============================] - 25s 33ms/step - loss: 0.4319 - accuracy: 0.8752 - val_loss: 0.2750 - val_accuracy: 0.9188\n",
            "Epoch 3/10\n",
            "765/765 [==============================] - 26s 34ms/step - loss: 0.3858 - accuracy: 0.8931 - val_loss: 0.2184 - val_accuracy: 0.9389\n",
            "Epoch 4/10\n",
            "765/765 [==============================] - 26s 34ms/step - loss: 0.3294 - accuracy: 0.9096 - val_loss: 0.1982 - val_accuracy: 0.9411\n",
            "Epoch 5/10\n",
            "765/765 [==============================] - 26s 34ms/step - loss: 0.3117 - accuracy: 0.9141 - val_loss: 0.1810 - val_accuracy: 0.9460\n",
            "Epoch 6/10\n",
            "765/765 [==============================] - 27s 35ms/step - loss: 0.2714 - accuracy: 0.9237 - val_loss: 0.1714 - val_accuracy: 0.9516\n",
            "Epoch 7/10\n",
            "765/765 [==============================] - 27s 35ms/step - loss: 0.2678 - accuracy: 0.9259 - val_loss: 0.1587 - val_accuracy: 0.9546\n",
            "Epoch 8/10\n",
            "765/765 [==============================] - 26s 34ms/step - loss: 0.2441 - accuracy: 0.9320 - val_loss: 0.1582 - val_accuracy: 0.9562\n",
            "Epoch 9/10\n",
            "765/765 [==============================] - 26s 34ms/step - loss: 0.2291 - accuracy: 0.9362 - val_loss: 0.1354 - val_accuracy: 0.9610\n",
            "Epoch 10/10\n",
            "765/765 [==============================] - 26s 34ms/step - loss: 0.2053 - accuracy: 0.9435 - val_loss: 0.1359 - val_accuracy: 0.9595\n"
          ],
          "name": "stdout"
        }
      ]
    },
    {
      "cell_type": "code",
      "metadata": {
        "id": "gBEg9lhuSxJS"
      },
      "source": [
        "model8.save('model_01.h5')\n",
        "model9.save('model_001.h5')\n",
        "model10.save('model_0001.h5')\n",
        "model11.save('model_annealing.h5')"
      ],
      "execution_count": null,
      "outputs": []
    },
    {
      "cell_type": "markdown",
      "metadata": {
        "id": "fxglGtaNTe1o"
      },
      "source": [
        "### Comparision between different Learning rates"
      ]
    },
    {
      "cell_type": "code",
      "metadata": {
        "colab": {
          "base_uri": "https://localhost:8080/",
          "height": 300
        },
        "id": "VyvOFu1ZTYVE",
        "outputId": "3efef223-a21a-44c1-d28b-84e96bcd6a99"
      },
      "source": [
        "plt.xlabel('Epoch')\n",
        "plt.ylabel('Loss')\n",
        "plt.ylim([0.0, 3])\n",
        "\n",
        "plt.plot(hist_01.history['loss'], label='lr = 0.1')\n",
        "plt.plot(hist_001.history['loss'], label='lr = 0.01')\n",
        "plt.plot(hist_0001.history['loss'], label='lr = 0.001') \n",
        "plt.plot(hist_annealing.history['loss'], label='Exponential Annealing (initial lr = 0.01') \n",
        "\n",
        "plt.legend()"
      ],
      "execution_count": null,
      "outputs": [
        {
          "output_type": "execute_result",
          "data": {
            "text/plain": [
              "<matplotlib.legend.Legend at 0x7f50c80013d0>"
            ]
          },
          "metadata": {
            "tags": []
          },
          "execution_count": 35
        },
        {
          "output_type": "display_data",
          "data": {
            "image/png": "[encoded data removed]",
            "text/plain": [
              "<Figure size 432x288 with 1 Axes>"
            ]
          },
          "metadata": {
            "tags": [],
            "needs_background": "light"
          }
        }
      ]
    },
    {
      "cell_type": "markdown",
      "metadata": {
        "id": "QQgHkfaScU9T"
      },
      "source": [
        "\n",
        "---\n",
        "\n"
      ]
    },
    {
      "cell_type": "markdown",
      "metadata": {
        "id": "VoGFjuBAca4v"
      },
      "source": [
        "# PART : 2"
      ]
    },
    {
      "cell_type": "markdown",
      "metadata": {
        "id": "SGud-_5_FELS"
      },
      "source": [
        "### Creating Latent representations of images"
      ]
    },
    {
      "cell_type": "code",
      "metadata": {
        "id": "QUDhvKV7gCou",
        "colab": {
          "base_uri": "https://localhost:8080/"
        },
        "outputId": "b91e7ade-a19f-4017-f1b9-307cea84b672"
      },
      "source": [
        "encoder_input = keras.Input(shape=(28, 28, 1))\n",
        "input = keras.layers.Flatten()(encoder_input)\n",
        "hidden_en = keras.layers.Dense(256, activation=\"relu\")(input)\n",
        "encoder_output = keras.layers.Dense(64, activation=\"relu\")(hidden_en)    #-------------> Bottleneck layer\n",
        "\n",
        "encoder = keras.Model(encoder_input, encoder_output, name='encoder')\n",
        "\n",
        "decoder_input = keras.layers.Dense(256, activation=\"relu\")(encoder_output)\n",
        "hidden_de = keras.layers.Dense(784, activation=\"relu\")(decoder_input)\n",
        "decoder_output = keras.layers.Reshape((28, 28))(hidden_de)\n",
        "\n",
        "optimizer = tf.keras.optimizers.Adam(lr=0.001, decay=1e-6)\n",
        "autoencoder = keras.Model(encoder_input, decoder_output, name='autoencoder')\n",
        "#autoencoder.summary()\n",
        "autoencoder.compile(optimizer, loss='mse')\n",
        "history_autoencoder = autoencoder.fit(x_train, x_train, epochs=10, batch_size=32, validation_split=0.3)  "
      ],
      "execution_count": null,
      "outputs": [
        {
          "output_type": "stream",
          "text": [
            "Epoch 1/10\n",
            "1072/1072 [==============================] - 7s 6ms/step - loss: 0.0318 - val_loss: 0.0146\n",
            "Epoch 2/10\n",
            "1072/1072 [==============================] - 7s 6ms/step - loss: 0.0142 - val_loss: 0.0134\n",
            "Epoch 3/10\n",
            "1072/1072 [==============================] - 7s 6ms/step - loss: 0.0131 - val_loss: 0.0128\n",
            "Epoch 4/10\n",
            "1072/1072 [==============================] - 7s 6ms/step - loss: 0.0125 - val_loss: 0.0122\n",
            "Epoch 5/10\n",
            "1072/1072 [==============================] - 7s 6ms/step - loss: 0.0121 - val_loss: 0.0121\n",
            "Epoch 6/10\n",
            "1072/1072 [==============================] - 7s 6ms/step - loss: 0.0118 - val_loss: 0.0118\n",
            "Epoch 7/10\n",
            "1072/1072 [==============================] - 7s 7ms/step - loss: 0.0117 - val_loss: 0.0116\n",
            "Epoch 8/10\n",
            "1072/1072 [==============================] - 7s 6ms/step - loss: 0.0114 - val_loss: 0.0116\n",
            "Epoch 9/10\n",
            "1072/1072 [==============================] - 7s 7ms/step - loss: 0.0113 - val_loss: 0.0113\n",
            "Epoch 10/10\n",
            "1072/1072 [==============================] - 7s 7ms/step - loss: 0.0112 - val_loss: 0.0113\n"
          ],
          "name": "stdout"
        }
      ]
    },
    {
      "cell_type": "code",
      "metadata": {
        "id": "P4awnuFSliVI",
        "colab": {
          "base_uri": "https://localhost:8080/",
          "height": 350
        },
        "outputId": "19f0cc65-8cfa-4a87-e1eb-72e62040cff6"
      },
      "source": [
        "print(\"Epoch vs loss for Autoencoder\")\n",
        "print(\"-----------------------------\\n\")\n",
        "plt.xlabel('Epoch')\n",
        "plt.ylabel('Loss')\n",
        "plt.ylim([0.0, 0.03])\n",
        "plt.plot(history_autoencoder.history['loss'], label='train')\n",
        "plt.plot(history_autoencoder.history['val_loss'], label='test')\n",
        "plt.legend()"
      ],
      "execution_count": null,
      "outputs": [
        {
          "output_type": "stream",
          "text": [
            "Epoch vs loss for Autoencoder\n",
            "-----------------------------\n",
            "\n"
          ],
          "name": "stdout"
        },
        {
          "output_type": "execute_result",
          "data": {
            "text/plain": [
              "<matplotlib.legend.Legend at 0x7fdd3d2ec310>"
            ]
          },
          "metadata": {
            "tags": []
          },
          "execution_count": 6
        },
        {
          "output_type": "display_data",
          "data": {
            "image/png": "[encoded data removed]",
            "text/plain": [
              "<Figure size 432x288 with 1 Axes>"
            ]
          },
          "metadata": {
            "tags": [],
            "needs_background": "light"
          }
        }
      ]
    },
    {
      "cell_type": "code",
      "metadata": {
        "colab": {
          "base_uri": "https://localhost:8080/",
          "height": 332
        },
        "id": "6lA2NR3pjCZZ",
        "outputId": "82b2122c-efbf-4d42-b7da-c01c9cb71acb"
      },
      "source": [
        "latent_train = encoder.predict(x_train)\n",
        "print(\"Latent representation of image\")\n",
        "print(\"------------------------------\\n\")\n",
        "plt.imshow(latent_train[0].reshape((8,8)))"
      ],
      "execution_count": null,
      "outputs": [
        {
          "output_type": "stream",
          "text": [
            "Latent representation of image\n",
            "------------------------------\n",
            "\n"
          ],
          "name": "stdout"
        },
        {
          "output_type": "execute_result",
          "data": {
            "text/plain": [
              "<matplotlib.image.AxesImage at 0x7fdd3ca7f9d0>"
            ]
          },
          "metadata": {
            "tags": []
          },
          "execution_count": 7
        },
        {
          "output_type": "display_data",
          "data": {
            "image/png": "[encoded data removed]",
            "text/plain": [
              "<Figure size 432x288 with 1 Axes>"
            ]
          },
          "metadata": {
            "tags": [],
            "needs_background": "light"
          }
        }
      ]
    },
    {
      "cell_type": "code",
      "metadata": {
        "id": "MGNHqTN9kRKf"
      },
      "source": [
        "latent_test = encoder.predict(x_test)"
      ],
      "execution_count": null,
      "outputs": []
    },
    {
      "cell_type": "code",
      "metadata": {
        "id": "09mxCtHOqsH4"
      },
      "source": [
        "def format_shape(latent):\n",
        "    x = []\n",
        "    for img in latent:\n",
        "        img = img.reshape(8,8)\n",
        "        x.append(img)\n",
        "    return x"
      ],
      "execution_count": null,
      "outputs": []
    },
    {
      "cell_type": "code",
      "metadata": {
        "colab": {
          "base_uri": "https://localhost:8080/"
        },
        "id": "1yojee0rl0hq",
        "outputId": "2486914e-d576-4e3b-a802-a433d0182684"
      },
      "source": [
        "xtrain = np.array(format_shape(latent_train))\n",
        "xtest = np.array(format_shape(latent_test))\n",
        "\n",
        "latent_train = xtrain.reshape(49000,8,8,1)\n",
        "latent_test = xtest.reshape(21000,8,8,1)\n",
        "\n",
        "print(latent_train.shape)\n",
        "print(latent_test.shape)\n",
        "print(y_train.shape)\n",
        "print(y_test.shape)"
      ],
      "execution_count": null,
      "outputs": [
        {
          "output_type": "stream",
          "text": [
            "(49000, 8, 8, 1)\n",
            "(21000, 8, 8, 1)\n",
            "(49000, 10)\n",
            "(21000, 10)\n"
          ],
          "name": "stdout"
        }
      ]
    },
    {
      "cell_type": "markdown",
      "metadata": {
        "id": "biyQNza-FQ2T"
      },
      "source": [
        "### Training Classifier over Latent representation"
      ]
    },
    {
      "cell_type": "code",
      "metadata": {
        "colab": {
          "base_uri": "https://localhost:8080/"
        },
        "id": "JPm1BJCFCWXo",
        "outputId": "5b0fd24b-7cde-456c-ed80-71f2f37fae74"
      },
      "source": [
        "model = Sequential()\n",
        "model.add(Flatten())\n",
        "model.add(Dense(512))\n",
        "model.add(Activation('relu'))\n",
        "model.add(Dropout(0.3))\n",
        "model.add(Dense(64))\n",
        "model.add(Activation('relu'))\n",
        "model.add(Dropout(0.2))\n",
        "model.add(Dense(10))\n",
        "model.add(Activation('softmax'))\n",
        "\n",
        "train_gen = ImageDataGenerator()\n",
        "test_gen = ImageDataGenerator()\n",
        "training_set= train_gen.flow(latent_train, y_train, batch_size=64)\n",
        "test_set= train_gen.flow(latent_test, y_test, batch_size=64)\n",
        "\n",
        "# To prevent over fitting we will stop the learning after 5 epochs and val_loss value not decreased\n",
        "earlystop = EarlyStopping(patience=5)\n",
        "# It will reduce the learning rate when accuracy is not increasing for 2 epochs\n",
        "learning_rate_reduction = ReduceLROnPlateau(monitor='val_accuracy', patience=2, verbose=1, factor=0.5, min_lr=0.00001)\n",
        "callbacks = [earlystop, learning_rate_reduction]\n",
        "\n",
        "model.compile(optimizer = 'Adam', loss = 'categorical_crossentropy', metrics=['accuracy'])\n",
        "hist_latent = model.fit_generator(training_set, steps_per_epoch=49000//64, validation_data= test_set, callbacks = callbacks, validation_steps=21000//64, epochs=10)"
      ],
      "execution_count": null,
      "outputs": [
        {
          "output_type": "stream",
          "text": [
            "/usr/local/lib/python3.7/dist-packages/tensorflow/python/keras/engine/training.py:1844: UserWarning: `Model.fit_generator` is deprecated and will be removed in a future version. Please use `Model.fit`, which supports generators.\n",
            "  warnings.warn('`Model.fit_generator` is deprecated and '\n"
          ],
          "name": "stderr"
        },
        {
          "output_type": "stream",
          "text": [
            "Epoch 1/10\n",
            "765/765 [==============================] - 4s 5ms/step - loss: 0.9242 - accuracy: 0.6994 - val_loss: 0.2872 - val_accuracy: 0.9113\n",
            "Epoch 2/10\n",
            "765/765 [==============================] - 4s 5ms/step - loss: 0.3100 - accuracy: 0.9052 - val_loss: 0.1968 - val_accuracy: 0.9393\n",
            "Epoch 3/10\n",
            "765/765 [==============================] - 4s 5ms/step - loss: 0.2302 - accuracy: 0.9301 - val_loss: 0.1642 - val_accuracy: 0.9480\n",
            "Epoch 4/10\n",
            "765/765 [==============================] - 4s 5ms/step - loss: 0.1909 - accuracy: 0.9420 - val_loss: 0.1403 - val_accuracy: 0.9565\n",
            "Epoch 5/10\n",
            "765/765 [==============================] - 4s 5ms/step - loss: 0.1715 - accuracy: 0.9456 - val_loss: 0.1307 - val_accuracy: 0.9602\n",
            "Epoch 6/10\n",
            "765/765 [==============================] - 4s 5ms/step - loss: 0.1553 - accuracy: 0.9516 - val_loss: 0.1128 - val_accuracy: 0.9647\n",
            "Epoch 7/10\n",
            "765/765 [==============================] - 4s 5ms/step - loss: 0.1339 - accuracy: 0.9589 - val_loss: 0.1145 - val_accuracy: 0.9640\n",
            "Epoch 8/10\n",
            "765/765 [==============================] - 4s 5ms/step - loss: 0.1278 - accuracy: 0.9595 - val_loss: 0.1051 - val_accuracy: 0.9678\n",
            "Epoch 9/10\n",
            "765/765 [==============================] - 4s 5ms/step - loss: 0.1228 - accuracy: 0.9611 - val_loss: 0.1099 - val_accuracy: 0.9659\n",
            "Epoch 10/10\n",
            "765/765 [==============================] - 4s 5ms/step - loss: 0.1245 - accuracy: 0.9616 - val_loss: 0.0993 - val_accuracy: 0.9684\n"
          ],
          "name": "stdout"
        }
      ]
    },
    {
      "cell_type": "markdown",
      "metadata": {
        "id": "othc4azFFWdi"
      },
      "source": [
        "### Training Classifer over original images"
      ]
    },
    {
      "cell_type": "code",
      "metadata": {
        "colab": {
          "base_uri": "https://localhost:8080/"
        },
        "id": "CZV17Qp5FbYC",
        "outputId": "974b0f4e-0670-4eb0-9d30-0d086b49dbc3"
      },
      "source": [
        "model = Sequential()\n",
        "model.add(Flatten())\n",
        "model.add(Dense(512))\n",
        "model.add(Activation('relu'))\n",
        "model.add(Dropout(0.3))\n",
        "model.add(Dense(64))\n",
        "model.add(Activation('relu'))\n",
        "model.add(Dropout(0.2))\n",
        "model.add(Dense(10))\n",
        "model.add(Activation('softmax'))\n",
        "\n",
        "train_gen = ImageDataGenerator()\n",
        "test_gen = ImageDataGenerator()\n",
        "training_set= train_gen.flow(x_train, y_train, batch_size=64)\n",
        "test_set= train_gen.flow(x_test, y_test, batch_size=64)\n",
        "\n",
        "# To prevent over fitting we will stop the learning after 5 epochs and val_loss value not decreased\n",
        "earlystop = EarlyStopping(patience=5)\n",
        "# It will reduce the learning rate when accuracy is not increasing for 2 epochs\n",
        "learning_rate_reduction = ReduceLROnPlateau(monitor='val_accuracy', patience=2, verbose=1, factor=0.5, min_lr=0.00001)\n",
        "callbacks = [earlystop, learning_rate_reduction]\n",
        "\n",
        "model.compile(optimizer = 'Adam', loss = 'categorical_crossentropy', metrics=['accuracy'])\n",
        "hist_original = model.fit_generator(training_set, steps_per_epoch=49000//64, validation_data= test_set, callbacks = callbacks, validation_steps=21000//64, epochs=10)"
      ],
      "execution_count": null,
      "outputs": [
        {
          "output_type": "stream",
          "text": [
            "/usr/local/lib/python3.7/dist-packages/tensorflow/python/keras/engine/training.py:1844: UserWarning: `Model.fit_generator` is deprecated and will be removed in a future version. Please use `Model.fit`, which supports generators.\n",
            "  warnings.warn('`Model.fit_generator` is deprecated and '\n"
          ],
          "name": "stderr"
        },
        {
          "output_type": "stream",
          "text": [
            "Epoch 1/10\n",
            "765/765 [==============================] - 7s 9ms/step - loss: 0.5449 - accuracy: 0.8294 - val_loss: 0.1442 - val_accuracy: 0.9565\n",
            "Epoch 2/10\n",
            "765/765 [==============================] - 7s 9ms/step - loss: 0.1457 - accuracy: 0.9566 - val_loss: 0.1102 - val_accuracy: 0.9655\n",
            "Epoch 3/10\n",
            "765/765 [==============================] - 7s 9ms/step - loss: 0.1055 - accuracy: 0.9679 - val_loss: 0.0924 - val_accuracy: 0.9716\n",
            "Epoch 4/10\n",
            "765/765 [==============================] - 7s 9ms/step - loss: 0.0810 - accuracy: 0.9738 - val_loss: 0.0849 - val_accuracy: 0.9745\n",
            "Epoch 5/10\n",
            "765/765 [==============================] - 7s 9ms/step - loss: 0.0669 - accuracy: 0.9790 - val_loss: 0.0886 - val_accuracy: 0.9734\n",
            "Epoch 6/10\n",
            "765/765 [==============================] - 7s 9ms/step - loss: 0.0591 - accuracy: 0.9827 - val_loss: 0.0880 - val_accuracy: 0.9746\n",
            "Epoch 7/10\n",
            "765/765 [==============================] - 7s 9ms/step - loss: 0.0511 - accuracy: 0.9839 - val_loss: 0.0865 - val_accuracy: 0.9748\n",
            "Epoch 8/10\n",
            "765/765 [==============================] - 7s 9ms/step - loss: 0.0474 - accuracy: 0.9844 - val_loss: 0.0798 - val_accuracy: 0.9778\n",
            "Epoch 9/10\n",
            "765/765 [==============================] - 7s 9ms/step - loss: 0.0423 - accuracy: 0.9865 - val_loss: 0.0864 - val_accuracy: 0.9773\n",
            "Epoch 10/10\n",
            "765/765 [==============================] - 7s 9ms/step - loss: 0.0346 - accuracy: 0.9884 - val_loss: 0.0847 - val_accuracy: 0.9780\n"
          ],
          "name": "stdout"
        }
      ]
    },
    {
      "cell_type": "markdown",
      "metadata": {
        "id": "6uPTbwTrHndL"
      },
      "source": [
        "#### Accuracy for Original Data :  97.71%\n",
        "#### Accuracy for Latent Data : 96.79%"
      ]
    },
    {
      "cell_type": "markdown",
      "metadata": {
        "id": "M_NLDej_Gl0X"
      },
      "source": [
        "### Epoch v/s Loss graph for Latent images and Original images "
      ]
    },
    {
      "cell_type": "code",
      "metadata": {
        "colab": {
          "base_uri": "https://localhost:8080/",
          "height": 300
        },
        "id": "jkjCNvm3GvxS",
        "outputId": "929fc84e-d9f9-43f2-d48a-a4a77ff0a561"
      },
      "source": [
        "plt.xlabel('Epoch')\n",
        "plt.ylabel('Accuracy')\n",
        "plt.ylim([0.5, 1])\n",
        "\n",
        "plt.plot(hist_original.history['accuracy'], label='Original Data')\n",
        "plt.plot(hist_latent.history['accuracy'], label='Compressed Data')\n",
        "\n",
        "plt.legend()"
      ],
      "execution_count": null,
      "outputs": [
        {
          "output_type": "execute_result",
          "data": {
            "text/plain": [
              "<matplotlib.legend.Legend at 0x7fdd399d3810>"
            ]
          },
          "metadata": {
            "tags": []
          },
          "execution_count": 13
        },
        {
          "output_type": "display_data",
          "data": {
            "image/png": "[encoded data removed]",
            "text/plain": [
              "<Figure size 432x288 with 1 Axes>"
            ]
          },
          "metadata": {
            "tags": [],
            "needs_background": "light"
          }
        }
      ]
    },
    {
      "cell_type": "markdown",
      "metadata": {
        "id": "N0fsG20b4Uny"
      },
      "source": [
        "#### INFERENCE : Accuracy of both original images and latent representations comes out to be similar to 97%. But Latent representation of data took very less training time as compared to original images (due to less dimensionality), hence it is better to when we need to train millions of images. "
      ]
    }
  ]
}