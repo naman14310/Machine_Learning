{
  "nbformat": 4,
  "nbformat_minor": 0,
  "metadata": {
    "kernelspec": {
      "display_name": "Python 3",
      "language": "python",
      "name": "python3"
    },
    "language_info": {
      "codemirror_mode": {
        "name": "ipython",
        "version": 3
      },
      "file_extension": ".py",
      "mimetype": "text/x-python",
      "name": "python",
      "nbconvert_exporter": "python",
      "pygments_lexer": "ipython3",
      "version": "3.7.6"
    },
    "colab": {
      "name": "Logistic_regression.ipynb",
      "provenance": [],
      "collapsed_sections": []
    },
    "accelerator": "TPU"
  },
  "cells": [
    {
      "cell_type": "markdown",
      "metadata": {
        "id": "DMy9gKlj66nu"
      },
      "source": [
        "You need to implement Logistic Regression from scratch in this question"
      ]
    },
    {
      "cell_type": "markdown",
      "metadata": {
        "id": "P4vk8-V166n1"
      },
      "source": [
        "1. You are provided with the dataset of sign language digits. Implement logistic regression from scratch to classify the images provided in the dataset. Load the dataset and perform splitting into training and test sets with 70:30 ratio randomly using test train split.\n",
        "2. Plot a diagram for the sigmoid function. This is used for binary classi\u0000cation. How do you modify it for multilabel dataset classification problems? State and Explain the methods used.\n",
        "3. Use both one vs all and one vs one method for the above problem statement purpose.\n",
        "4. Also get results using Log Reg from scikit learn.\n",
        "5. Report accuracy score, Confusion matrix and any other metrics you feel useful and Compare the results - from all the three.\n",
        "\n",
        "\n",
        "\n",
        "[BONUS]\n",
        "6. Display few pictures with their predicted and original labels \n",
        "7. Do the results differ? State the reasons why it is so.\n"
      ]
    },
    {
      "cell_type": "markdown",
      "metadata": {
        "id": "-1QG3nK966n2"
      },
      "source": [
        "dataset link : \n",
        "https://iiitaphyd-my.sharepoint.com/:f:/g/personal/apurva_jadhav_students_iiit_ac_in/Eictt5_qmoxNqezgQQiMWeIBph4sxlfA6jWAJNPnV2SF9Q?e=mQmYN0 \n",
        "\n",
        "                "
      ]
    },
    {
      "cell_type": "markdown",
      "metadata": {
        "id": "LkLZF0mv_UEs"
      },
      "source": [
        "## Importing dependencies"
      ]
    },
    {
      "cell_type": "code",
      "metadata": {
        "id": "sfqTDtaS66n3"
      },
      "source": [
        "import numpy as np\n",
        "import pandas as pd\n",
        "import matplotlib.pyplot as plt\n",
        "from sklearn.model_selection import train_test_split\n",
        "import pickle as pkl\n",
        "from sklearn import linear_model\n",
        "from itertools import combinations  \n",
        "from sklearn.svm import SVC\n",
        "from sklearn.multiclass import OneVsOneClassifier\n",
        "from sklearn.metrics import confusion_matrix\n",
        "from sklearn.metrics import plot_confusion_matrix\n",
        "import math\n",
        "import statistics \n",
        "from scipy import stats as s\n",
        "from sklearn.metrics import accuracy_score\n",
        "from sklearn import metrics\n",
        "\n",
        "x_l = np.load(\"X.npy\") # image\n",
        "y_l = np.load(\"Y.npy\") # label"
      ],
      "execution_count": null,
      "outputs": []
    },
    {
      "cell_type": "code",
      "metadata": {
        "id": "YsE6_FXoHQeR"
      },
      "source": [
        "#---------------------------------------- UTILITIES ----------------------------------------#\n",
        "\n",
        "def save_to_pickle(arr, filename):\n",
        "    with open(filename,'wb') as f:\n",
        "        pkl.dump(arr, f)\n",
        "     \n",
        "def load_from_pickle(filename):\n",
        "    arr = []\n",
        "    with open(filename,'rb') as f:\n",
        "        arr = pkl.load(f)\n",
        "    return arr"
      ],
      "execution_count": null,
      "outputs": []
    },
    {
      "cell_type": "markdown",
      "metadata": {
        "id": "MUZRxZegAwcg"
      },
      "source": [
        "## Data Handling & Train Test Split"
      ]
    },
    {
      "cell_type": "code",
      "metadata": {
        "id": "0QvL3DGx98F3",
        "colab": {
          "base_uri": "https://localhost:8080/"
        },
        "outputId": "9e5f3720-371e-4b39-d7e0-8d9d58d086f7"
      },
      "source": [
        "x = []\n",
        "for row in x_l:\n",
        "    temp = row.flatten()\n",
        "    x.append(temp)\n",
        "\n",
        "X = np.array(x)\n",
        "\n",
        "def concatenate_ones(x):\n",
        "    ones = np.ones(shape = x.shape[0]).reshape(-1,1)\n",
        "    return np.concatenate((ones, x), 1)\n",
        "\n",
        "X = concatenate_ones(X)\n",
        "x_train, x_test, y_train, y_test = train_test_split(X, y_l, test_size=0.3, random_state=42)\n",
        "print(x_train.shape)\n",
        "print(y_train.shape)"
      ],
      "execution_count": null,
      "outputs": [
        {
          "output_type": "stream",
          "text": [
            "(1443, 4097)\n",
            "(1443, 10)\n"
          ],
          "name": "stdout"
        }
      ]
    },
    {
      "cell_type": "markdown",
      "metadata": {
        "id": "YZWh7UjhyJca"
      },
      "source": [
        "## Model Creation and Training"
      ]
    },
    {
      "cell_type": "code",
      "metadata": {
        "id": "aVmGZiIEtieY"
      },
      "source": [
        "m = x_train.shape[0]        #-----------------> No. of training data\n",
        "n = x_train.shape[1]        #-----------------> No. of features\n",
        "no_of_classes = y_train.shape[1]"
      ],
      "execution_count": null,
      "outputs": []
    },
    {
      "cell_type": "markdown",
      "metadata": {
        "id": "6O7whyeAAmdD"
      },
      "source": [
        "## Code for One vs All "
      ]
    },
    {
      "cell_type": "code",
      "metadata": {
        "id": "GQrZ6VvEqmiN"
      },
      "source": [
        "learning_rate = 0.01\n",
        "epochs = 1500\n",
        "\n",
        "def sigmoid(z):\n",
        "    return 1 / (1 + np.exp(-(z)))\n",
        "\n",
        "\n",
        "def hypothesis(weights, X):\n",
        "    z = np.dot(X, weights)\n",
        "    return sigmoid(z)\n",
        "\n",
        "\n",
        "def compute_cost(x, y, weights):\n",
        "    A = sigmoid(x.dot(weights))\n",
        "    return -1/m*(np.dot(y.T,np.log(A))+(np.dot((1-y).T,np.log(1-A))))\n",
        "\n",
        "\n",
        "def gradient_descent(X, y, weights, learning_rate, epochs):\n",
        "    cost_history = np.zeros(epochs)\n",
        "\n",
        "    for i in range(epochs):\n",
        "        cost = compute_cost(X,y,weights)\n",
        "\n",
        "        for j in range(no_of_classes):\n",
        "            theta1 = weights[:,j]\n",
        "            theta1 = theta1.reshape(-1,1)\n",
        "\n",
        "            h = hypothesis(theta1, X)\n",
        "\n",
        "            for k in range(n):\n",
        "                theta2 = y[:,j]\n",
        "                theta3 = X[:,k]\n",
        "                theta2 = theta2.reshape(-1,1)\n",
        "                theta3 = theta3.reshape(-1,1)\n",
        "                weights[k][j] -= (learning_rate/m) * np.sum((h - theta2)*theta3)\n",
        "        \n",
        "        cost_history[i] = cost.mean()\n",
        "\n",
        "    return weights, cost_history\n",
        "\n",
        "\n",
        "#weights = np.zeros([n, no_of_classes])\n",
        "#weights, cost_history = gradient_descent(x_train, y_train, weights, learning_rate, epochs)\n",
        "#save_to_pickle(weights, \"weights150.pkl\")"
      ],
      "execution_count": null,
      "outputs": []
    },
    {
      "cell_type": "markdown",
      "metadata": {
        "id": "Qi6q9hQbKEva"
      },
      "source": [
        "### Predictions on Test Data"
      ]
    },
    {
      "cell_type": "code",
      "metadata": {
        "id": "SEb7Fna5tcG0"
      },
      "source": [
        "weights = load_from_pickle(\"weights150.pkl\")\n",
        "\n",
        "predicted = []\n",
        "for i in range(no_of_classes):\n",
        "    theta = weights[:,i]\n",
        "    theta = theta.reshape(-1,1)\n",
        "    predicted.append(hypothesis(theta, x_test))\n",
        "\n",
        "predicted = np.array(predicted)"
      ],
      "execution_count": null,
      "outputs": []
    },
    {
      "cell_type": "markdown",
      "metadata": {
        "id": "MhrOi7P-KJ5f"
      },
      "source": [
        "### Accuracy, Classification report and Confusion matrix"
      ]
    },
    {
      "cell_type": "code",
      "metadata": {
        "colab": {
          "base_uri": "https://localhost:8080/"
        },
        "id": "miI948gbYEVA",
        "outputId": "8f509a27-9fd0-42f8-cb88-7e1f1005036f"
      },
      "source": [
        "predicted = np.squeeze(predicted)\n",
        "predicted = predicted.T\n",
        "ypred = []\n",
        "\n",
        "for row in predicted:\n",
        "    ypred.append(np.argmax(row))\n",
        "\n",
        "ypred = np.array(ypred)\n",
        "\n",
        "yactual = []\n",
        "for row in y_test:\n",
        "    yactual.append(np.argmax(row))\n",
        "\n",
        "yactual = np.array(yactual)\n",
        "print(\"Accuracy of One vs Rest from scratch\")\n",
        "print(\"------------------------------------\\n\")\n",
        "print(accuracy_score(yactual, ypred))\n",
        "\n",
        "print()\n",
        "print()\n",
        "print(\"Classification report\")\n",
        "print(\"---------------------\\n\")\n",
        "print(metrics.classification_report(yactual, ypred))\n",
        "print()\n",
        "print(\"\\nConfusion matrix\")\n",
        "print(\"------------------\\n\")\n",
        "matrix = confusion_matrix(yactual, ypred)\n",
        "print(matrix)\n"
      ],
      "execution_count": null,
      "outputs": [
        {
          "output_type": "stream",
          "text": [
            "Accuracy of One vs Rest from scratch\n",
            "------------------------------------\n",
            "\n",
            "0.7609046849757674\n",
            "\n",
            "\n",
            "Classification report\n",
            "---------------------\n",
            "\n",
            "              precision    recall  f1-score   support\n",
            "\n",
            "           0       0.81      0.93      0.86        55\n",
            "           1       0.86      0.86      0.86        70\n",
            "           2       0.70      0.70      0.70        76\n",
            "           3       0.69      0.75      0.72        63\n",
            "           4       0.73      0.79      0.76        52\n",
            "           5       0.71      0.73      0.72        55\n",
            "           6       0.69      0.54      0.60        65\n",
            "           7       0.88      0.82      0.85        62\n",
            "           8       0.66      0.65      0.66        60\n",
            "           9       0.87      0.89      0.88        61\n",
            "\n",
            "    accuracy                           0.76       619\n",
            "   macro avg       0.76      0.76      0.76       619\n",
            "weighted avg       0.76      0.76      0.76       619\n",
            "\n",
            "\n",
            "\n",
            "Confusion matrix\n",
            "------------------\n",
            "\n",
            "[[51  0  0  0  0  1  2  0  0  1]\n",
            " [ 1 60  0  3  1  1  4  0  0  0]\n",
            " [ 0  2 53  3  3  4  4  0  7  0]\n",
            " [ 0  2  5 47  1  1  2  0  5  0]\n",
            " [ 0  3  0  1 41  4  1  2  0  0]\n",
            " [ 4  1  5  0  2 40  0  0  2  1]\n",
            " [ 2  1  5 10  0  5 35  0  3  4]\n",
            " [ 4  0  1  0  1  0  0 51  3  2]\n",
            " [ 0  1  7  4  7  0  1  1 39  0]\n",
            " [ 1  0  0  0  0  0  2  4  0 54]]\n"
          ],
          "name": "stdout"
        }
      ]
    },
    {
      "cell_type": "markdown",
      "metadata": {
        "id": "xxG8PeIZlhT3"
      },
      "source": [
        "## Code for One vs One"
      ]
    },
    {
      "cell_type": "code",
      "metadata": {
        "id": "Hk0KwqO7gvt7"
      },
      "source": [
        "learning_rate = 0.1\n",
        "epochs = 1500\n",
        "labels = [0,1,2,3,4,5,6,7,8,9]\n",
        "\n",
        "\n",
        "def nCr(n,r):\n",
        "    f = math.factorial\n",
        "    return f(n) / f(r) / f(n-r)\n",
        "\n",
        "\n",
        "def find_combinations(labels):  \n",
        "    return list(combinations(labels, 2))\n",
        "\n",
        "\n",
        "combs = find_combinations(labels)\n",
        "\n",
        "\n",
        "def sigmoid(z):\n",
        "    return 1 / (1 + np.exp(-z))\n",
        "\n",
        "\n",
        "def gradient_descent(x, y, weights, learning_rate, epochs):\n",
        "    for i in range(epochs):\n",
        "        predictions = sigmoid(x.dot(weights))\n",
        "        errors = np.subtract(predictions, y)\n",
        "        sum_delta = (learning_rate / m) * x.transpose().dot(errors);\n",
        "        weights = weights - sum_delta;\n",
        "    return weights\n",
        "\n",
        "\n",
        "total_classifiers = int (nCr(no_of_classes, 2))\n",
        "\n",
        "\n",
        "weights = []\n",
        "\n",
        "for i in range(total_classifiers):\n",
        "\n",
        "    label_0 = combs[i][0]\n",
        "    label_1 = combs[i][1]\n",
        "    \n",
        "    xtrn = []\n",
        "    ytrn = []\n",
        "\n",
        "    for j in range(m):\n",
        "\n",
        "        if np.argmax(y_train[j])==label_0:\n",
        "            xtrn.append(x_train[j])\n",
        "            ytrn.append(0)\n",
        "        elif np.argmax(y_train[j])==label_1:\n",
        "            xtrn.append(x_train[j])\n",
        "            ytrn.append(1)        \n",
        "\n",
        "    theta_row = np.zeros(n)\n",
        "    theta_row = theta_row.reshape(-1,1)\n",
        "    xtrn = np.array(xtrn)\n",
        "    ytrn = np.array(ytrn)\n",
        "    ytrn = ytrn.reshape(-1,1)\n",
        "    theta_row = gradient_descent(xtrn, ytrn, theta_row, learning_rate, epochs)\n",
        "    weights.append(theta_row)\n",
        "\n",
        "\n",
        "weights = np.array(weights)\n",
        "weights = np.squeeze(weights)\n",
        "#print(weights.shape)"
      ],
      "execution_count": null,
      "outputs": []
    },
    {
      "cell_type": "markdown",
      "metadata": {
        "id": "NTYUID47oc79"
      },
      "source": [
        "### Predictions On Test data"
      ]
    },
    {
      "cell_type": "code",
      "metadata": {
        "id": "nPS1-UqYoTb_"
      },
      "source": [
        "predictions = []\n",
        "\n",
        "predictions = sigmoid(x_test.dot(weights.T))\n",
        "\n",
        "pred = []\n",
        "for i in range(predictions.shape[0]):\n",
        "    prd = []\n",
        "    for j in range(predictions.shape[1]):\n",
        "        var = predictions[i][j]\n",
        "        if (var<0.5):\n",
        "            prd.append(combs[j][0])\n",
        "        else:\n",
        "            prd.append(combs[j][1])\n",
        "\n",
        "    pred.append(int(s.mode(prd)[0]))"
      ],
      "execution_count": null,
      "outputs": []
    },
    {
      "cell_type": "markdown",
      "metadata": {
        "id": "KBlpLxj2bQB7"
      },
      "source": [
        "### Accuracy, Classification report and Confusion matrix"
      ]
    },
    {
      "cell_type": "code",
      "metadata": {
        "colab": {
          "base_uri": "https://localhost:8080/"
        },
        "id": "bZa3WzOzSJkt",
        "outputId": "11201987-213a-406b-c7d0-55f76acad06c"
      },
      "source": [
        "yactual = []\n",
        "for row in y_test:\n",
        "    yactual.append(np.argmax(row))\n",
        "yactual = np.array(yactual)\n",
        "\n",
        "print(\"Accuracy of One vs One from scratch\")\n",
        "print(\"------------------------------------\\n\")\n",
        "print(accuracy_score(yactual, pred))\n",
        "print()\n",
        "print()\n",
        "print(\"Classification report\")\n",
        "print(\"---------------------\\n\")\n",
        "print(metrics.classification_report(yactual, pred))\n",
        "print()\n",
        "print(\"\\nConfusion matrix\")\n",
        "print(\"------------------\\n\")\n",
        "matrix = confusion_matrix(yactual, pred)\n",
        "print(matrix)"
      ],
      "execution_count": null,
      "outputs": [
        {
          "output_type": "stream",
          "text": [
            "Accuracy of One vs Rest from scratch\n",
            "------------------------------------\n",
            "\n",
            "0.7609046849757674\n",
            "\n",
            "\n",
            "Classification report\n",
            "---------------------\n",
            "\n",
            "              precision    recall  f1-score   support\n",
            "\n",
            "           0       0.87      0.95      0.90        55\n",
            "           1       0.84      0.90      0.87        70\n",
            "           2       0.63      0.78      0.69        76\n",
            "           3       0.84      0.41      0.55        63\n",
            "           4       0.76      0.75      0.76        52\n",
            "           5       0.75      0.76      0.76        55\n",
            "           6       0.56      0.62      0.58        65\n",
            "           7       0.88      0.84      0.86        62\n",
            "           8       0.72      0.73      0.73        60\n",
            "           9       0.90      0.89      0.89        61\n",
            "\n",
            "    accuracy                           0.76       619\n",
            "   macro avg       0.77      0.76      0.76       619\n",
            "weighted avg       0.77      0.76      0.76       619\n",
            "\n",
            "\n",
            "\n",
            "Confusion matrix\n",
            "------------------\n",
            "\n",
            "[[52  2  0  0  0  0  1  0  0  0]\n",
            " [ 0 63  0  2  1  1  3  0  0  0]\n",
            " [ 0  1 59  2  2  5  2  1  4  0]\n",
            " [ 0  2  6 26  1  1 22  0  5  0]\n",
            " [ 2  3  1  0 39  3  1  1  1  1]\n",
            " [ 2  1  7  0  1 42  0  0  1  1]\n",
            " [ 1  2 13  0  0  3 40  0  3  3]\n",
            " [ 2  0  1  0  2  0  1 52  3  1]\n",
            " [ 0  1  7  1  5  1  0  1 44  0]\n",
            " [ 1  0  0  0  0  0  2  4  0 54]]\n"
          ],
          "name": "stdout"
        }
      ]
    },
    {
      "cell_type": "markdown",
      "metadata": {
        "id": "29Az3wxx9gig"
      },
      "source": [
        "## Logistic Regression using Scikit Learn"
      ]
    },
    {
      "cell_type": "code",
      "metadata": {
        "id": "gbtngW6sGb3R"
      },
      "source": [
        "yone = []\n",
        "for row in y_train:\n",
        "    yone.append(np.argmax(row))\n",
        "\n",
        "ytwo = []\n",
        "for row in y_test:\n",
        "    ytwo.append(np.argmax(row))\n",
        "\n",
        "y_train2 = np.array(yone)\n",
        "y_test2 = np.array(ytwo)"
      ],
      "execution_count": null,
      "outputs": []
    },
    {
      "cell_type": "markdown",
      "metadata": {
        "id": "pyhse5eUDCti"
      },
      "source": [
        "#### 1. One vs Rest"
      ]
    },
    {
      "cell_type": "code",
      "metadata": {
        "colab": {
          "base_uri": "https://localhost:8080/"
        },
        "id": "IVIIghjj9gIM",
        "outputId": "2674c2d6-84ca-404b-a260-80d461ba83b3"
      },
      "source": [
        "lm = linear_model.LogisticRegression(multi_class='ovr', solver='liblinear')\n",
        "lm.fit(x_train, y_train2)\n",
        "print(\"Accuracy of One vs Rest using sklearn\")\n",
        "print(\"------------------------------------\\n\")\n",
        "print(lm.score(x_test, y_test2))\n",
        "yp1 = lm.predict(x_test)"
      ],
      "execution_count": null,
      "outputs": [
        {
          "output_type": "stream",
          "text": [
            "Accuracy of One vs Rest using sklearn\n",
            "------------------------------------\n",
            "\n",
            "0.7302100161550888\n"
          ],
          "name": "stdout"
        }
      ]
    },
    {
      "cell_type": "code",
      "metadata": {
        "colab": {
          "base_uri": "https://localhost:8080/",
          "height": 279
        },
        "id": "X7asjxEKS96u",
        "outputId": "41c0a431-f3e1-4668-a520-325cbcc8b5eb"
      },
      "source": [
        "matrix = confusion_matrix(y_test2, yp1)\n",
        "graph = plot_confusion_matrix(lm, x_test, y_test2)\n",
        "plt.show()"
      ],
      "execution_count": null,
      "outputs": [
        {
          "output_type": "display_data",
          "data": {
            "image/png": "[encoded data removed]",
            "text/plain": [
              "<Figure size 432x288 with 2 Axes>"
            ]
          },
          "metadata": {
            "tags": [],
            "needs_background": "light"
          }
        }
      ]
    },
    {
      "cell_type": "markdown",
      "metadata": {
        "id": "r9g-sc3rDNNn"
      },
      "source": [
        "#### 2. One vs One"
      ]
    },
    {
      "cell_type": "code",
      "metadata": {
        "colab": {
          "base_uri": "https://localhost:8080/"
        },
        "id": "0qQbvMiqGU08",
        "outputId": "99981ea1-47d9-44c9-acd5-8ccf859f2d54"
      },
      "source": [
        "model = SVC()\n",
        "lm2 = OneVsOneClassifier(model)\n",
        "lm2.fit(x_train, y_train2)\n",
        "print(\"Accuracy of One vs One using sklearn\")\n",
        "print(\"------------------------------------\\n\")\n",
        "print(lm2.score(x_test, y_test2))\n",
        "yp2 = lm2.predict(x_test)"
      ],
      "execution_count": null,
      "outputs": [
        {
          "output_type": "stream",
          "text": [
            "Accuracy of One vs One using sklearn\n",
            "------------------------------------\n",
            "\n",
            "0.8384491114701131\n"
          ],
          "name": "stdout"
        }
      ]
    },
    {
      "cell_type": "code",
      "metadata": {
        "colab": {
          "base_uri": "https://localhost:8080/",
          "height": 279
        },
        "id": "Zl26bBSVZYYo",
        "outputId": "1924f53a-a427-407f-b9a6-bd4dc9f89ece"
      },
      "source": [
        "matrix = confusion_matrix(y_test2, yp2)\n",
        "graph = plot_confusion_matrix(lm2, x_test, y_test2)\n",
        "plt.show()"
      ],
      "execution_count": null,
      "outputs": [
        {
          "output_type": "display_data",
          "data": {
            "image/png": "[encoded data removed]",
            "text/plain": [
              "<Figure size 432x288 with 2 Axes>"
            ]
          },
          "metadata": {
            "tags": [],
            "needs_background": "light"
          }
        }
      ]
    }
  ]
}