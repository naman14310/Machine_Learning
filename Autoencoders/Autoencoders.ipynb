{
  "nbformat": 4,
  "nbformat_minor": 0,
  "metadata": {
    "colab": {
      "name": "Q2.ipynb",
      "provenance": []
    },
    "kernelspec": {
      "name": "python3",
      "display_name": "Python 3"
    },
    "language_info": {
      "name": "python"
    }
  },
  "cells": [
    {
      "cell_type": "markdown",
      "metadata": {
        "id": "tjuzdXDPoGjw"
      },
      "source": [
        "### Importing Dependencies\n"
      ]
    },
    {
      "cell_type": "code",
      "metadata": {
        "id": "VG74qMxebGYh"
      },
      "source": [
        "import numpy as np\n",
        "import math\n",
        "import tensorflow as tf  \n",
        "from tensorflow import keras\n",
        "import matplotlib.pyplot as plt\n",
        "from keras.datasets import mnist\n",
        "from keras.utils import to_categorical\n",
        "from sklearn.model_selection import train_test_split\n",
        "from keras.models import Sequential, Model\n",
        "from keras.layers import Dense, Dropout, Activation, Flatten, MaxPool2D, LeakyReLU, Input\n",
        "from keras.layers import Conv2D, BatchNormalization\n",
        "from keras.optimizers import Adam\n",
        "from keras.optimizers import SGD\n",
        "from keras.preprocessing.image import ImageDataGenerator\n",
        "from keras.callbacks import EarlyStopping, ReduceLROnPlateau, LearningRateScheduler\n",
        "from sklearn.decomposition import PCA"
      ],
      "execution_count": null,
      "outputs": []
    },
    {
      "cell_type": "markdown",
      "metadata": {
        "id": "ehOwS-vBoDdn"
      },
      "source": [
        "### Loading Datasets"
      ]
    },
    {
      "cell_type": "code",
      "metadata": {
        "colab": {
          "base_uri": "https://localhost:8080/"
        },
        "id": "fPsI-EWln0Iq",
        "outputId": "23a44379-b69b-4338-92d2-2a40c9d64497"
      },
      "source": [
        "(x_train, y_train) , (x_test, y_test) = mnist.load_data()\n",
        "\n",
        "x = np.concatenate((x_train, x_test), axis=0)\n",
        "y = np.concatenate((y_train, y_test), axis=0)\n",
        "x_train, x_test, y_train, y_test = train_test_split(x, y, test_size=0.3, random_state=55)\n",
        "\n",
        "x_train= x_train.reshape(x_train.shape[0], 28, 28, 1)\n",
        "x_test = x_test.reshape(x_test.shape[0],28,28,1)\n",
        "print(\"\\nData after 70:30 split\")\n",
        "print(\"----------------------\\n\")\n",
        "print(\"X_train shape :\", x_train.shape)\n",
        "print(\"X_train shape :\", y_train.shape)\n",
        "print(\"X_train shape :\", x_test.shape)\n",
        "print(\"X_train shape :\", y_test.shape)"
      ],
      "execution_count": null,
      "outputs": [
        {
          "output_type": "stream",
          "text": [
            "\n",
            "Data after 70:30 split\n",
            "----------------------\n",
            "\n",
            "X_train shape : (49000, 28, 28, 1)\n",
            "X_train shape : (49000,)\n",
            "X_train shape : (21000, 28, 28, 1)\n",
            "X_train shape : (21000,)\n"
          ],
          "name": "stdout"
        }
      ]
    },
    {
      "cell_type": "markdown",
      "metadata": {
        "id": "LwuHK4pOn_D4"
      },
      "source": [
        "### Normalize Data"
      ]
    },
    {
      "cell_type": "code",
      "metadata": {
        "id": "kcdGe5dLn7_U"
      },
      "source": [
        "def normalize_data(x_train, x_test):\n",
        "    x_train = x_train / 255.0\n",
        "    x_test = x_test / 255.0\n",
        "    return x_train, x_test\n",
        "    \n",
        "x_train, x_test = normalize_data(x_train, x_test)"
      ],
      "execution_count": null,
      "outputs": []
    },
    {
      "cell_type": "markdown",
      "metadata": {
        "id": "UrZZSMv8_F4G"
      },
      "source": [
        "### Function For plotting Epoch vs loss graph"
      ]
    },
    {
      "cell_type": "code",
      "metadata": {
        "id": "BwsVmMjm_RBJ"
      },
      "source": [
        "def plot_epoch_vs_loss(hist):\n",
        "    fig = plt.figure()\n",
        "    ax = fig.add_subplot(111)\n",
        "    ax.set_facecolor('w')\n",
        "    ax.grid(b=False)\n",
        "    ax.plot(hist.history['loss'], color='red')\n",
        "    ax.plot(hist.history['val_loss'], color ='green')\n",
        "    plt.title('model loss')\n",
        "    plt.ylabel('loss')\n",
        "    plt.xlabel('epoch')\n",
        "    plt.legend(['train', 'test'], loc='upper right')\n",
        "    plt.show()"
      ],
      "execution_count": null,
      "outputs": []
    },
    {
      "cell_type": "markdown",
      "metadata": {
        "id": "UWF0WtSRbHVP"
      },
      "source": [
        "# Autoencoder class"
      ]
    },
    {
      "cell_type": "code",
      "metadata": {
        "id": "ynyK8m4abHJQ"
      },
      "source": [
        "class Autoencoder:\n",
        "\n",
        "    def __init__(self, hidden_neurons, optimizer):\n",
        "\n",
        "        #------------------------------- ENCODER --------------------------------#\n",
        "\n",
        "        encoder_input = keras.Input(shape=(28, 28, 1))\n",
        "        input = keras.layers.Flatten()(encoder_input)\n",
        "        hidden_en = keras.layers.Dense(256, activation=\"relu\")(input)\n",
        "\n",
        "        encoder_output = keras.layers.Dense(hidden_neurons, activation=\"relu\")(hidden_en)    #-------------> Bottleneck layer\n",
        "\n",
        "        #------------------------------- DECODER --------------------------------#\n",
        "\n",
        "        decoder_input = keras.layers.Dense(256, activation=\"relu\")(encoder_output)\n",
        "        hidden_de = keras.layers.Dense(784, activation=\"relu\")(decoder_input)\n",
        "        decoder_output = keras.layers.Reshape((28, 28))(hidden_de)\n",
        "\n",
        "        self.encoder = keras.Model(encoder_input, encoder_output, name='encoder')\n",
        "        self.autoencoder = keras.Model(encoder_input, decoder_output, name='autoencoder')\n",
        "\n",
        "        self.autoencoder.compile(optimizer, loss = 'mse')\n",
        "\n",
        "\n",
        "    def train(self, epoch, x_train):\n",
        "        history_adam_64 = self.autoencoder.fit(x_train, x_train, epochs=epoch, batch_size=32, validation_split=0.3)\n",
        "        return history_adam_64  \n",
        "\n",
        "    \n",
        "    def show_latent_representation(self, x_test):\n",
        "        latent = self.encoder.predict(x_test)\n",
        "        print(\"Latent representation of image\")\n",
        "        print(\"------------------------------\\n\")\n",
        "        plt.imshow(latent[0].reshape((8,8)))\n",
        "\n",
        "    \n",
        "    def show_reconstructed_image(self, x_test):\n",
        "        reconstructed_image = self.autoencoder.predict(x_test)\n",
        "        print(\"Reconstructed image\")\n",
        "        print(\"-------------------\\n\")\n",
        "        plt.imshow(reconstructed_image[0].reshape((28,28)))\n"
      ],
      "execution_count": null,
      "outputs": []
    },
    {
      "cell_type": "code",
      "metadata": {
        "colab": {
          "base_uri": "https://localhost:8080/"
        },
        "id": "cxEwgBVUfLPm",
        "outputId": "3bd578ee-2ce3-4b7b-8c63-393fac2be15b"
      },
      "source": [
        "autoencoder = Autoencoder(64, 'Adam')\n",
        "hist = autoencoder.train(10, x_train)"
      ],
      "execution_count": null,
      "outputs": [
        {
          "output_type": "stream",
          "text": [
            "Epoch 1/10\n",
            "1072/1072 [==============================] - 8s 7ms/step - loss: 0.0325 - val_loss: 0.0152\n",
            "Epoch 2/10\n",
            "1072/1072 [==============================] - 7s 7ms/step - loss: 0.0148 - val_loss: 0.0139\n",
            "Epoch 3/10\n",
            "1072/1072 [==============================] - 7s 7ms/step - loss: 0.0138 - val_loss: 0.0135\n",
            "Epoch 4/10\n",
            "1072/1072 [==============================] - 7s 7ms/step - loss: 0.0133 - val_loss: 0.0129\n",
            "Epoch 5/10\n",
            "1072/1072 [==============================] - 7s 7ms/step - loss: 0.0127 - val_loss: 0.0123\n",
            "Epoch 6/10\n",
            "1072/1072 [==============================] - 7s 7ms/step - loss: 0.0123 - val_loss: 0.0123\n",
            "Epoch 7/10\n",
            "1072/1072 [==============================] - 8s 7ms/step - loss: 0.0120 - val_loss: 0.0115\n",
            "Epoch 8/10\n",
            "1072/1072 [==============================] - 8s 7ms/step - loss: 0.0113 - val_loss: 0.0114\n",
            "Epoch 9/10\n",
            "1072/1072 [==============================] - 7s 7ms/step - loss: 0.0112 - val_loss: 0.0114\n",
            "Epoch 10/10\n",
            "1072/1072 [==============================] - 7s 7ms/step - loss: 0.0111 - val_loss: 0.0110\n"
          ],
          "name": "stdout"
        }
      ]
    },
    {
      "cell_type": "code",
      "metadata": {
        "colab": {
          "base_uri": "https://localhost:8080/",
          "height": 315
        },
        "id": "AZ6RJuYsi8FV",
        "outputId": "5cb2c1f5-fc66-4922-c6ce-a7bd12dcd054"
      },
      "source": [
        "autoencoder.show_latent_representation(x_test)"
      ],
      "execution_count": null,
      "outputs": [
        {
          "output_type": "stream",
          "text": [
            "Latent representation of image\n",
            "------------------------------\n",
            "\n"
          ],
          "name": "stdout"
        },
        {
          "output_type": "display_data",
          "data": {
            "image/png": "[encoded data removed]",
            "text/plain": [
              "<Figure size 432x288 with 1 Axes>"
            ]
          },
          "metadata": {
            "tags": [],
            "needs_background": "light"
          }
        }
      ]
    },
    {
      "cell_type": "code",
      "metadata": {
        "colab": {
          "base_uri": "https://localhost:8080/",
          "height": 315
        },
        "id": "xKgMdSYCjMe0",
        "outputId": "0ac3ccb0-488e-4052-bc09-9009b8b59450"
      },
      "source": [
        "autoencoder.show_reconstructed_image(x_test)"
      ],
      "execution_count": null,
      "outputs": [
        {
          "output_type": "stream",
          "text": [
            "Reconstructed image\n",
            "-------------------\n",
            "\n"
          ],
          "name": "stdout"
        },
        {
          "output_type": "display_data",
          "data": {
            "image/png": "[encoded data removed]",
            "text/plain": [
              "<Figure size 432x288 with 1 Axes>"
            ]
          },
          "metadata": {
            "tags": [],
            "needs_background": "light"
          }
        }
      ]
    },
    {
      "cell_type": "code",
      "metadata": {
        "colab": {
          "base_uri": "https://localhost:8080/",
          "height": 332
        },
        "id": "wvz4PUpIjjm0",
        "outputId": "425b8b0c-cdbe-484a-e7fa-c8d75021bad9"
      },
      "source": [
        "print(\"Actual image\")\n",
        "print(\"------------\\n\")\n",
        "plt.imshow(x_test[0].reshape((28,28)))"
      ],
      "execution_count": null,
      "outputs": [
        {
          "output_type": "stream",
          "text": [
            "Actual image\n",
            "------------\n",
            "\n"
          ],
          "name": "stdout"
        },
        {
          "output_type": "execute_result",
          "data": {
            "text/plain": [
              "<matplotlib.image.AxesImage at 0x7fd26b7cbd90>"
            ]
          },
          "metadata": {
            "tags": []
          },
          "execution_count": 9
        },
        {
          "output_type": "display_data",
          "data": {
            "image/png": "[encoded data removed]",
            "text/plain": [
              "<Figure size 432x288 with 1 Axes>"
            ]
          },
          "metadata": {
            "tags": [],
            "needs_background": "light"
          }
        }
      ]
    },
    {
      "cell_type": "markdown",
      "metadata": {
        "id": "on2dLCk71BzS"
      },
      "source": [
        "# Experimenting with different optimizers"
      ]
    },
    {
      "cell_type": "markdown",
      "metadata": {
        "id": "KLJ9rqEc1HSp"
      },
      "source": [
        "### 1. ADAM"
      ]
    },
    {
      "cell_type": "markdown",
      "metadata": {
        "id": "PR4CBJU7LI6i"
      },
      "source": [
        "#### a) Hidden Neurons = 64"
      ]
    },
    {
      "cell_type": "code",
      "metadata": {
        "colab": {
          "base_uri": "https://localhost:8080/"
        },
        "id": "wqLGgCoDy6TJ",
        "outputId": "4a2bd6ee-1270-49fc-a109-9c38fd0f8f20"
      },
      "source": [
        "encoder_input = keras.Input(shape=(28, 28, 1))\n",
        "input = keras.layers.Flatten()(encoder_input)\n",
        "hidden_en = keras.layers.Dense(256, activation=\"relu\")(input)\n",
        "encoder_output = keras.layers.Dense(64, activation=\"relu\")(hidden_en)    #-------------> Bottleneck layer\n",
        "decoder_input = keras.layers.Dense(256, activation=\"relu\")(encoder_output)\n",
        "hidden_de = keras.layers.Dense(784, activation=\"relu\")(decoder_input)\n",
        "decoder_output = keras.layers.Reshape((28, 28))(hidden_de)\n",
        "optimizer = tf.keras.optimizers.Adam(lr=0.001, decay=1e-6)\n",
        "encoder = keras.Model(encoder_input, encoder_output, name='encoder')\n",
        "autoencoder = keras.Model(encoder_input, decoder_output, name='autoencoder')\n",
        "autoencoder.compile(optimizer, loss='mse')\n",
        "history_adam_64 = autoencoder.fit(x_train, x_train, epochs=10, batch_size=32, validation_split=0.3)  "
      ],
      "execution_count": null,
      "outputs": [
        {
          "output_type": "stream",
          "text": [
            "Epoch 1/10\n",
            "1072/1072 [==============================] - 9s 8ms/step - loss: 0.0304 - val_loss: 0.0140\n",
            "Epoch 2/10\n",
            "1072/1072 [==============================] - 8s 7ms/step - loss: 0.0135 - val_loss: 0.0125\n",
            "Epoch 3/10\n",
            "1072/1072 [==============================] - 8s 7ms/step - loss: 0.0124 - val_loss: 0.0122\n",
            "Epoch 4/10\n",
            "1072/1072 [==============================] - 8s 7ms/step - loss: 0.0119 - val_loss: 0.0117\n",
            "Epoch 5/10\n",
            "1072/1072 [==============================] - 8s 7ms/step - loss: 0.0116 - val_loss: 0.0114\n",
            "Epoch 6/10\n",
            "1072/1072 [==============================] - 7s 7ms/step - loss: 0.0112 - val_loss: 0.0112\n",
            "Epoch 7/10\n",
            "1072/1072 [==============================] - 7s 7ms/step - loss: 0.0110 - val_loss: 0.0108\n",
            "Epoch 8/10\n",
            "1072/1072 [==============================] - 7s 7ms/step - loss: 0.0106 - val_loss: 0.0104\n",
            "Epoch 9/10\n",
            "1072/1072 [==============================] - 8s 7ms/step - loss: 0.0102 - val_loss: 0.0101\n",
            "Epoch 10/10\n",
            "1072/1072 [==============================] - 7s 7ms/step - loss: 0.0101 - val_loss: 0.0101\n"
          ],
          "name": "stdout"
        }
      ]
    },
    {
      "cell_type": "code",
      "metadata": {
        "colab": {
          "base_uri": "https://localhost:8080/",
          "height": 346
        },
        "id": "6btlpK5J9k3G",
        "outputId": "2816a61f-f96f-43c5-b6e8-6f6c06ff933e"
      },
      "source": [
        "print(\"Epoch vs loss for ADAM (Hidden Neurons = 64)\")\n",
        "print(\"----------------------\\n\")\n",
        "plot_epoch_vs_loss(history_adam_64)"
      ],
      "execution_count": null,
      "outputs": [
        {
          "output_type": "stream",
          "text": [
            "Epoch vs loss for ADAM (Hidden Neurons = 64)\n",
            "----------------------\n",
            "\n"
          ],
          "name": "stdout"
        },
        {
          "output_type": "display_data",
          "data": {
            "image/png": "[encoded data removed]",
            "text/plain": [
              "<Figure size 432x288 with 1 Axes>"
            ]
          },
          "metadata": {
            "tags": [],
            "needs_background": "light"
          }
        }
      ]
    },
    {
      "cell_type": "markdown",
      "metadata": {
        "id": "03473dPCLG_u"
      },
      "source": [
        "#### b) Hidden Neurons = 128"
      ]
    },
    {
      "cell_type": "code",
      "metadata": {
        "colab": {
          "base_uri": "https://localhost:8080/"
        },
        "id": "zgj803RELnDE",
        "outputId": "9d8f857f-1a4c-44cd-a511-21e8e827a59d"
      },
      "source": [
        "encoder_input = keras.Input(shape=(28, 28, 1))\n",
        "input = keras.layers.Flatten()(encoder_input)\n",
        "hidden_en = keras.layers.Dense(256, activation=\"relu\")(input)\n",
        "encoder_output = keras.layers.Dense(128, activation=\"relu\")(hidden_en)    #-------------> Bottleneck layer\n",
        "\n",
        "encoder = keras.Model(encoder_input, encoder_output, name='encoder')\n",
        "\n",
        "decoder_input = keras.layers.Dense(256, activation=\"relu\")(encoder_output)\n",
        "hidden_de = keras.layers.Dense(784, activation=\"relu\")(decoder_input)\n",
        "decoder_output = keras.layers.Reshape((28, 28))(hidden_de)\n",
        "\n",
        "optimizer = tf.keras.optimizers.Adam(lr=0.001, decay=1e-6)\n",
        "\n",
        "autoencoder = keras.Model(encoder_input, decoder_output, name='autoencoder')\n",
        "#autoencoder.summary()\n",
        "autoencoder.compile(optimizer, loss='mse')\n",
        "history_adam_128 = autoencoder.fit(x_train, x_train, epochs=10, batch_size=32, validation_split=0.3)  "
      ],
      "execution_count": null,
      "outputs": [
        {
          "output_type": "stream",
          "text": [
            "Epoch 1/10\n",
            "1072/1072 [==============================] - 9s 8ms/step - loss: 0.0282 - val_loss: 0.0106\n",
            "Epoch 2/10\n",
            "1072/1072 [==============================] - 8s 7ms/step - loss: 0.0103 - val_loss: 0.0094\n",
            "Epoch 3/10\n",
            "1072/1072 [==============================] - 8s 8ms/step - loss: 0.0092 - val_loss: 0.0088\n",
            "Epoch 4/10\n",
            "1072/1072 [==============================] - 8s 7ms/step - loss: 0.0086 - val_loss: 0.0085\n",
            "Epoch 5/10\n",
            "1072/1072 [==============================] - 8s 7ms/step - loss: 0.0084 - val_loss: 0.0082\n",
            "Epoch 6/10\n",
            "1072/1072 [==============================] - 8s 8ms/step - loss: 0.0082 - val_loss: 0.0081\n",
            "Epoch 7/10\n",
            "1072/1072 [==============================] - 8s 8ms/step - loss: 0.0080 - val_loss: 0.0080\n",
            "Epoch 8/10\n",
            "1072/1072 [==============================] - 8s 8ms/step - loss: 0.0078 - val_loss: 0.0079\n",
            "Epoch 9/10\n",
            "1072/1072 [==============================] - 8s 8ms/step - loss: 0.0078 - val_loss: 0.0078\n",
            "Epoch 10/10\n",
            "1072/1072 [==============================] - 8s 8ms/step - loss: 0.0077 - val_loss: 0.0077\n"
          ],
          "name": "stdout"
        }
      ]
    },
    {
      "cell_type": "code",
      "metadata": {
        "colab": {
          "base_uri": "https://localhost:8080/",
          "height": 346
        },
        "id": "DMrFittNL6hx",
        "outputId": "7f4efa26-43ef-4171-9dcd-fb3f45b85c33"
      },
      "source": [
        "print(\"Epoch vs loss for ADAM (Hidden Neurons = 128)\")\n",
        "print(\"--------------------------------------------\\n\")\n",
        "plot_epoch_vs_loss(history_adam_128)"
      ],
      "execution_count": null,
      "outputs": [
        {
          "output_type": "stream",
          "text": [
            "Epoch vs loss for ADAM (Hidden Neurons = 128)\n",
            "--------------------------------------------\n",
            "\n"
          ],
          "name": "stdout"
        },
        {
          "output_type": "display_data",
          "data": {
            "image/png": "[encoded data removed]",
            "text/plain": [
              "<Figure size 432x288 with 1 Axes>"
            ]
          },
          "metadata": {
            "tags": [],
            "needs_background": "light"
          }
        }
      ]
    },
    {
      "cell_type": "markdown",
      "metadata": {
        "id": "NDvU6A1kMdKs"
      },
      "source": [
        "### c) Hidden Neurons = 32"
      ]
    },
    {
      "cell_type": "code",
      "metadata": {
        "colab": {
          "base_uri": "https://localhost:8080/"
        },
        "id": "L3H-7IPAM4BD",
        "outputId": "44508740-409d-43ca-da70-d439733455b7"
      },
      "source": [
        "encoder_input = keras.Input(shape=(28, 28, 1))\n",
        "input = keras.layers.Flatten()(encoder_input)\n",
        "hidden_en = keras.layers.Dense(256, activation=\"relu\")(input)\n",
        "encoder_output = keras.layers.Dense(32, activation=\"relu\")(hidden_en)    #-------------> Bottleneck layer\n",
        "\n",
        "encoder = keras.Model(encoder_input, encoder_output, name='encoder')\n",
        "\n",
        "decoder_input = keras.layers.Dense(256, activation=\"relu\")(encoder_output)\n",
        "hidden_de = keras.layers.Dense(784, activation=\"relu\")(decoder_input)\n",
        "decoder_output = keras.layers.Reshape((28, 28))(hidden_de)\n",
        "\n",
        "optimizer = tf.keras.optimizers.Adam(lr=0.001, decay=1e-6)\n",
        "\n",
        "autoencoder = keras.Model(encoder_input, decoder_output, name='autoencoder')\n",
        "#autoencoder.summary()\n",
        "autoencoder.compile(optimizer, loss='mse')\n",
        "history_adam_32 = autoencoder.fit(x_train, x_train, epochs=10, batch_size=32, validation_split=0.3)  "
      ],
      "execution_count": null,
      "outputs": [
        {
          "output_type": "stream",
          "text": [
            "Epoch 1/10\n",
            "1072/1072 [==============================] - 8s 7ms/step - loss: 0.0356 - val_loss: 0.0184\n",
            "Epoch 2/10\n",
            "1072/1072 [==============================] - 7s 7ms/step - loss: 0.0176 - val_loss: 0.0166\n",
            "Epoch 3/10\n",
            "1072/1072 [==============================] - 7s 7ms/step - loss: 0.0161 - val_loss: 0.0153\n",
            "Epoch 4/10\n",
            "1072/1072 [==============================] - 7s 7ms/step - loss: 0.0151 - val_loss: 0.0148\n",
            "Epoch 5/10\n",
            "1072/1072 [==============================] - 7s 7ms/step - loss: 0.0146 - val_loss: 0.0144\n",
            "Epoch 6/10\n",
            "1072/1072 [==============================] - 7s 7ms/step - loss: 0.0141 - val_loss: 0.0141\n",
            "Epoch 7/10\n",
            "1072/1072 [==============================] - 7s 7ms/step - loss: 0.0136 - val_loss: 0.0136\n",
            "Epoch 8/10\n",
            "1072/1072 [==============================] - 7s 7ms/step - loss: 0.0133 - val_loss: 0.0134\n",
            "Epoch 9/10\n",
            "1072/1072 [==============================] - 7s 7ms/step - loss: 0.0130 - val_loss: 0.0131\n",
            "Epoch 10/10\n",
            "1072/1072 [==============================] - 7s 7ms/step - loss: 0.0129 - val_loss: 0.0130\n"
          ],
          "name": "stdout"
        }
      ]
    },
    {
      "cell_type": "code",
      "metadata": {
        "colab": {
          "base_uri": "https://localhost:8080/",
          "height": 346
        },
        "id": "Vbx1MQYBNigU",
        "outputId": "539eb77a-b094-4729-8f9b-632400252b1e"
      },
      "source": [
        "print(\"Epoch vs loss for ADAM (Hidden Neurons = 32)\")\n",
        "print(\"--------------------------------------------\\n\")\n",
        "plot_epoch_vs_loss(history_adam_32)"
      ],
      "execution_count": null,
      "outputs": [
        {
          "output_type": "stream",
          "text": [
            "Epoch vs loss for ADAM (Hidden Neurons = 32)\n",
            "--------------------------------------------\n",
            "\n"
          ],
          "name": "stdout"
        },
        {
          "output_type": "display_data",
          "data": {
            "image/png": "[encoded data removed]",
            "text/plain": [
              "<Figure size 432x288 with 1 Axes>"
            ]
          },
          "metadata": {
            "tags": [],
            "needs_background": "light"
          }
        }
      ]
    },
    {
      "cell_type": "markdown",
      "metadata": {
        "id": "0AZlgyqE2LHa"
      },
      "source": [
        "### 2. RMSProp"
      ]
    },
    {
      "cell_type": "markdown",
      "metadata": {
        "id": "rpWlXaaXPT48"
      },
      "source": [
        "#### a) Hidden Neurons = 64"
      ]
    },
    {
      "cell_type": "code",
      "metadata": {
        "id": "qZUF1iiD4-8r",
        "colab": {
          "base_uri": "https://localhost:8080/"
        },
        "outputId": "e9e3cae5-a204-4623-fb60-c2649c7373e2"
      },
      "source": [
        "encoder_input = keras.Input(shape=(28, 28, 1))\n",
        "input = keras.layers.Flatten()(encoder_input)\n",
        "hidden_en = keras.layers.Dense(256, activation=\"relu\")(input)\n",
        "encoder_output = keras.layers.Dense(64, activation=\"relu\")(hidden_en)    #-------------> Bottleneck layer\n",
        "\n",
        "encoder = keras.Model(encoder_input, encoder_output, name='encoder')\n",
        "\n",
        "decoder_input = keras.layers.Dense(256, activation=\"relu\")(encoder_output)\n",
        "hidden_de = keras.layers.Dense(784, activation=\"relu\")(decoder_input)\n",
        "decoder_output = keras.layers.Reshape((28, 28))(hidden_de)\n",
        "\n",
        "autoencoder = keras.Model(encoder_input, decoder_output, name='autoencoder')\n",
        "#autoencoder.summary()\n",
        "autoencoder.compile('RMSProp', loss='mse')\n",
        "history_rms_64 = autoencoder.fit(x_train, x_train, epochs=10, batch_size=32, validation_split=0.3)  "
      ],
      "execution_count": null,
      "outputs": [
        {
          "output_type": "stream",
          "text": [
            "Epoch 1/10\n",
            "1072/1072 [==============================] - 9s 8ms/step - loss: 0.0369 - val_loss: 0.0201\n",
            "Epoch 2/10\n",
            "1072/1072 [==============================] - 9s 8ms/step - loss: 0.0194 - val_loss: 0.0167\n",
            "Epoch 3/10\n",
            "1072/1072 [==============================] - 9s 8ms/step - loss: 0.0165 - val_loss: 0.0153\n",
            "Epoch 4/10\n",
            "1072/1072 [==============================] - 9s 8ms/step - loss: 0.0153 - val_loss: 0.0142\n",
            "Epoch 5/10\n",
            "1072/1072 [==============================] - 9s 8ms/step - loss: 0.0146 - val_loss: 0.0146\n",
            "Epoch 6/10\n",
            "1072/1072 [==============================] - 9s 8ms/step - loss: 0.0141 - val_loss: 0.0141\n",
            "Epoch 7/10\n",
            "1072/1072 [==============================] - 9s 8ms/step - loss: 0.0138 - val_loss: 0.0142\n",
            "Epoch 8/10\n",
            "1072/1072 [==============================] - 8s 8ms/step - loss: 0.0133 - val_loss: 0.0136\n",
            "Epoch 9/10\n",
            "1072/1072 [==============================] - 9s 8ms/step - loss: 0.0129 - val_loss: 0.0127\n",
            "Epoch 10/10\n",
            "1072/1072 [==============================] - 9s 8ms/step - loss: 0.0124 - val_loss: 0.0128\n"
          ],
          "name": "stdout"
        }
      ]
    },
    {
      "cell_type": "code",
      "metadata": {
        "id": "RUqe0_xD7bKk",
        "colab": {
          "base_uri": "https://localhost:8080/",
          "height": 346
        },
        "outputId": "13a99856-9092-424e-d494-4dbacb840887"
      },
      "source": [
        "print(\"Epoch vs loss for RMSProp (Hidden Neurons = 64)\")\n",
        "print(\"----------------------------------------------\\n\")\n",
        "plot_epoch_vs_loss(history_rms_64)"
      ],
      "execution_count": null,
      "outputs": [
        {
          "output_type": "stream",
          "text": [
            "Epoch vs loss for RMSProp (Hidden Neurons = 64)\n",
            "----------------------------------------------\n",
            "\n"
          ],
          "name": "stdout"
        },
        {
          "output_type": "display_data",
          "data": {
            "image/png": "[encoded data removed]",
            "text/plain": [
              "<Figure size 432x288 with 1 Axes>"
            ]
          },
          "metadata": {
            "tags": [],
            "needs_background": "light"
          }
        }
      ]
    },
    {
      "cell_type": "markdown",
      "metadata": {
        "id": "mIFeXbBUP3ql"
      },
      "source": [
        "#### b) Hidden Neurons = 128"
      ]
    },
    {
      "cell_type": "code",
      "metadata": {
        "colab": {
          "base_uri": "https://localhost:8080/"
        },
        "id": "2I8d-HZ7QLoa",
        "outputId": "47a0a82b-aeb0-4fad-b482-0f205614cfe3"
      },
      "source": [
        "encoder_input = keras.Input(shape=(28, 28, 1))\n",
        "input = keras.layers.Flatten()(encoder_input)\n",
        "hidden_en = keras.layers.Dense(256, activation=\"relu\")(input)\n",
        "encoder_output = keras.layers.Dense(128, activation=\"relu\")(hidden_en)    #-------------> Bottleneck layer\n",
        "\n",
        "encoder = keras.Model(encoder_input, encoder_output, name='encoder')\n",
        "\n",
        "decoder_input = keras.layers.Dense(256, activation=\"relu\")(encoder_output)\n",
        "hidden_de = keras.layers.Dense(784, activation=\"relu\")(decoder_input)\n",
        "decoder_output = keras.layers.Reshape((28, 28))(hidden_de)\n",
        "\n",
        "autoencoder = keras.Model(encoder_input, decoder_output, name='autoencoder')\n",
        "#autoencoder.summary()\n",
        "autoencoder.compile('RMSProp', loss='mse')\n",
        "history_rms_128 = autoencoder.fit(x_train, x_train, epochs=10, batch_size=32, validation_split=0.3)  "
      ],
      "execution_count": null,
      "outputs": [
        {
          "output_type": "stream",
          "text": [
            "Epoch 1/10\n",
            "1072/1072 [==============================] - 10s 9ms/step - loss: 0.0330 - val_loss: 0.0182\n",
            "Epoch 2/10\n",
            "1072/1072 [==============================] - 9s 8ms/step - loss: 0.0160 - val_loss: 0.0156\n",
            "Epoch 3/10\n",
            "1072/1072 [==============================] - 9s 9ms/step - loss: 0.0138 - val_loss: 0.0131\n",
            "Epoch 4/10\n",
            "1072/1072 [==============================] - 9s 8ms/step - loss: 0.0129 - val_loss: 0.0124\n",
            "Epoch 5/10\n",
            "1072/1072 [==============================] - 9s 9ms/step - loss: 0.0122 - val_loss: 0.0130\n",
            "Epoch 6/10\n",
            "1072/1072 [==============================] - 9s 9ms/step - loss: 0.0116 - val_loss: 0.0125\n",
            "Epoch 7/10\n",
            "1072/1072 [==============================] - 9s 8ms/step - loss: 0.0113 - val_loss: 0.0126\n",
            "Epoch 8/10\n",
            "1072/1072 [==============================] - 9s 8ms/step - loss: 0.0109 - val_loss: 0.0116\n",
            "Epoch 9/10\n",
            "1072/1072 [==============================] - 9s 8ms/step - loss: 0.0104 - val_loss: 0.0112\n",
            "Epoch 10/10\n",
            "1072/1072 [==============================] - 9s 9ms/step - loss: 0.0102 - val_loss: 0.0092\n"
          ],
          "name": "stdout"
        }
      ]
    },
    {
      "cell_type": "code",
      "metadata": {
        "colab": {
          "base_uri": "https://localhost:8080/",
          "height": 346
        },
        "id": "aEFm7HHUQT3j",
        "outputId": "cab2fd2e-5bbe-41d5-8b8b-53691835df6f"
      },
      "source": [
        "print(\"Epoch vs loss for RMSProp (Hidden Neurons = 128)\")\n",
        "print(\"----------------------------------------------\\n\")\n",
        "plot_epoch_vs_loss(history_rms_128)"
      ],
      "execution_count": null,
      "outputs": [
        {
          "output_type": "stream",
          "text": [
            "Epoch vs loss for RMSProp (Hidden Neurons = 128)\n",
            "----------------------------------------------\n",
            "\n"
          ],
          "name": "stdout"
        },
        {
          "output_type": "display_data",
          "data": {
            "image/png": "[encoded data removed]",
            "text/plain": [
              "<Figure size 432x288 with 1 Axes>"
            ]
          },
          "metadata": {
            "tags": [],
            "needs_background": "light"
          }
        }
      ]
    },
    {
      "cell_type": "markdown",
      "metadata": {
        "id": "VLZ-nrB2QYWB"
      },
      "source": [
        "#### c) Hidden Neurons = 32"
      ]
    },
    {
      "cell_type": "code",
      "metadata": {
        "colab": {
          "base_uri": "https://localhost:8080/"
        },
        "id": "HtqnR8OXQccA",
        "outputId": "04099bcb-da40-4c34-9c99-c2012b3e6291"
      },
      "source": [
        "encoder_input = keras.Input(shape=(28, 28, 1))\n",
        "input = keras.layers.Flatten()(encoder_input)\n",
        "hidden_en = keras.layers.Dense(256, activation=\"relu\")(input)\n",
        "encoder_output = keras.layers.Dense(32, activation=\"relu\")(hidden_en)    #-------------> Bottleneck layer\n",
        "\n",
        "encoder = keras.Model(encoder_input, encoder_output, name='encoder')\n",
        "\n",
        "decoder_input = keras.layers.Dense(256, activation=\"relu\")(encoder_output)\n",
        "hidden_de = keras.layers.Dense(784, activation=\"relu\")(decoder_input)\n",
        "decoder_output = keras.layers.Reshape((28, 28))(hidden_de)\n",
        "\n",
        "autoencoder = keras.Model(encoder_input, decoder_output, name='autoencoder')\n",
        "#autoencoder.summary()\n",
        "autoencoder.compile('RMSProp', loss='mse')\n",
        "history_rms_32 = autoencoder.fit(x_train, x_train, epochs=10, batch_size=32, validation_split=0.3)  "
      ],
      "execution_count": null,
      "outputs": [
        {
          "output_type": "stream",
          "text": [
            "Epoch 1/10\n",
            "1072/1072 [==============================] - 9s 8ms/step - loss: 0.0382 - val_loss: 0.0198\n",
            "Epoch 2/10\n",
            "1072/1072 [==============================] - 8s 8ms/step - loss: 0.0196 - val_loss: 0.0168\n",
            "Epoch 3/10\n",
            "1072/1072 [==============================] - 8s 8ms/step - loss: 0.0167 - val_loss: 0.0152\n",
            "Epoch 4/10\n",
            "1072/1072 [==============================] - 8s 8ms/step - loss: 0.0154 - val_loss: 0.0152\n",
            "Epoch 5/10\n",
            "1072/1072 [==============================] - 8s 8ms/step - loss: 0.0146 - val_loss: 0.0136\n",
            "Epoch 6/10\n",
            "1072/1072 [==============================] - 8s 8ms/step - loss: 0.0140 - val_loss: 0.0139\n",
            "Epoch 7/10\n",
            "1072/1072 [==============================] - 8s 8ms/step - loss: 0.0135 - val_loss: 0.0140\n",
            "Epoch 8/10\n",
            "1072/1072 [==============================] - 8s 8ms/step - loss: 0.0130 - val_loss: 0.0125\n",
            "Epoch 9/10\n",
            "1072/1072 [==============================] - 8s 8ms/step - loss: 0.0129 - val_loss: 0.0129\n",
            "Epoch 10/10\n",
            "1072/1072 [==============================] - 9s 8ms/step - loss: 0.0126 - val_loss: 0.0126\n"
          ],
          "name": "stdout"
        }
      ]
    },
    {
      "cell_type": "code",
      "metadata": {
        "colab": {
          "base_uri": "https://localhost:8080/",
          "height": 346
        },
        "id": "GhxMJmy1QhK_",
        "outputId": "9dd44134-c5ff-48b7-c772-1cb9245ebd6f"
      },
      "source": [
        "print(\"Epoch vs loss for RMSProp (Hidden Neurons = 32)\")\n",
        "print(\"----------------------------------------------\\n\")\n",
        "plot_epoch_vs_loss(history_rms_32)"
      ],
      "execution_count": null,
      "outputs": [
        {
          "output_type": "stream",
          "text": [
            "Epoch vs loss for RMSProp (Hidden Neurons = 32)\n",
            "----------------------------------------------\n",
            "\n"
          ],
          "name": "stdout"
        },
        {
          "output_type": "display_data",
          "data": {
            "image/png": "[encoded data removed]",
            "text/plain": [
              "<Figure size 432x288 with 1 Axes>"
            ]
          },
          "metadata": {
            "tags": [],
            "needs_background": "light"
          }
        }
      ]
    },
    {
      "cell_type": "markdown",
      "metadata": {
        "id": "S7MnikKW51fO"
      },
      "source": [
        "### 3. SGD with Momentum"
      ]
    },
    {
      "cell_type": "markdown",
      "metadata": {
        "id": "o6aJkV77RKEl"
      },
      "source": [
        "#### a) Hidden Neurons = 64"
      ]
    },
    {
      "cell_type": "code",
      "metadata": {
        "colab": {
          "base_uri": "https://localhost:8080/"
        },
        "id": "ffyZPPl46AAy",
        "outputId": "5de2b36e-12d7-4970-a8de-1640685921d5"
      },
      "source": [
        "encoder_input = keras.Input(shape=(28, 28, 1))\n",
        "input = keras.layers.Flatten()(encoder_input)\n",
        "hidden_en = keras.layers.Dense(256, activation=\"relu\")(input)\n",
        "encoder_output = keras.layers.Dense(64, activation=\"relu\")(hidden_en)    #-------------> Bottleneck layer\n",
        "\n",
        "encoder = keras.Model(encoder_input, encoder_output, name='encoder')\n",
        "\n",
        "decoder_input = keras.layers.Dense(256, activation=\"relu\")(encoder_output)\n",
        "hidden_de = keras.layers.Dense(784, activation=\"relu\")(decoder_input)\n",
        "decoder_output = keras.layers.Reshape((28, 28))(hidden_de)\n",
        "\n",
        "optimizer = tf.keras.optimizers.SGD(lr=0.001, momentum = 0.9)\n",
        "\n",
        "autoencoder = keras.Model(encoder_input, decoder_output, name='autoencoder')\n",
        "#autoencoder.summary()\n",
        "autoencoder.compile(optimizer, loss='mse')\n",
        "history_sgd_64 = autoencoder.fit(x_train, x_train, epochs=10, batch_size=32, validation_split=0.3)  "
      ],
      "execution_count": null,
      "outputs": [
        {
          "output_type": "stream",
          "text": [
            "Epoch 1/10\n",
            "1072/1072 [==============================] - 7s 7ms/step - loss: 0.1052 - val_loss: 0.0997\n",
            "Epoch 2/10\n",
            "1072/1072 [==============================] - 7s 6ms/step - loss: 0.0978 - val_loss: 0.0900\n",
            "Epoch 3/10\n",
            "1072/1072 [==============================] - 7s 6ms/step - loss: 0.0879 - val_loss: 0.0818\n",
            "Epoch 4/10\n",
            "1072/1072 [==============================] - 7s 6ms/step - loss: 0.0809 - val_loss: 0.0780\n",
            "Epoch 5/10\n",
            "1072/1072 [==============================] - 7s 6ms/step - loss: 0.0776 - val_loss: 0.0760\n",
            "Epoch 6/10\n",
            "1072/1072 [==============================] - 7s 6ms/step - loss: 0.0757 - val_loss: 0.0747\n",
            "Epoch 7/10\n",
            "1072/1072 [==============================] - 7s 7ms/step - loss: 0.0747 - val_loss: 0.0739\n",
            "Epoch 8/10\n",
            "1072/1072 [==============================] - 7s 6ms/step - loss: 0.0738 - val_loss: 0.0734\n",
            "Epoch 9/10\n",
            "1072/1072 [==============================] - 7s 7ms/step - loss: 0.0734 - val_loss: 0.0731\n",
            "Epoch 10/10\n",
            "1072/1072 [==============================] - 7s 7ms/step - loss: 0.0730 - val_loss: 0.0728\n"
          ],
          "name": "stdout"
        }
      ]
    },
    {
      "cell_type": "code",
      "metadata": {
        "colab": {
          "base_uri": "https://localhost:8080/",
          "height": 346
        },
        "id": "Ypsz_7LH6KP2",
        "outputId": "4cfaacfb-1a06-4a9a-e245-dc470287bbf4"
      },
      "source": [
        "print(\"Epoch vs loss for SGD With Momentum (Hidden Neurons = 64)\")\n",
        "print(\"----------------------------------\\n\")\n",
        "plot_epoch_vs_loss(history_sgd_64)"
      ],
      "execution_count": null,
      "outputs": [
        {
          "output_type": "stream",
          "text": [
            "Epoch vs loss for SGD With Momentum (Hidden Neurons = 64)\n",
            "----------------------------------\n",
            "\n"
          ],
          "name": "stdout"
        },
        {
          "output_type": "display_data",
          "data": {
            "image/png": "[encoded data removed]",
            "text/plain": [
              "<Figure size 432x288 with 1 Axes>"
            ]
          },
          "metadata": {
            "tags": [],
            "needs_background": "light"
          }
        }
      ]
    },
    {
      "cell_type": "markdown",
      "metadata": {
        "id": "_FwPOSBIRWEP"
      },
      "source": [
        "#### b) Hidden Neurons = 128"
      ]
    },
    {
      "cell_type": "code",
      "metadata": {
        "colab": {
          "base_uri": "https://localhost:8080/"
        },
        "id": "Siwj_8_KRhn2",
        "outputId": "a0d7f2f4-8584-4185-b745-17be394a0c45"
      },
      "source": [
        "encoder_input = keras.Input(shape=(28, 28, 1))\n",
        "input = keras.layers.Flatten()(encoder_input)\n",
        "hidden_en = keras.layers.Dense(256, activation=\"relu\")(input)\n",
        "encoder_output = keras.layers.Dense(128, activation=\"relu\")(hidden_en)    #-------------> Bottleneck layer\n",
        "\n",
        "encoder = keras.Model(encoder_input, encoder_output, name='encoder')\n",
        "\n",
        "decoder_input = keras.layers.Dense(256, activation=\"relu\")(encoder_output)\n",
        "hidden_de = keras.layers.Dense(784, activation=\"relu\")(decoder_input)\n",
        "decoder_output = keras.layers.Reshape((28, 28))(hidden_de)\n",
        "\n",
        "optimizer = tf.keras.optimizers.SGD(lr=0.001, momentum = 0.9)\n",
        "\n",
        "autoencoder = keras.Model(encoder_input, decoder_output, name='autoencoder')\n",
        "#autoencoder.summary()\n",
        "autoencoder.compile(optimizer, loss='mse')\n",
        "history_sgd_128 = autoencoder.fit(x_train, x_train, epochs=10, batch_size=32, validation_split=0.3)  "
      ],
      "execution_count": null,
      "outputs": [
        {
          "output_type": "stream",
          "text": [
            "Epoch 1/10\n",
            "1072/1072 [==============================] - 8s 7ms/step - loss: 0.1041 - val_loss: 0.0981\n",
            "Epoch 2/10\n",
            "1072/1072 [==============================] - 7s 7ms/step - loss: 0.0960 - val_loss: 0.0883\n",
            "Epoch 3/10\n",
            "1072/1072 [==============================] - 7s 7ms/step - loss: 0.0862 - val_loss: 0.0809\n",
            "Epoch 4/10\n",
            "1072/1072 [==============================] - 7s 7ms/step - loss: 0.0799 - val_loss: 0.0767\n",
            "Epoch 5/10\n",
            "1072/1072 [==============================] - 8s 7ms/step - loss: 0.0762 - val_loss: 0.0749\n",
            "Epoch 6/10\n",
            "1072/1072 [==============================] - 7s 7ms/step - loss: 0.0747 - val_loss: 0.0739\n",
            "Epoch 7/10\n",
            "1072/1072 [==============================] - 7s 7ms/step - loss: 0.0742 - val_loss: 0.0732\n",
            "Epoch 8/10\n",
            "1072/1072 [==============================] - 7s 7ms/step - loss: 0.0731 - val_loss: 0.0727\n",
            "Epoch 9/10\n",
            "1072/1072 [==============================] - 7s 7ms/step - loss: 0.0726 - val_loss: 0.0723\n",
            "Epoch 10/10\n",
            "1072/1072 [==============================] - 7s 7ms/step - loss: 0.0723 - val_loss: 0.0719\n"
          ],
          "name": "stdout"
        }
      ]
    },
    {
      "cell_type": "code",
      "metadata": {
        "colab": {
          "base_uri": "https://localhost:8080/",
          "height": 346
        },
        "id": "TbZVqOP2RqD6",
        "outputId": "d1cc2a74-bbf5-4b92-ec0c-67e9d1f0948b"
      },
      "source": [
        "print(\"Epoch vs loss for SGD With Momentum (Hidden Neurons = 128)\")\n",
        "print(\"----------------------------------\\n\")\n",
        "plot_epoch_vs_loss(history_sgd_128)"
      ],
      "execution_count": null,
      "outputs": [
        {
          "output_type": "stream",
          "text": [
            "Epoch vs loss for SGD With Momentum (Hidden Neurons = 128)\n",
            "----------------------------------\n",
            "\n"
          ],
          "name": "stdout"
        },
        {
          "output_type": "display_data",
          "data": {
            "image/png": "[encoded data removed]",
            "text/plain": [
              "<Figure size 432x288 with 1 Axes>"
            ]
          },
          "metadata": {
            "tags": [],
            "needs_background": "light"
          }
        }
      ]
    },
    {
      "cell_type": "markdown",
      "metadata": {
        "id": "EKJHq8yjRubj"
      },
      "source": [
        "#### c) Hidden Neurons = 32"
      ]
    },
    {
      "cell_type": "code",
      "metadata": {
        "colab": {
          "base_uri": "https://localhost:8080/"
        },
        "id": "EQoZeQ8BR-Dq",
        "outputId": "5b8469b2-6d7d-4a0b-8b00-155d4bb49bcd"
      },
      "source": [
        "encoder_input = keras.Input(shape=(28, 28, 1))\n",
        "input = keras.layers.Flatten()(encoder_input)\n",
        "hidden_en = keras.layers.Dense(256, activation=\"relu\")(input)\n",
        "encoder_output = keras.layers.Dense(32, activation=\"relu\")(hidden_en)    #-------------> Bottleneck layer\n",
        "\n",
        "encoder = keras.Model(encoder_input, encoder_output, name='encoder')\n",
        "\n",
        "decoder_input = keras.layers.Dense(256, activation=\"relu\")(encoder_output)\n",
        "hidden_de = keras.layers.Dense(784, activation=\"relu\")(decoder_input)\n",
        "decoder_output = keras.layers.Reshape((28, 28))(hidden_de)\n",
        "\n",
        "optimizer = tf.keras.optimizers.SGD(lr=0.001, momentum = 0.9)\n",
        "\n",
        "autoencoder = keras.Model(encoder_input, decoder_output, name='autoencoder')\n",
        "#autoencoder.summary()\n",
        "autoencoder.compile(optimizer, loss='mse')\n",
        "history_sgd_32 = autoencoder.fit(x_train, x_train, epochs=10, batch_size=32, validation_split=0.3)  "
      ],
      "execution_count": null,
      "outputs": [
        {
          "output_type": "stream",
          "text": [
            "Epoch 1/10\n",
            "1072/1072 [==============================] - 7s 7ms/step - loss: 0.1041 - val_loss: 0.0972\n",
            "Epoch 2/10\n",
            "1072/1072 [==============================] - 7s 6ms/step - loss: 0.0946 - val_loss: 0.0863\n",
            "Epoch 3/10\n",
            "1072/1072 [==============================] - 6s 6ms/step - loss: 0.0843 - val_loss: 0.0792\n",
            "Epoch 4/10\n",
            "1072/1072 [==============================] - 7s 6ms/step - loss: 0.0783 - val_loss: 0.0761\n",
            "Epoch 5/10\n",
            "1072/1072 [==============================] - 7s 6ms/step - loss: 0.0759 - val_loss: 0.0747\n",
            "Epoch 6/10\n",
            "1072/1072 [==============================] - 7s 6ms/step - loss: 0.0747 - val_loss: 0.0740\n",
            "Epoch 7/10\n",
            "1072/1072 [==============================] - 7s 6ms/step - loss: 0.0740 - val_loss: 0.0736\n",
            "Epoch 8/10\n",
            "1072/1072 [==============================] - 7s 6ms/step - loss: 0.0737 - val_loss: 0.0733\n",
            "Epoch 9/10\n",
            "1072/1072 [==============================] - 7s 6ms/step - loss: 0.0736 - val_loss: 0.0730\n",
            "Epoch 10/10\n",
            "1072/1072 [==============================] - 7s 6ms/step - loss: 0.0728 - val_loss: 0.0723\n"
          ],
          "name": "stdout"
        }
      ]
    },
    {
      "cell_type": "code",
      "metadata": {
        "colab": {
          "base_uri": "https://localhost:8080/",
          "height": 346
        },
        "id": "xUhamtFdSD2T",
        "outputId": "01b6e672-0c2f-49af-c07a-68ca8aa66235"
      },
      "source": [
        "print(\"Epoch vs loss for SGD With Momentum (Hidden Neurons = 32)\")\n",
        "print(\"----------------------------------\\n\")\n",
        "plot_epoch_vs_loss(history_sgd_32)"
      ],
      "execution_count": null,
      "outputs": [
        {
          "output_type": "stream",
          "text": [
            "Epoch vs loss for SGD With Momentum (Hidden Neurons = 32)\n",
            "----------------------------------\n",
            "\n"
          ],
          "name": "stdout"
        },
        {
          "output_type": "display_data",
          "data": {
            "image/png": "[encoded data removed]",
            "text/plain": [
              "<Figure size 432x288 with 1 Axes>"
            ]
          },
          "metadata": {
            "tags": [],
            "needs_background": "light"
          }
        }
      ]
    },
    {
      "cell_type": "markdown",
      "metadata": {
        "id": "KQjIOCg07Z-b"
      },
      "source": [
        "### 4. SGD Without Momentum"
      ]
    },
    {
      "cell_type": "markdown",
      "metadata": {
        "id": "5Sf69RIVSzsI"
      },
      "source": [
        "#### a) Hidden Neurons = 64"
      ]
    },
    {
      "cell_type": "code",
      "metadata": {
        "colab": {
          "base_uri": "https://localhost:8080/"
        },
        "id": "24MdTb807gnp",
        "outputId": "4223d46f-3515-42b2-90e9-ee1e5781ef43"
      },
      "source": [
        "encoder_input = keras.Input(shape=(28, 28, 1))\n",
        "input = keras.layers.Flatten()(encoder_input)\n",
        "hidden_en = keras.layers.Dense(256, activation=\"relu\")(input)\n",
        "encoder_output = keras.layers.Dense(64, activation=\"relu\")(hidden_en)    #-------------> Bottleneck layer\n",
        "\n",
        "encoder = keras.Model(encoder_input, encoder_output, name='encoder')\n",
        "\n",
        "decoder_input = keras.layers.Dense(256, activation=\"relu\")(encoder_output)\n",
        "hidden_de = keras.layers.Dense(784, activation=\"relu\")(decoder_input)\n",
        "decoder_output = keras.layers.Reshape((28, 28))(hidden_de)\n",
        "\n",
        "autoencoder = keras.Model(encoder_input, decoder_output, name='autoencoder')\n",
        "#autoencoder.summary()\n",
        "autoencoder.compile('SGD', loss='mse')\n",
        "history_sgdm_64 = autoencoder.fit(x_train, x_train, epochs=10, batch_size=32, validation_split=0.3)  "
      ],
      "execution_count": null,
      "outputs": [
        {
          "output_type": "stream",
          "text": [
            "Epoch 1/10\n",
            "1072/1072 [==============================] - 7s 6ms/step - loss: 0.1045 - val_loss: 0.0976\n",
            "Epoch 2/10\n",
            "1072/1072 [==============================] - 7s 6ms/step - loss: 0.0953 - val_loss: 0.0884\n",
            "Epoch 3/10\n",
            "1072/1072 [==============================] - 7s 6ms/step - loss: 0.0869 - val_loss: 0.0828\n",
            "Epoch 4/10\n",
            "1072/1072 [==============================] - 7s 6ms/step - loss: 0.0822 - val_loss: 0.0802\n",
            "Epoch 5/10\n",
            "1072/1072 [==============================] - 7s 6ms/step - loss: 0.0802 - val_loss: 0.0792\n",
            "Epoch 6/10\n",
            "1072/1072 [==============================] - 7s 6ms/step - loss: 0.0792 - val_loss: 0.0785\n",
            "Epoch 7/10\n",
            "1072/1072 [==============================] - 7s 6ms/step - loss: 0.0786 - val_loss: 0.0780\n",
            "Epoch 8/10\n",
            "1072/1072 [==============================] - 7s 6ms/step - loss: 0.0783 - val_loss: 0.0777\n",
            "Epoch 9/10\n",
            "1072/1072 [==============================] - 7s 6ms/step - loss: 0.0779 - val_loss: 0.0773\n",
            "Epoch 10/10\n",
            "1072/1072 [==============================] - 6s 6ms/step - loss: 0.0774 - val_loss: 0.0766\n"
          ],
          "name": "stdout"
        }
      ]
    },
    {
      "cell_type": "code",
      "metadata": {
        "colab": {
          "base_uri": "https://localhost:8080/",
          "height": 346
        },
        "id": "9FrVWyY170Yr",
        "outputId": "fbb83fe6-d603-4e63-a383-a73cbf76e0d7"
      },
      "source": [
        "print(\"Epoch vs loss for SGD Without Momentum (Hidden Neuron = 64)\")\n",
        "print(\"----------------------------------------------------------\\n\")\n",
        "plot_epoch_vs_loss(history_sgdm_64)"
      ],
      "execution_count": null,
      "outputs": [
        {
          "output_type": "stream",
          "text": [
            "Epoch vs loss for SGD Without Momentum (Hidden Neuron = 64)\n",
            "----------------------------------------------------------\n",
            "\n"
          ],
          "name": "stdout"
        },
        {
          "output_type": "display_data",
          "data": {
            "image/png": "[encoded data removed]",
            "text/plain": [
              "<Figure size 432x288 with 1 Axes>"
            ]
          },
          "metadata": {
            "tags": [],
            "needs_background": "light"
          }
        }
      ]
    },
    {
      "cell_type": "markdown",
      "metadata": {
        "id": "7OPMXP_bTEp5"
      },
      "source": [
        "#### b) Hidden Neurons = 128"
      ]
    },
    {
      "cell_type": "code",
      "metadata": {
        "colab": {
          "base_uri": "https://localhost:8080/"
        },
        "id": "Wv5rds5OTLqb",
        "outputId": "c9277523-ca9a-4f6f-dee0-f1d206b83c98"
      },
      "source": [
        "encoder_input = keras.Input(shape=(28, 28, 1))\n",
        "input = keras.layers.Flatten()(encoder_input)\n",
        "hidden_en = keras.layers.Dense(256, activation=\"relu\")(input)\n",
        "encoder_output = keras.layers.Dense(128, activation=\"relu\")(hidden_en)    #-------------> Bottleneck layer\n",
        "\n",
        "encoder = keras.Model(encoder_input, encoder_output, name='encoder')\n",
        "\n",
        "decoder_input = keras.layers.Dense(256, activation=\"relu\")(encoder_output)\n",
        "hidden_de = keras.layers.Dense(784, activation=\"relu\")(decoder_input)\n",
        "decoder_output = keras.layers.Reshape((28, 28))(hidden_de)\n",
        "\n",
        "autoencoder = keras.Model(encoder_input, decoder_output, name='autoencoder')\n",
        "#autoencoder.summary()\n",
        "autoencoder.compile('SGD', loss='mse')\n",
        "history_sgdm_128 = autoencoder.fit(x_train, x_train, epochs=10, batch_size=32, validation_split=0.3)  "
      ],
      "execution_count": null,
      "outputs": [
        {
          "output_type": "stream",
          "text": [
            "Epoch 1/10\n",
            "1072/1072 [==============================] - 7s 7ms/step - loss: 0.1052 - val_loss: 0.0998\n",
            "Epoch 2/10\n",
            "1072/1072 [==============================] - 7s 6ms/step - loss: 0.0974 - val_loss: 0.0898\n",
            "Epoch 3/10\n",
            "1072/1072 [==============================] - 7s 6ms/step - loss: 0.0879 - val_loss: 0.0820\n",
            "Epoch 4/10\n",
            "1072/1072 [==============================] - 7s 6ms/step - loss: 0.0810 - val_loss: 0.0781\n",
            "Epoch 5/10\n",
            "1072/1072 [==============================] - 7s 6ms/step - loss: 0.0778 - val_loss: 0.0763\n",
            "Epoch 6/10\n",
            "1072/1072 [==============================] - 7s 7ms/step - loss: 0.0763 - val_loss: 0.0754\n",
            "Epoch 7/10\n",
            "1072/1072 [==============================] - 7s 6ms/step - loss: 0.0754 - val_loss: 0.0748\n",
            "Epoch 8/10\n",
            "1072/1072 [==============================] - 7s 6ms/step - loss: 0.0748 - val_loss: 0.0743\n",
            "Epoch 9/10\n",
            "1072/1072 [==============================] - 7s 6ms/step - loss: 0.0745 - val_loss: 0.0737\n",
            "Epoch 10/10\n",
            "1072/1072 [==============================] - 7s 6ms/step - loss: 0.0735 - val_loss: 0.0732\n"
          ],
          "name": "stdout"
        }
      ]
    },
    {
      "cell_type": "code",
      "metadata": {
        "colab": {
          "base_uri": "https://localhost:8080/",
          "height": 346
        },
        "id": "oYvPq81hTP4o",
        "outputId": "0fc3ffa7-c35b-4ef2-f43a-22df47e809cf"
      },
      "source": [
        "print(\"Epoch vs loss for SGD Without Momentum (Hidden Neuron = 128)\")\n",
        "print(\"----------------------------------------------------------\\n\")\n",
        "plot_epoch_vs_loss(history_sgdm_128)"
      ],
      "execution_count": null,
      "outputs": [
        {
          "output_type": "stream",
          "text": [
            "Epoch vs loss for SGD Without Momentum (Hidden Neuron = 128)\n",
            "----------------------------------------------------------\n",
            "\n"
          ],
          "name": "stdout"
        },
        {
          "output_type": "display_data",
          "data": {
            "image/png": "[encoded data removed]",
            "text/plain": [
              "<Figure size 432x288 with 1 Axes>"
            ]
          },
          "metadata": {
            "tags": [],
            "needs_background": "light"
          }
        }
      ]
    },
    {
      "cell_type": "markdown",
      "metadata": {
        "id": "sjGTUz6eTYcY"
      },
      "source": [
        "#### c) Hidden Neurons = 32"
      ]
    },
    {
      "cell_type": "code",
      "metadata": {
        "colab": {
          "base_uri": "https://localhost:8080/"
        },
        "id": "BWt_OAZ3Tc2n",
        "outputId": "92cdf5cd-4d8b-4751-81cd-901c969a44b3"
      },
      "source": [
        "encoder_input = keras.Input(shape=(28, 28, 1))\n",
        "input = keras.layers.Flatten()(encoder_input)\n",
        "hidden_en = keras.layers.Dense(256, activation=\"relu\")(input)\n",
        "encoder_output = keras.layers.Dense(32, activation=\"relu\")(hidden_en)    #-------------> Bottleneck layer\n",
        "\n",
        "encoder = keras.Model(encoder_input, encoder_output, name='encoder')\n",
        "\n",
        "decoder_input = keras.layers.Dense(256, activation=\"relu\")(encoder_output)\n",
        "hidden_de = keras.layers.Dense(784, activation=\"relu\")(decoder_input)\n",
        "decoder_output = keras.layers.Reshape((28, 28))(hidden_de)\n",
        "\n",
        "autoencoder = keras.Model(encoder_input, decoder_output, name='autoencoder')\n",
        "#autoencoder.summary()\n",
        "autoencoder.compile('SGD', loss='mse')\n",
        "history_sgdm_32 = autoencoder.fit(x_train, x_train, epochs=10, batch_size=32, validation_split=0.3)  "
      ],
      "execution_count": null,
      "outputs": [
        {
          "output_type": "stream",
          "text": [
            "Epoch 1/10\n",
            "1072/1072 [==============================] - 7s 6ms/step - loss: 0.1084 - val_loss: 0.1043\n",
            "Epoch 2/10\n",
            "1072/1072 [==============================] - 6s 6ms/step - loss: 0.1028 - val_loss: 0.0956\n",
            "Epoch 3/10\n",
            "1072/1072 [==============================] - 6s 6ms/step - loss: 0.0936 - val_loss: 0.0862\n",
            "Epoch 4/10\n",
            "1072/1072 [==============================] - 6s 6ms/step - loss: 0.0846 - val_loss: 0.0800\n",
            "Epoch 5/10\n",
            "1072/1072 [==============================] - 6s 6ms/step - loss: 0.0792 - val_loss: 0.0773\n",
            "Epoch 6/10\n",
            "1072/1072 [==============================] - 6s 6ms/step - loss: 0.0772 - val_loss: 0.0761\n",
            "Epoch 7/10\n",
            "1072/1072 [==============================] - 6s 6ms/step - loss: 0.0763 - val_loss: 0.0756\n",
            "Epoch 8/10\n",
            "1072/1072 [==============================] - 6s 6ms/step - loss: 0.0757 - val_loss: 0.0753\n",
            "Epoch 9/10\n",
            "1072/1072 [==============================] - 6s 6ms/step - loss: 0.0756 - val_loss: 0.0751\n",
            "Epoch 10/10\n",
            "1072/1072 [==============================] - 6s 6ms/step - loss: 0.0753 - val_loss: 0.0749\n"
          ],
          "name": "stdout"
        }
      ]
    },
    {
      "cell_type": "code",
      "metadata": {
        "colab": {
          "base_uri": "https://localhost:8080/",
          "height": 346
        },
        "id": "_WiNdwrhTgI5",
        "outputId": "d44d48ab-babf-4ff8-d1f5-50ad24f75b69"
      },
      "source": [
        "print(\"Epoch vs loss for SGD Without Momentum (Hidden Neuron = 32)\")\n",
        "print(\"----------------------------------------------------------\\n\")\n",
        "plot_epoch_vs_loss(history_sgdm_32)"
      ],
      "execution_count": null,
      "outputs": [
        {
          "output_type": "stream",
          "text": [
            "Epoch vs loss for SGD Without Momentum (Hidden Neuron = 32)\n",
            "----------------------------------------------------------\n",
            "\n"
          ],
          "name": "stdout"
        },
        {
          "output_type": "display_data",
          "data": {
            "image/png": "[encoded data removed]",
            "text/plain": [
              "<Figure size 432x288 with 1 Axes>"
            ]
          },
          "metadata": {
            "tags": [],
            "needs_background": "light"
          }
        }
      ]
    },
    {
      "cell_type": "markdown",
      "metadata": {
        "id": "mYAuPW7xBvM1"
      },
      "source": [
        "### Comparision between above optimizers and hidden layer neurons"
      ]
    },
    {
      "cell_type": "code",
      "metadata": {
        "colab": {
          "base_uri": "https://localhost:8080/",
          "height": 463
        },
        "id": "cHrYGQ9fTwKE",
        "outputId": "b68701e6-6252-4d4c-d2a6-d0c8eb20f217"
      },
      "source": [
        "y1 = [0.0128,0.0114,0.0085]  \n",
        "y2 = [0.0131,0.0112,0.0116]  \n",
        "y3 = [0.0735,0.0732,0.0713]  \n",
        "y4 = [0.0753,0.0744,0.0720]  \n",
        "x1 = [32,64,128]\n",
        "s=plt.figure()\n",
        "s.set_figwidth(7)\n",
        "s.set_figheight(7)\n",
        "plt.plot(x1, y1,color=\"blue\",linestyle=\"dashed\",marker=\"o\",markerfacecolor=\"blue\", label = \"ADAM\")\n",
        "plt.plot(x1, y2,color=\"red\",linestyle=\"dashed\",marker=\"o\",markerfacecolor=\"red\", label = \"RMSprop\")\n",
        "plt.plot(x1, y3,color=\"yellow\",linestyle=\"dashed\",marker=\"o\",markerfacecolor=\"yellow\", label = \"SGD WITH MOMENTUM\")\n",
        "plt.plot(x1, y4,color=\"green\",linestyle=\"dashed\",marker=\"o\",markerfacecolor=\"green\", label = \"SGD WITHOUT MOMENTUM\")\n",
        "plt.xlabel('hidden neuron')\n",
        "plt.ylabel('loss')\n",
        "plt.ylim([0.0, 0.1])\n",
        "plt.legend(loc='upper right')"
      ],
      "execution_count": null,
      "outputs": [
        {
          "output_type": "execute_result",
          "data": {
            "text/plain": [
              "<matplotlib.legend.Legend at 0x7fd262e1a090>"
            ]
          },
          "metadata": {
            "tags": []
          },
          "execution_count": 34
        },
        {
          "output_type": "display_data",
          "data": {
            "image/png": "[encoded data removed]",
            "text/plain": [
              "<Figure size 504x504 with 1 Axes>"
            ]
          },
          "metadata": {
            "tags": [],
            "needs_background": "light"
          }
        }
      ]
    },
    {
      "cell_type": "markdown",
      "metadata": {
        "id": "Mlxgubr4kIqk"
      },
      "source": [
        "### **INFERENCE** : \n",
        "#### Best Optimizer : ADAM with 128 neurons in hidden layer"
      ]
    },
    {
      "cell_type": "markdown",
      "metadata": {
        "id": "AWljqsn3d6Ta"
      },
      "source": [
        "## PCA Transformation and Reconstruction"
      ]
    },
    {
      "cell_type": "code",
      "metadata": {
        "id": "Xb_L7PS9eAOL"
      },
      "source": [
        "hist_pca = []\n",
        "\n",
        "xtrain = x_train.reshape(49000, 784)\n",
        "xtest = x_test.reshape(21000, 784)\n",
        "\n",
        "for i in [32, 64, 128]:\n",
        "    p = PCA(n_components = i, svd_solver = 'randomized')\n",
        "    pca = p.fit(xtrain)\n",
        "\n",
        "    x_transformed = pca.transform(xtest)     #--------------------------> Transformation\n",
        "    x_reconstructed = pca.inverse_transform(x_transformed)    #---------> Reconstruction\n",
        "\n",
        "    hist_pca.append(keras.losses.MeanSquaredError()(x_reconstructed, xtest).numpy())"
      ],
      "execution_count": null,
      "outputs": []
    },
    {
      "cell_type": "markdown",
      "metadata": {
        "id": "xPY-FLyAMqcq"
      },
      "source": [
        "### Comparision between PCA and Autoencoders loss"
      ]
    },
    {
      "cell_type": "code",
      "metadata": {
        "colab": {
          "base_uri": "https://localhost:8080/",
          "height": 463
        },
        "id": "9FlLCQNDfwue",
        "outputId": "5bc4ff6d-3919-4f2e-8aa0-fb66b42e3364"
      },
      "source": [
        "y1 = [0.0128,0.0114,0.0085]  \n",
        "y2 = [hist_pca[0], hist_pca[1], hist_pca[2]]  \n",
        "\n",
        "x1 = [32,64,128]\n",
        "s=plt.figure()\n",
        "s.set_figwidth(7)\n",
        "s.set_figheight(7)\n",
        "\n",
        "plt.plot(x1, y1,color=\"blue\",linestyle=\"dashed\",marker=\"o\",markerfacecolor=\"blue\", label = \"ADAM loss\")\n",
        "plt.plot(x1, y2,color=\"red\",linestyle=\"dashed\",marker=\"o\",markerfacecolor=\"red\", label = \"PCA loss\")\n",
        "\n",
        "plt.xlabel('hidden neuron')\n",
        "plt.ylabel('loss')\n",
        "plt.ylim([0.0, 0.02])\n",
        "plt.legend(loc='upper right')"
      ],
      "execution_count": null,
      "outputs": [
        {
          "output_type": "execute_result",
          "data": {
            "text/plain": [
              "<matplotlib.legend.Legend at 0x7fd262dd0e10>"
            ]
          },
          "metadata": {
            "tags": []
          },
          "execution_count": 36
        },
        {
          "output_type": "display_data",
          "data": {
            "image/png": "[encoded data removed]",
            "text/plain": [
              "<Figure size 504x504 with 1 Axes>"
            ]
          },
          "metadata": {
            "tags": [],
            "needs_background": "light"
          }
        }
      ]
    },
    {
      "cell_type": "markdown",
      "metadata": {
        "id": "CY_Ry0JlMzMo"
      },
      "source": [
        "INFERENCE : Autoencoders performs better when bottleneck layer is more compressed whereas PCA performs better with less compressed bottleneck layer"
      ]
    }
  ]
}