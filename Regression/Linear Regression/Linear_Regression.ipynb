{
  "nbformat": 4,
  "nbformat_minor": 0,
  "metadata": {
    "colab": {
      "name": "Linear_Regression.ipynb",
      "provenance": []
    },
    "kernelspec": {
      "name": "python3",
      "display_name": "Python 3"
    },
    "language_info": {
      "name": "python"
    }
  },
  "cells": [
    {
      "cell_type": "markdown",
      "metadata": {
        "id": "ixZtcoeW13WV"
      },
      "source": [
        "# 2. Linear Regression "
      ]
    },
    {
      "cell_type": "code",
      "metadata": {
        "id": "hdAYThJMt04u"
      },
      "source": [
        "import pandas as pd\n",
        "import numpy as np\n",
        "from sklearn.preprocessing import LabelEncoder\n",
        "from sklearn.model_selection import train_test_split\n",
        "from sklearn import neighbors\n",
        "from sklearn.linear_model import LinearRegression\n",
        "from sklearn.metrics import mean_squared_error \n",
        "from sklearn.metrics import mean_absolute_error\n",
        "from sklearn.externals.six import StringIO  \n",
        "from IPython.display import Image  \n",
        "from sklearn.tree import export_graphviz\n",
        "from sklearn.model_selection import KFold\n",
        "import pydotplus\n",
        "from sklearn import tree\n",
        "from sklearn.metrics import r2_score\n",
        "import seaborn as sns\n",
        "import pickle as pkl\n",
        "import math\n",
        "import matplotlib.pyplot as plt\n",
        "import time\n",
        "import platform\n",
        "import random\n",
        "import os"
      ],
      "execution_count": null,
      "outputs": []
    },
    {
      "cell_type": "markdown",
      "metadata": {
        "id": "t4x0dGb33zdA"
      },
      "source": [
        "## Q2. (a) \n",
        "#### Implement a Linear Regression model (from the scratch) taking suitable independent variables from the dataset. \n",
        "\n",
        "Report and Calculate the error obtained."
      ]
    },
    {
      "cell_type": "markdown",
      "metadata": {
        "id": "zIwdNoUgCAGo"
      },
      "source": [
        "### Defining Hyperparameters"
      ]
    },
    {
      "cell_type": "code",
      "metadata": {
        "id": "FxhR-b5LB9ap"
      },
      "source": [
        "CORRELATION_THRESHOLD = 0.2\n",
        "epochs = 100\n",
        "learning_rate = 0.1"
      ],
      "execution_count": null,
      "outputs": []
    },
    {
      "cell_type": "markdown",
      "metadata": {
        "id": "zkbENXSa8Xw7"
      },
      "source": [
        "### Loading Dataset"
      ]
    },
    {
      "cell_type": "code",
      "metadata": {
        "id": "bWx-O_odxgtG",
        "colab": {
          "base_uri": "https://localhost:8080/",
          "height": 195
        },
        "outputId": "8513737a-b960-4268-8476-aeaa358fd3d0"
      },
      "source": [
        "df = pd.read_csv(\"/content/diamonds.csv\")\n",
        "df.head()"
      ],
      "execution_count": null,
      "outputs": [
        {
          "output_type": "execute_result",
          "data": {
            "text/html": [
              "<div>\n",
              "<style scoped>\n",
              "    .dataframe tbody tr th:only-of-type {\n",
              "        vertical-align: middle;\n",
              "    }\n",
              "\n",
              "    .dataframe tbody tr th {\n",
              "        vertical-align: top;\n",
              "    }\n",
              "\n",
              "    .dataframe thead th {\n",
              "        text-align: right;\n",
              "    }\n",
              "</style>\n",
              "<table border=\"1\" class=\"dataframe\">\n",
              "  <thead>\n",
              "    <tr style=\"text-align: right;\">\n",
              "      <th></th>\n",
              "      <th>carat</th>\n",
              "      <th>cut</th>\n",
              "      <th>color</th>\n",
              "      <th>clarity</th>\n",
              "      <th>depth</th>\n",
              "      <th>table</th>\n",
              "      <th>price</th>\n",
              "      <th>x</th>\n",
              "      <th>y</th>\n",
              "      <th>z</th>\n",
              "    </tr>\n",
              "  </thead>\n",
              "  <tbody>\n",
              "    <tr>\n",
              "      <th>0</th>\n",
              "      <td>0.23</td>\n",
              "      <td>Ideal</td>\n",
              "      <td>E</td>\n",
              "      <td>SI2</td>\n",
              "      <td>61.5</td>\n",
              "      <td>55.0</td>\n",
              "      <td>326</td>\n",
              "      <td>3.95</td>\n",
              "      <td>3.98</td>\n",
              "      <td>2.43</td>\n",
              "    </tr>\n",
              "    <tr>\n",
              "      <th>1</th>\n",
              "      <td>0.21</td>\n",
              "      <td>Premium</td>\n",
              "      <td>E</td>\n",
              "      <td>SI1</td>\n",
              "      <td>59.8</td>\n",
              "      <td>61.0</td>\n",
              "      <td>326</td>\n",
              "      <td>3.89</td>\n",
              "      <td>3.84</td>\n",
              "      <td>2.31</td>\n",
              "    </tr>\n",
              "    <tr>\n",
              "      <th>2</th>\n",
              "      <td>0.23</td>\n",
              "      <td>Good</td>\n",
              "      <td>E</td>\n",
              "      <td>VS1</td>\n",
              "      <td>56.9</td>\n",
              "      <td>65.0</td>\n",
              "      <td>327</td>\n",
              "      <td>4.05</td>\n",
              "      <td>4.07</td>\n",
              "      <td>2.31</td>\n",
              "    </tr>\n",
              "    <tr>\n",
              "      <th>3</th>\n",
              "      <td>0.29</td>\n",
              "      <td>Premium</td>\n",
              "      <td>I</td>\n",
              "      <td>VS2</td>\n",
              "      <td>62.4</td>\n",
              "      <td>58.0</td>\n",
              "      <td>334</td>\n",
              "      <td>4.20</td>\n",
              "      <td>4.23</td>\n",
              "      <td>2.63</td>\n",
              "    </tr>\n",
              "    <tr>\n",
              "      <th>4</th>\n",
              "      <td>0.31</td>\n",
              "      <td>Good</td>\n",
              "      <td>J</td>\n",
              "      <td>SI2</td>\n",
              "      <td>63.3</td>\n",
              "      <td>58.0</td>\n",
              "      <td>335</td>\n",
              "      <td>4.34</td>\n",
              "      <td>4.35</td>\n",
              "      <td>2.75</td>\n",
              "    </tr>\n",
              "  </tbody>\n",
              "</table>\n",
              "</div>"
            ],
            "text/plain": [
              "   carat      cut color clarity  depth  table  price     x     y     z\n",
              "0   0.23    Ideal     E     SI2   61.5   55.0    326  3.95  3.98  2.43\n",
              "1   0.21  Premium     E     SI1   59.8   61.0    326  3.89  3.84  2.31\n",
              "2   0.23     Good     E     VS1   56.9   65.0    327  4.05  4.07  2.31\n",
              "3   0.29  Premium     I     VS2   62.4   58.0    334  4.20  4.23  2.63\n",
              "4   0.31     Good     J     SI2   63.3   58.0    335  4.34  4.35  2.75"
            ]
          },
          "metadata": {
            "tags": []
          },
          "execution_count": 16
        }
      ]
    },
    {
      "cell_type": "markdown",
      "metadata": {
        "id": "FJzNEssXD5u1"
      },
      "source": [
        "### Label Encoding \n",
        "As all categorical coloumns have ordinal relationships, Label Encoding is preferable over One Hot Encoding"
      ]
    },
    {
      "cell_type": "code",
      "metadata": {
        "id": "xZ7vV0Pe_RJw"
      },
      "source": [
        "labelencoder = LabelEncoder()\n",
        "def label_encoding(df, cols):\n",
        "    for c in cols:\n",
        "        col = df[c]\n",
        "        df = df.drop(c, 1)\n",
        "        df[c] = labelencoder.fit_transform(col)\n",
        "    return df"
      ],
      "execution_count": null,
      "outputs": []
    },
    {
      "cell_type": "code",
      "metadata": {
        "colab": {
          "base_uri": "https://localhost:8080/",
          "height": 229
        },
        "id": "jANAM4ePDWbp",
        "outputId": "3d2575f8-b9ec-4c89-ee3e-a221193e33d6"
      },
      "source": [
        "cols = ['cut', 'color', 'clarity']\n",
        "df = label_encoding(df, cols)\n",
        "print(\"DATA AFTER LABEL ENCODING : \\n\")\n",
        "\n",
        "#--------- SET INDEPENDANT VARIABLE PRICE---------#\n",
        "\n",
        "price = df['price']\n",
        "df = df.drop('price', 1)\n",
        "df['price'] = price\n",
        "\n",
        "#-------------------------------------------------#\n",
        "\n",
        "df.head()"
      ],
      "execution_count": null,
      "outputs": [
        {
          "output_type": "stream",
          "text": [
            "DATA AFTER LABEL ENCODING : \n",
            "\n"
          ],
          "name": "stdout"
        },
        {
          "output_type": "execute_result",
          "data": {
            "text/html": [
              "<div>\n",
              "<style scoped>\n",
              "    .dataframe tbody tr th:only-of-type {\n",
              "        vertical-align: middle;\n",
              "    }\n",
              "\n",
              "    .dataframe tbody tr th {\n",
              "        vertical-align: top;\n",
              "    }\n",
              "\n",
              "    .dataframe thead th {\n",
              "        text-align: right;\n",
              "    }\n",
              "</style>\n",
              "<table border=\"1\" class=\"dataframe\">\n",
              "  <thead>\n",
              "    <tr style=\"text-align: right;\">\n",
              "      <th></th>\n",
              "      <th>carat</th>\n",
              "      <th>depth</th>\n",
              "      <th>table</th>\n",
              "      <th>x</th>\n",
              "      <th>y</th>\n",
              "      <th>z</th>\n",
              "      <th>cut</th>\n",
              "      <th>color</th>\n",
              "      <th>clarity</th>\n",
              "      <th>price</th>\n",
              "    </tr>\n",
              "  </thead>\n",
              "  <tbody>\n",
              "    <tr>\n",
              "      <th>0</th>\n",
              "      <td>0.23</td>\n",
              "      <td>61.5</td>\n",
              "      <td>55.0</td>\n",
              "      <td>3.95</td>\n",
              "      <td>3.98</td>\n",
              "      <td>2.43</td>\n",
              "      <td>2</td>\n",
              "      <td>1</td>\n",
              "      <td>3</td>\n",
              "      <td>326</td>\n",
              "    </tr>\n",
              "    <tr>\n",
              "      <th>1</th>\n",
              "      <td>0.21</td>\n",
              "      <td>59.8</td>\n",
              "      <td>61.0</td>\n",
              "      <td>3.89</td>\n",
              "      <td>3.84</td>\n",
              "      <td>2.31</td>\n",
              "      <td>3</td>\n",
              "      <td>1</td>\n",
              "      <td>2</td>\n",
              "      <td>326</td>\n",
              "    </tr>\n",
              "    <tr>\n",
              "      <th>2</th>\n",
              "      <td>0.23</td>\n",
              "      <td>56.9</td>\n",
              "      <td>65.0</td>\n",
              "      <td>4.05</td>\n",
              "      <td>4.07</td>\n",
              "      <td>2.31</td>\n",
              "      <td>1</td>\n",
              "      <td>1</td>\n",
              "      <td>4</td>\n",
              "      <td>327</td>\n",
              "    </tr>\n",
              "    <tr>\n",
              "      <th>3</th>\n",
              "      <td>0.29</td>\n",
              "      <td>62.4</td>\n",
              "      <td>58.0</td>\n",
              "      <td>4.20</td>\n",
              "      <td>4.23</td>\n",
              "      <td>2.63</td>\n",
              "      <td>3</td>\n",
              "      <td>5</td>\n",
              "      <td>5</td>\n",
              "      <td>334</td>\n",
              "    </tr>\n",
              "    <tr>\n",
              "      <th>4</th>\n",
              "      <td>0.31</td>\n",
              "      <td>63.3</td>\n",
              "      <td>58.0</td>\n",
              "      <td>4.34</td>\n",
              "      <td>4.35</td>\n",
              "      <td>2.75</td>\n",
              "      <td>1</td>\n",
              "      <td>6</td>\n",
              "      <td>3</td>\n",
              "      <td>335</td>\n",
              "    </tr>\n",
              "  </tbody>\n",
              "</table>\n",
              "</div>"
            ],
            "text/plain": [
              "   carat  depth  table     x     y     z  cut  color  clarity  price\n",
              "0   0.23   61.5   55.0  3.95  3.98  2.43    2      1        3    326\n",
              "1   0.21   59.8   61.0  3.89  3.84  2.31    3      1        2    326\n",
              "2   0.23   56.9   65.0  4.05  4.07  2.31    1      1        4    327\n",
              "3   0.29   62.4   58.0  4.20  4.23  2.63    3      5        5    334\n",
              "4   0.31   63.3   58.0  4.34  4.35  2.75    1      6        3    335"
            ]
          },
          "metadata": {
            "tags": []
          },
          "execution_count": 18
        }
      ]
    },
    {
      "cell_type": "markdown",
      "metadata": {
        "id": "qBJa0qRKJS48"
      },
      "source": [
        "### Feature Selection\n"
      ]
    },
    {
      "cell_type": "markdown",
      "metadata": {
        "id": "XtoEMOGu4Amt"
      },
      "source": [
        "## Q2. (b) \n",
        "#### What are the best suitable features you used to predict the price of the dataset and Why?\n",
        "\n",
        "Idea: Use Correlation to get the suitable features and Report the values accordingly."
      ]
    },
    {
      "cell_type": "markdown",
      "metadata": {
        "id": "jTnNYHBF4NrB"
      },
      "source": [
        "I used following features for training\n",
        "\n",
        "*   carat\n",
        "*   z\n",
        "*   cut\n",
        "*   color\n",
        "*   clarity\n",
        "*   table\n",
        "\n",
        "I removed x, y because they are highly correlated with z. I removed depth as its correlation coefficient is very close to zero\n",
        "\n",
        "\n"
      ]
    },
    {
      "cell_type": "code",
      "metadata": {
        "colab": {
          "base_uri": "https://localhost:8080/",
          "height": 578
        },
        "id": "jK538TxvEp_X",
        "outputId": "c768968a-e557-418a-e0f8-aac49afb7173"
      },
      "source": [
        "fig, ax = plt.subplots(figsize=(10,10))\n",
        "cor = df.corr() \n",
        "sns.heatmap(cor, annot = True, fmt='.1g', ax=ax, square=True)\n",
        "cor = cor[:-1]"
      ],
      "execution_count": null,
      "outputs": [
        {
          "output_type": "display_data",
          "data": {
            "image/png": "[encoded data removed]",
            "text/plain": [
              "<Figure size 720x720 with 2 Axes>"
            ]
          },
          "metadata": {
            "tags": [],
            "needs_background": "light"
          }
        }
      ]
    },
    {
      "cell_type": "code",
      "metadata": {
        "colab": {
          "base_uri": "https://localhost:8080/"
        },
        "id": "0QZIX2aaLSsw",
        "outputId": "c7262cc8-7d23-497b-ae8e-545c67cda4fa"
      },
      "source": [
        "cor_price = abs(cor[\"price\"])\n",
        "relevant_features = cor_price[cor_price>CORRELATION_THRESHOLD]\n",
        "print(relevant_features)"
      ],
      "execution_count": null,
      "outputs": [
        {
          "output_type": "stream",
          "text": [
            "carat    0.921591\n",
            "x        0.884435\n",
            "y        0.865421\n",
            "z        0.861249\n",
            "Name: price, dtype: float64\n"
          ],
          "name": "stdout"
        }
      ]
    },
    {
      "cell_type": "code",
      "metadata": {
        "colab": {
          "base_uri": "https://localhost:8080/",
          "height": 195
        },
        "id": "woecyngnEp9N",
        "outputId": "ad109ac2-7883-4f0d-aa3b-1b2707b7e743"
      },
      "source": [
        "# cols is a list of features which do not contribute much in Model training\n",
        "\n",
        "def feature_selection(df, cols):\n",
        "    for c in cols:\n",
        "        df = df.drop(c,1)\n",
        "    return df\n",
        "\n",
        "rem_features = ['x','y','depth']\n",
        "df = feature_selection(df, rem_features)\n",
        "df.head()"
      ],
      "execution_count": null,
      "outputs": [
        {
          "output_type": "execute_result",
          "data": {
            "text/html": [
              "<div>\n",
              "<style scoped>\n",
              "    .dataframe tbody tr th:only-of-type {\n",
              "        vertical-align: middle;\n",
              "    }\n",
              "\n",
              "    .dataframe tbody tr th {\n",
              "        vertical-align: top;\n",
              "    }\n",
              "\n",
              "    .dataframe thead th {\n",
              "        text-align: right;\n",
              "    }\n",
              "</style>\n",
              "<table border=\"1\" class=\"dataframe\">\n",
              "  <thead>\n",
              "    <tr style=\"text-align: right;\">\n",
              "      <th></th>\n",
              "      <th>carat</th>\n",
              "      <th>table</th>\n",
              "      <th>z</th>\n",
              "      <th>cut</th>\n",
              "      <th>color</th>\n",
              "      <th>clarity</th>\n",
              "      <th>price</th>\n",
              "    </tr>\n",
              "  </thead>\n",
              "  <tbody>\n",
              "    <tr>\n",
              "      <th>0</th>\n",
              "      <td>0.23</td>\n",
              "      <td>55.0</td>\n",
              "      <td>2.43</td>\n",
              "      <td>2</td>\n",
              "      <td>1</td>\n",
              "      <td>3</td>\n",
              "      <td>326</td>\n",
              "    </tr>\n",
              "    <tr>\n",
              "      <th>1</th>\n",
              "      <td>0.21</td>\n",
              "      <td>61.0</td>\n",
              "      <td>2.31</td>\n",
              "      <td>3</td>\n",
              "      <td>1</td>\n",
              "      <td>2</td>\n",
              "      <td>326</td>\n",
              "    </tr>\n",
              "    <tr>\n",
              "      <th>2</th>\n",
              "      <td>0.23</td>\n",
              "      <td>65.0</td>\n",
              "      <td>2.31</td>\n",
              "      <td>1</td>\n",
              "      <td>1</td>\n",
              "      <td>4</td>\n",
              "      <td>327</td>\n",
              "    </tr>\n",
              "    <tr>\n",
              "      <th>3</th>\n",
              "      <td>0.29</td>\n",
              "      <td>58.0</td>\n",
              "      <td>2.63</td>\n",
              "      <td>3</td>\n",
              "      <td>5</td>\n",
              "      <td>5</td>\n",
              "      <td>334</td>\n",
              "    </tr>\n",
              "    <tr>\n",
              "      <th>4</th>\n",
              "      <td>0.31</td>\n",
              "      <td>58.0</td>\n",
              "      <td>2.75</td>\n",
              "      <td>1</td>\n",
              "      <td>6</td>\n",
              "      <td>3</td>\n",
              "      <td>335</td>\n",
              "    </tr>\n",
              "  </tbody>\n",
              "</table>\n",
              "</div>"
            ],
            "text/plain": [
              "   carat  table     z  cut  color  clarity  price\n",
              "0   0.23   55.0  2.43    2      1        3    326\n",
              "1   0.21   61.0  2.31    3      1        2    326\n",
              "2   0.23   65.0  2.31    1      1        4    327\n",
              "3   0.29   58.0  2.63    3      5        5    334\n",
              "4   0.31   58.0  2.75    1      6        3    335"
            ]
          },
          "metadata": {
            "tags": []
          },
          "execution_count": 21
        }
      ]
    },
    {
      "cell_type": "markdown",
      "metadata": {
        "id": "kEn9gnXz20qN"
      },
      "source": [
        "### Standardization"
      ]
    },
    {
      "cell_type": "code",
      "metadata": {
        "id": "GymhOTtF22tH"
      },
      "source": [
        "def standardization(df, cols):\n",
        "    for c in cols:\n",
        "        df[c] = (df[c] - df[c].mean())/df[c].std()\n",
        "    return df\n",
        "\n",
        "std_cols = ['z','table','carat','color','clarity']\n",
        "df1 = df    #-------> data without Normalization\n",
        "df = standardization(df, std_cols)"
      ],
      "execution_count": null,
      "outputs": []
    },
    {
      "cell_type": "code",
      "metadata": {
        "id": "rHMI4Y2YEp6x"
      },
      "source": [
        "x = df.iloc[:, :-1]\n",
        "y = df.iloc[:, -1:]\n",
        "\n",
        "x1 = df1.iloc[:, :-1]\n",
        "y1 = df1.iloc[:, -1:]"
      ],
      "execution_count": null,
      "outputs": []
    },
    {
      "cell_type": "code",
      "metadata": {
        "id": "28iSwQtMSvuK"
      },
      "source": [
        "def concatenate_ones(x):\n",
        "    ones = np.ones(shape = x.shape[0]).reshape(-1,1)\n",
        "    return np.concatenate((ones, x), 1)\n",
        "x = concatenate_ones(x)\n",
        "x1 = concatenate_ones(x1)"
      ],
      "execution_count": null,
      "outputs": []
    },
    {
      "cell_type": "code",
      "metadata": {
        "colab": {
          "base_uri": "https://localhost:8080/"
        },
        "id": "Xqc4JWFgDqou",
        "outputId": "48048226-6c13-44c4-fb1a-fc9996a9d14b"
      },
      "source": [
        "print(x.shape)\n",
        "print(y.shape)\n",
        "x_train, x_test, y_train, y_test = train_test_split(x, y, test_size=0.2, random_state=55)\n",
        "x1_train, x1_test, y1_train, y1_test = train_test_split(x1, y1, test_size=0.2, random_state=55)"
      ],
      "execution_count": null,
      "outputs": [
        {
          "output_type": "stream",
          "text": [
            "(53940, 7)\n",
            "(53940, 1)\n"
          ],
          "name": "stdout"
        }
      ]
    },
    {
      "cell_type": "markdown",
      "metadata": {
        "id": "YZWh7UjhyJca"
      },
      "source": [
        "### Model Creation and Training"
      ]
    },
    {
      "cell_type": "code",
      "metadata": {
        "id": "XFq2WY0uKde7"
      },
      "source": [
        "m = x_train.shape[0]        #-----------------> No. of training data\n",
        "n = x_train.shape[1]        #-----------------> No. of features\n",
        "\n",
        "def compute_cost(x, y, weights):\n",
        "    predictions = x.dot(weights)\n",
        "    errors = np.subtract(predictions, y)\n",
        "    sqrErrors = np.square(errors)\n",
        "    J = 1 / (2 * m) * np.sum(sqrErrors)\n",
        "    return J\n",
        "\n",
        "def gradient_descent(x, y, weights, learning_rate, epochs):\n",
        "    cost_history = np.zeros(epochs)\n",
        "\n",
        "    for i in range(epochs):\n",
        "        predictions = x.dot(weights)\n",
        "        errors = np.subtract(predictions, y)\n",
        "        sum_delta = (learning_rate / m) * x.transpose().dot(errors);\n",
        "        weights = weights - sum_delta;\n",
        "        cost_history[i] = compute_cost(x, y, weights)  \n",
        "\n",
        "    return weights, cost_history\n",
        "\n",
        "weights = np.zeros(n).reshape(-1,1)\n",
        "\n",
        "weights, cost_history = gradient_descent(x_train, y_train, weights, learning_rate, epochs)\n",
        "#print('Final value of theta =', weights)"
      ],
      "execution_count": null,
      "outputs": []
    },
    {
      "cell_type": "markdown",
      "metadata": {
        "id": "3IUPHBIbC2bF"
      },
      "source": [
        "### Analyzing Loss Convergence "
      ]
    },
    {
      "cell_type": "code",
      "metadata": {
        "colab": {
          "base_uri": "https://localhost:8080/",
          "height": 638
        },
        "id": "ZWCfOV_CNDxs",
        "outputId": "d32d5da6-7abd-48ef-9ea2-594ebae595d7"
      },
      "source": [
        "plt.plot(range(1, epochs +1), cost_history, color ='green')\n",
        "plt.rcParams[\"figure.figsize\"] = (16,10)\n",
        "plt.grid()\n",
        "plt.title(\"Convergence of gradient descent\")\n",
        "plt.xlabel(\"epochs\")\n",
        "plt.ylabel(\"cost (J)\")"
      ],
      "execution_count": null,
      "outputs": [
        {
          "output_type": "execute_result",
          "data": {
            "text/plain": [
              "Text(0, 0.5, 'cost (J)')"
            ]
          },
          "metadata": {
            "tags": []
          },
          "execution_count": 27
        },
        {
          "output_type": "display_data",
          "data": {
            "image/png": "[encoded data removed]",
            "text/plain": [
              "<Figure size 1080x720 with 1 Axes>"
            ]
          },
          "metadata": {
            "tags": [],
            "needs_background": "light"
          }
        }
      ]
    },
    {
      "cell_type": "markdown",
      "metadata": {
        "id": "km82z9e28wZX"
      },
      "source": [
        "### Prediction"
      ]
    },
    {
      "cell_type": "code",
      "metadata": {
        "colab": {
          "base_uri": "https://localhost:8080/"
        },
        "id": "YFWaXwaAklHJ",
        "outputId": "62c9bcfb-96b7-402d-a17e-0bc92c895539"
      },
      "source": [
        "predicted_price = x_test.dot(weights)\n",
        "y_pred_linear_reg = predicted_price\n",
        "actual_price = y_test.to_numpy()\n",
        "print(\"Predicted \\t\\t\\t\\t\\t Actual\")\n",
        "print(\"-------------------------------------------------------\")\n",
        "for i in range(0, 5):\n",
        "    print(str(predicted_price[i]) + \" \\t\\t\\t\\t \" + str(actual_price[i]))"
      ],
      "execution_count": null,
      "outputs": [
        {
          "output_type": "stream",
          "text": [
            "Predicted \t\t\t\t\t Actual\n",
            "-------------------------------------------------------\n",
            "[2446.78427941] \t\t\t\t [1882]\n",
            "[8143.94720626] \t\t\t\t [9586]\n",
            "[6160.19990257] \t\t\t\t [5058]\n",
            "[4431.4893266] \t\t\t\t [2780]\n",
            "[3826.87769464] \t\t\t\t [2811]\n"
          ],
          "name": "stdout"
        }
      ]
    },
    {
      "cell_type": "markdown",
      "metadata": {
        "id": "g6UqoxKB3Rrk"
      },
      "source": [
        "### Calculating MSE, MAE, Rsquare Score"
      ]
    },
    {
      "cell_type": "code",
      "metadata": {
        "id": "RR5uAaGl3Tn_"
      },
      "source": [
        "def calculate_mse(predicted, actual):\n",
        "    errors = np.subtract(predicted, actual)\n",
        "    sqrErrors = np.square(errors)\n",
        "    J = np.sum(sqrErrors)/(2 * len(sqrErrors)) \n",
        "    return J\n",
        "\n",
        "def mean_absolute_error(predicted, actual):\n",
        "    errors = np.subtract(predicted, actual)\n",
        "    absErrors = np.absolute(errors)\n",
        "    J = np.sum(absErrors)/(2 * len(absErrors)) \n",
        "    return J\n",
        "\n",
        "def R_squared_score(predicted, actual):\n",
        "    e1 = np.subtract(predicted, actual)\n",
        "    sqr_e1 = np.sum(np.square(e1))\n",
        "\n",
        "    e2 = np.subtract(actual,actual.mean())\n",
        "    sqr_e2 = np.sum(np.square(e2))\n",
        "    J = 1 - (sqr_e1/sqr_e2)\n",
        "    return J"
      ],
      "execution_count": null,
      "outputs": []
    },
    {
      "cell_type": "code",
      "metadata": {
        "colab": {
          "base_uri": "https://localhost:8080/"
        },
        "id": "AgdeP0IsFNSc",
        "outputId": "3ebeed97-48d7-49a3-f8ce-f3bb8abc65b4"
      },
      "source": [
        "print(\"\\nMy model STATS\")\n",
        "print(\"--------------------------------------\")\n",
        "print()\n",
        "\n",
        "mse = calculate_mse(predicted_price, actual_price)\n",
        "print(\"MSE for Linear Regression : \", mse)\n",
        "\n",
        "mae = mean_absolute_error(predicted_price, actual_price)\n",
        "print(\"MAE for Linear Regression : \", mae)\n",
        "\n",
        "rsqr_score = R_squared_score(predicted_price, actual_price)\n",
        "print(\"R square score for Linear Regression : \", rsqr_score)"
      ],
      "execution_count": null,
      "outputs": [
        {
          "output_type": "stream",
          "text": [
            "\n",
            "My model STATS\n",
            "--------------------------------------\n",
            "\n",
            "MSE for Linear Regression :  1128068.3190441711\n",
            "MAE for Linear Regression :  523.0586169270146\n",
            "R square score for Linear Regression :  0.8535751351372942\n"
          ],
          "name": "stdout"
        }
      ]
    },
    {
      "cell_type": "code",
      "metadata": {
        "colab": {
          "base_uri": "https://localhost:8080/"
        },
        "id": "2cQ_ut4P56ga",
        "outputId": "e4774f06-8f2d-43d0-cb8a-14f794c4d1ff"
      },
      "source": [
        "reg = LinearRegression().fit(x_train, y_train)\n",
        "ypredreg = reg.predict(x_test) \n",
        "mse1 = mean_squared_error(y_test,ypredreg) \n",
        "mae1 = mean_absolute_error(y_test, ypredreg)\n",
        "r2score = r2_score(y_test, ypredreg)\n",
        "\n",
        "print(\"\\nScikit learn model STATS\")\n",
        "print(\"--------------------------------------\")\n",
        "print()\n",
        "\n",
        "print(\"\\nMean Squared Error : \", end = \"\")\n",
        "print(mse1)\n",
        "\n",
        "print(\"\\nR2 score : \", end = \"\")\n",
        "print(r2score)"
      ],
      "execution_count": null,
      "outputs": [
        {
          "output_type": "stream",
          "text": [
            "\n",
            "Scikit learn model STATS\n",
            "--------------------------------------\n",
            "\n",
            "\n",
            "Mean Squared Error : 1909557.6348928155\n",
            "\n",
            "R2 score : 0.8760683577774601\n"
          ],
          "name": "stdout"
        }
      ]
    },
    {
      "cell_type": "markdown",
      "metadata": {
        "id": "5SxEVHs08rqb"
      },
      "source": [
        "## Q2. (d) \n",
        "#### Now, using the whole dataset, predict the price of the Diamonds using the module of Linear Regression from sklearn. Report the changes you have observed compared to before? Adding extra features did it make the prediction better or worse. Comment?"
      ]
    },
    {
      "cell_type": "markdown",
      "metadata": {
        "id": "kfcqzzDz_VRj"
      },
      "source": [
        "##### My accuracy decreases as those features did not contribute in analysing the pattern in training process. Instead they increases the dimensions of data which deviates the model from tracing actual pattern. "
      ]
    },
    {
      "cell_type": "code",
      "metadata": {
        "colab": {
          "base_uri": "https://localhost:8080/"
        },
        "id": "rcKq4_-D6ukz",
        "outputId": "1b9a9175-8339-489e-b22a-48cb3a4b8eac"
      },
      "source": [
        "weights1 = np.zeros(n).reshape(-1,1)\n",
        "\n",
        "weights1, cost_history1 = gradient_descent(x1_train, y1_train, weights1, learning_rate, epochs)\n",
        "\n",
        "predicted_price1 = x1_test.dot(weights1)\n",
        "actual_price1 = y1_test.to_numpy()\n",
        "\n",
        "print(\"\\nMy model STATS (for data without Standardization)\")\n",
        "print(\"-------------------------------------------------\")\n",
        "print()\n",
        "\n",
        "mse = calculate_mse(predicted_price1, actual_price1)\n",
        "print(\"MSE for Linear Regression : \", mse)\n",
        "\n",
        "mae = mean_absolute_error(predicted_price1, actual_price1)\n",
        "print(\"MAE for Linear Regression : \", mae)\n",
        "\n",
        "rsqr_score = R_squared_score(predicted_price1, actual_price1)\n",
        "print(\"R square score for Linear Regression : \", rsqr_score)\n"
      ],
      "execution_count": null,
      "outputs": [
        {
          "output_type": "stream",
          "text": [
            "\n",
            "My model STATS (for data without Standardization)\n",
            "-------------------------------------------------\n",
            "\n",
            "MSE for Linear Regression :  1128068.3190441711\n",
            "MAE for Linear Regression :  523.0586169270146\n",
            "R square score for Linear Regression :  0.8535751351372942\n"
          ],
          "name": "stdout"
        }
      ]
    },
    {
      "cell_type": "code",
      "metadata": {
        "colab": {
          "base_uri": "https://localhost:8080/"
        },
        "id": "iUd6x_fQ_IPB",
        "outputId": "33817132-d797-4ea6-8b9f-b1f3de88ea05"
      },
      "source": [
        "reg = LinearRegression().fit(x1_train, y1_train)\n",
        "ypredreg = reg.predict(x1_test) \n",
        "mse1 = mean_squared_error(y1_test,ypredreg) \n",
        "mae1 = mean_absolute_error(y1_test, ypredreg)\n",
        "r2score = r2_score(y1_test, ypredreg)\n",
        "\n",
        "print(\"\\nScikit learn model STATS (for data without Standardization)\")\n",
        "print(\"--------------------------------------\")\n",
        "print()\n",
        "\n",
        "print(\"\\nMean Squared Error : \", end = \"\")\n",
        "print(mse1)\n",
        "\n",
        "print(\"\\nR2 score : \", end = \"\")\n",
        "print(r2score)"
      ],
      "execution_count": null,
      "outputs": [
        {
          "output_type": "stream",
          "text": [
            "\n",
            "Scikit learn model STATS (for data without Standardization)\n",
            "--------------------------------------\n",
            "\n",
            "\n",
            "Mean Squared Error : 1909557.6348928155\n",
            "\n",
            "R2 score : 0.8760683577774601\n"
          ],
          "name": "stdout"
        }
      ]
    },
    {
      "cell_type": "markdown",
      "metadata": {
        "id": "8tY_Pk78AI3O"
      },
      "source": [
        "## Q2. (e) \n",
        "#### Now, compare the algorithms KNN regression and Linear Regression. What are the differences you have observed? Which is better and why. Your statements should be backed up with statistics."
      ]
    },
    {
      "cell_type": "code",
      "metadata": {
        "colab": {
          "base_uri": "https://localhost:8080/"
        },
        "id": "SjQ3gduw9eVm",
        "outputId": "c767bb86-0674-4c7c-8efd-2008438921df"
      },
      "source": [
        "print(\"-> \\t\\t\\t        MSE \\t\\t\\t        MAE\")\n",
        "print(\"---------------------------------------------------------------------------\")\n",
        "print()\n",
        "print(\"KNN Regression\" + \" \\t\\t\\t \" + str(MSE_E) + \" \\t\\t\\t \" + str(MAE_E))\n",
        "print()\n",
        "print(\"Linear Regression\" + \" \\t\\t\\t \" + str(mse) + \" \\t\\t\\t \" + str(mae))"
      ],
      "execution_count": null,
      "outputs": [
        {
          "output_type": "stream",
          "text": [
            "-> \t\t\t        MSE \t\t\t        MAE\n",
            "---------------------------------------------------------------------------\n",
            "\n",
            "KNN Regression \t\t\t 261839.20396663575 \t\t\t 182.72048192771084\n",
            "\n",
            "Linear Regression \t\t\t 1128068.3190441711 \t\t\t 523.0586169270146\n"
          ],
          "name": "stdout"
        }
      ]
    },
    {
      "cell_type": "markdown",
      "metadata": {
        "id": "0a8UowR9BMwC"
      },
      "source": [
        "As we can clearly see from above table that, for this data, KNN algorithm performs better then Linear Regression.\n",
        "\n",
        "Reason : Lack of linear similarities between the, linear regression fails to accurately trace the data pattern. KNN supports non-linear solutions where LR supports only linear solutions. "
      ]
    },
    {
      "cell_type": "markdown",
      "metadata": {
        "id": "8eYWA0NjCHlP"
      },
      "source": [
        "## Q2. (f) \n",
        "#### Plot the predicted values from KNN regression, Linear Regression and Actual \n"
      ]
    },
    {
      "cell_type": "code",
      "metadata": {
        "id": "_HXStTaAEL1p",
        "colab": {
          "base_uri": "https://localhost:8080/",
          "height": 654
        },
        "outputId": "68143651-87f3-497d-9936-edc8e54fe611"
      },
      "source": [
        "knn20 = predicted_M[0][:20]\n",
        "actual20 = actual_price[:20]\n",
        "linear20 = predicted_price[:20]\n",
        "\n",
        "plt.plot(range(20), knn20, color ='blue')\n",
        "plt.plot(range(20), actual20, color ='red')\n",
        "plt.plot(range(20), linear20, color ='green')\n",
        "\n",
        "plt.rcParams[\"figure.figsize\"] = (15,10)\n",
        "plt.grid()\n",
        "plt.title(\"KNN Prediction v/s Linear Regression Prediction v/s Actual Values\")\n",
        "plt.xlabel(\"Data points\")\n",
        "plt.ylabel(\"Actual and predicted values\")\n",
        "plt.legend()"
      ],
      "execution_count": null,
      "outputs": [
        {
          "output_type": "stream",
          "text": [
            "No handles with labels found to put in legend.\n"
          ],
          "name": "stderr"
        },
        {
          "output_type": "execute_result",
          "data": {
            "text/plain": [
              "<matplotlib.legend.Legend at 0x7fd3eee10a90>"
            ]
          },
          "metadata": {
            "tags": []
          },
          "execution_count": 35
        },
        {
          "output_type": "display_data",
          "data": {
            "image/png": "[encoded data removed]",
            "text/plain": [
              "<Figure size 1152x720 with 1 Axes>"
            ]
          },
          "metadata": {
            "tags": [],
            "needs_background": "light"
          }
        }
      ]
    },
    {
      "cell_type": "markdown",
      "metadata": {
        "id": "mHVNTMxeEf97"
      },
      "source": [
        "\n",
        "\n",
        "---\n",
        "\n",
        "\n"
      ]
    }
  ]
}