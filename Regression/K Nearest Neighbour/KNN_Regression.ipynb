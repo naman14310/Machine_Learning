{
  "nbformat": 4,
  "nbformat_minor": 0,
  "metadata": {
    "colab": {
      "name": "KNN_Regression.ipynb",
      "provenance": []
    },
    "kernelspec": {
      "name": "python3",
      "display_name": "Python 3"
    },
    "language_info": {
      "name": "python"
    }
  },
  "cells": [
    {
      "cell_type": "markdown",
      "metadata": {
        "id": "Wa2_xrjVudpP"
      },
      "source": [
        "# **1. KNN Regression**\n",
        "### Diamond Price Prediction"
      ]
    },
    {
      "cell_type": "code",
      "metadata": {
        "id": "EO8tOz6OuJDJ",
        "colab": {
          "base_uri": "https://localhost:8080/"
        },
        "outputId": "6ea2e080-f3ef-43c3-9203-864b7fcd902f"
      },
      "source": [
        "import pandas as pd\n",
        "import numpy as np\n",
        "from sklearn.preprocessing import LabelEncoder\n",
        "from sklearn.model_selection import train_test_split\n",
        "from sklearn import neighbors\n",
        "from sklearn.linear_model import LinearRegression\n",
        "from sklearn.metrics import mean_squared_error \n",
        "from sklearn.metrics import mean_absolute_error\n",
        "from sklearn.externals.six import StringIO  \n",
        "from IPython.display import Image  \n",
        "from sklearn.tree import export_graphviz\n",
        "from sklearn.model_selection import KFold\n",
        "import pydotplus\n",
        "from sklearn import tree\n",
        "from sklearn.metrics import r2_score\n",
        "import seaborn as sns\n",
        "import pickle as pkl\n",
        "import math\n",
        "import matplotlib.pyplot as plt\n",
        "import time\n",
        "import platform\n",
        "import random\n",
        "import os"
      ],
      "execution_count": null,
      "outputs": [
        {
          "output_type": "stream",
          "text": [
            "/usr/local/lib/python3.6/dist-packages/sklearn/externals/six.py:31: FutureWarning: The module is deprecated in version 0.21 and will be removed in version 0.23 since we've dropped support for Python 2.7. Please rely on the official version of six (https://pypi.org/project/six/).\n",
            "  \"(https://pypi.org/project/six/).\", FutureWarning)\n"
          ],
          "name": "stderr"
        }
      ]
    },
    {
      "cell_type": "code",
      "metadata": {
        "id": "Ug7v4_CeCbtL"
      },
      "source": [
        "#---------------------------------------- UTILITIES ----------------------------------------#\n",
        "\n",
        "def save_to_pickle(arr, filename):\n",
        "    with open(filename,'wb') as f:\n",
        "        pkl.dump(arr, f)\n",
        "     \n",
        "def load_from_pickle(filename):\n",
        "    arr = []\n",
        "    with open(filename,'rb') as f:\n",
        "        arr = pkl.load(f)\n",
        "    return arr"
      ],
      "execution_count": null,
      "outputs": []
    },
    {
      "cell_type": "code",
      "metadata": {
        "id": "lwS2c4l_u-0q"
      },
      "source": [
        "df = pd.read_csv(\"/content/diamonds.csv\")\n",
        "\n",
        "K = [2,3,5,7,11,16]"
      ],
      "execution_count": null,
      "outputs": []
    },
    {
      "cell_type": "markdown",
      "metadata": {
        "id": "iH6vmf_qvITd"
      },
      "source": [
        "#### Label Encoding\n",
        "As all categorical coloumns have ordinal relationships, Label Encoding is preferable over One Hot Encoding"
      ]
    },
    {
      "cell_type": "code",
      "metadata": {
        "colab": {
          "base_uri": "https://localhost:8080/",
          "height": 229
        },
        "id": "Y7wotMv6vQGR",
        "outputId": "322ec082-f087-42fe-801a-c2a4477f9520"
      },
      "source": [
        "labelencoder = LabelEncoder()\n",
        "def label_encoding(df, cols):\n",
        "    for c in cols:\n",
        "        col = df[c]\n",
        "        df = df.drop(c, 1)\n",
        "        df[c] = labelencoder.fit_transform(col)\n",
        "    return df\n",
        "\n",
        "cols = ['cut', 'color', 'clarity']\n",
        "df = label_encoding(df, cols)\n",
        "print(\"DATA AFTER LABEL ENCODING : \\n\")\n",
        "df.head()"
      ],
      "execution_count": null,
      "outputs": [
        {
          "output_type": "stream",
          "text": [
            "DATA AFTER LABEL ENCODING : \n",
            "\n"
          ],
          "name": "stdout"
        },
        {
          "output_type": "execute_result",
          "data": {
            "text/html": [
              "<div>\n",
              "<style scoped>\n",
              "    .dataframe tbody tr th:only-of-type {\n",
              "        vertical-align: middle;\n",
              "    }\n",
              "\n",
              "    .dataframe tbody tr th {\n",
              "        vertical-align: top;\n",
              "    }\n",
              "\n",
              "    .dataframe thead th {\n",
              "        text-align: right;\n",
              "    }\n",
              "</style>\n",
              "<table border=\"1\" class=\"dataframe\">\n",
              "  <thead>\n",
              "    <tr style=\"text-align: right;\">\n",
              "      <th></th>\n",
              "      <th>carat</th>\n",
              "      <th>depth</th>\n",
              "      <th>table</th>\n",
              "      <th>price</th>\n",
              "      <th>x</th>\n",
              "      <th>y</th>\n",
              "      <th>z</th>\n",
              "      <th>cut</th>\n",
              "      <th>color</th>\n",
              "      <th>clarity</th>\n",
              "    </tr>\n",
              "  </thead>\n",
              "  <tbody>\n",
              "    <tr>\n",
              "      <th>0</th>\n",
              "      <td>0.23</td>\n",
              "      <td>61.5</td>\n",
              "      <td>55.0</td>\n",
              "      <td>326</td>\n",
              "      <td>3.95</td>\n",
              "      <td>3.98</td>\n",
              "      <td>2.43</td>\n",
              "      <td>2</td>\n",
              "      <td>1</td>\n",
              "      <td>3</td>\n",
              "    </tr>\n",
              "    <tr>\n",
              "      <th>1</th>\n",
              "      <td>0.21</td>\n",
              "      <td>59.8</td>\n",
              "      <td>61.0</td>\n",
              "      <td>326</td>\n",
              "      <td>3.89</td>\n",
              "      <td>3.84</td>\n",
              "      <td>2.31</td>\n",
              "      <td>3</td>\n",
              "      <td>1</td>\n",
              "      <td>2</td>\n",
              "    </tr>\n",
              "    <tr>\n",
              "      <th>2</th>\n",
              "      <td>0.23</td>\n",
              "      <td>56.9</td>\n",
              "      <td>65.0</td>\n",
              "      <td>327</td>\n",
              "      <td>4.05</td>\n",
              "      <td>4.07</td>\n",
              "      <td>2.31</td>\n",
              "      <td>1</td>\n",
              "      <td>1</td>\n",
              "      <td>4</td>\n",
              "    </tr>\n",
              "    <tr>\n",
              "      <th>3</th>\n",
              "      <td>0.29</td>\n",
              "      <td>62.4</td>\n",
              "      <td>58.0</td>\n",
              "      <td>334</td>\n",
              "      <td>4.20</td>\n",
              "      <td>4.23</td>\n",
              "      <td>2.63</td>\n",
              "      <td>3</td>\n",
              "      <td>5</td>\n",
              "      <td>5</td>\n",
              "    </tr>\n",
              "    <tr>\n",
              "      <th>4</th>\n",
              "      <td>0.31</td>\n",
              "      <td>63.3</td>\n",
              "      <td>58.0</td>\n",
              "      <td>335</td>\n",
              "      <td>4.34</td>\n",
              "      <td>4.35</td>\n",
              "      <td>2.75</td>\n",
              "      <td>1</td>\n",
              "      <td>6</td>\n",
              "      <td>3</td>\n",
              "    </tr>\n",
              "  </tbody>\n",
              "</table>\n",
              "</div>"
            ],
            "text/plain": [
              "   carat  depth  table  price     x     y     z  cut  color  clarity\n",
              "0   0.23   61.5   55.0    326  3.95  3.98  2.43    2      1        3\n",
              "1   0.21   59.8   61.0    326  3.89  3.84  2.31    3      1        2\n",
              "2   0.23   56.9   65.0    327  4.05  4.07  2.31    1      1        4\n",
              "3   0.29   62.4   58.0    334  4.20  4.23  2.63    3      5        5\n",
              "4   0.31   63.3   58.0    335  4.34  4.35  2.75    1      6        3"
            ]
          },
          "metadata": {
            "tags": []
          },
          "execution_count": 4
        }
      ]
    },
    {
      "cell_type": "markdown",
      "metadata": {
        "id": "spFy1IKgvt7Q"
      },
      "source": [
        "#### Data Formatting"
      ]
    },
    {
      "cell_type": "code",
      "metadata": {
        "id": "tHmIqCBOvzP5"
      },
      "source": [
        "price = df['price']\n",
        "df = df.drop('price', 1)\n",
        "df['price'] = price"
      ],
      "execution_count": null,
      "outputs": []
    },
    {
      "cell_type": "markdown",
      "metadata": {
        "id": "J5HiqqcZ8kl3"
      },
      "source": [
        "#### Normalization\n",
        "\n",
        "Used Min-Max method for Normalization"
      ]
    },
    {
      "cell_type": "code",
      "metadata": {
        "id": "QARyOk_Q8M8c"
      },
      "source": [
        "def normalize(df, cols):\n",
        "    for c in cols:\n",
        "        df[c] = (df[c] - df[c].min())/(df[c].max() - df[c].min())\n",
        "    return df\n",
        "\n",
        "norm_cols = [\"carat\",\"cut\",\"color\",\"clarity\",\"depth\",\"table\",\"x\",\"y\",\"z\"]\n",
        "data_without_normalization = df\n",
        "df = normalize(df, norm_cols)"
      ],
      "execution_count": null,
      "outputs": []
    },
    {
      "cell_type": "markdown",
      "metadata": {
        "id": "QTIYQ9gar0Td"
      },
      "source": [
        "#### Splitting Dataset"
      ]
    },
    {
      "cell_type": "code",
      "metadata": {
        "colab": {
          "base_uri": "https://localhost:8080/"
        },
        "id": "-FFhzUBPFG6H",
        "outputId": "64a28b84-9e72-436d-a22f-9d5c089e2322"
      },
      "source": [
        "x = df.iloc[:, :-1]\n",
        "y = df.iloc[:, -1:]\n",
        "\n",
        "x2 = data_without_normalization.iloc[:, :-1]\n",
        "y2 = data_without_normalization.iloc[:, :-1]\n",
        "\n",
        "#------------------------------------- NORMALIZED DATA -------------------------------------#\n",
        "which\n",
        "x_train, x_test, y_train, y_test = train_test_split(x, y, test_size=0.02, random_state=55)\n",
        "x_train = x_train.to_numpy()\n",
        "y_train = y_train.to_numpy().reshape(-1,1)\n",
        "x_test = x_test.to_numpy()\n",
        "y_test = y_test.to_numpy().reshape(-1,1)\n",
        "\n",
        "#--------------------------------------- ACTUAL DATA ---------------------------------------#\n",
        "\n",
        "x2_train, x2_test, y2_train, y2_test = train_test_split(x2, y2, test_size=0.02, random_state=55)\n",
        "x2_train = x2_train.to_numpy()\n",
        "x2_test = x2_test.to_numpy()\n",
        "\n",
        "print(\"Training data size : \", x_train.shape[0])\n",
        "print(\"Testing data size : \", x_test.shape[0])\n",
        "\n",
        "tactual = []\n",
        "for i in range(0, len(y_test)):\n",
        "    tactual.append(y_test[i][0])\n",
        "actual = np.array(tactual)"
      ],
      "execution_count": null,
      "outputs": [
        {
          "output_type": "stream",
          "text": [
            "Training data size :  52861\n",
            "Testing data size :  1079\n"
          ],
          "name": "stdout"
        }
      ]
    },
    {
      "cell_type": "markdown",
      "metadata": {
        "id": "K_mFQycYjUgg"
      },
      "source": [
        "## **Q1. (a)**\n",
        "#### Build a knn regression algorithm [using only python from scratch] to predict the price of diamonds."
      ]
    },
    {
      "cell_type": "markdown",
      "metadata": {
        "id": "JfG3YG4Qr72y"
      },
      "source": [
        "#### KNN Algorithm for Regression"
      ]
    },
    {
      "cell_type": "code",
      "metadata": {
        "id": "rkZS9HwzRLgZ"
      },
      "source": [
        "def euclidean_distance(datapoint1, datapoint2, no_of_features):\n",
        "    res = 0\n",
        "    for i in range(0, no_of_features):\n",
        "        res+= (datapoint1[i] - datapoint2[i])**2\n",
        "    return math.sqrt(res)\n",
        "\n",
        "\n",
        "def manhattan_distance(datapoint1, datapoint2, no_of_features):\n",
        "    res = 0\n",
        "    for i in range(0, no_of_features):\n",
        "        res+= abs(datapoint1[i] - datapoint2[i])\n",
        "    return res    \n",
        "\n",
        "\n",
        "def compute_distances(testpoint1, x_train, y_train, no_of_features, measure):\n",
        "    distances = []\n",
        "    for i in range (0,len(x_train)):\n",
        "        temp = []\n",
        "        if measure==\"manhattan\":\n",
        "            dist = manhattan_distance(testpoint1, x_train[i], no_of_features)\n",
        "            temp.append(dist)\n",
        "        if measure==\"euclidean\":\n",
        "            dist = euclidean_distance(testpoint1, x_train[i], no_of_features)\n",
        "            temp.append(dist)\n",
        "        temp.append(y_train[i][0])\n",
        "        distances.append(temp)\n",
        "    return distances\n",
        "\n",
        "\n",
        "def helper(distances, k):\n",
        "     distances.sort(key=lambda x:x[0])\n",
        "     sum = 0.0\n",
        "     for i in range(0, k):\n",
        "         sum += (distances[i][1])   \n",
        "     return float(float(sum)/float(k))\n",
        "\n",
        "\n",
        "def predict(datapoint, k, x_train, y_train, measure):\n",
        "    no_of_features = x_train.shape[1]\n",
        "    distance = compute_distances(datapoint, x_train, y_train, no_of_features, measure)\n",
        "    prediction = helper(distance, k)\n",
        "    return prediction\n",
        "\n",
        "#------------------------------- TRAINING DATA -------------------------------#\n",
        "\n",
        "'''\n",
        "predicted_manhattan_for_different_K = []\n",
        "predicted_euclidean_for_different_K = []\n",
        "\n",
        "for k in K:\n",
        "    predicted_manhattan = []\n",
        "    predicted_euclidean = []\n",
        "\n",
        "    for i in range(0, len(x_test)):\n",
        "        predicted_manhattan.append(predict(x_test[i], k, x_train, y_train, \"manhattan\"))\n",
        "        predicted_euclidean.append(predict(x_test[i], k, x_train, y_train, \"euclidean\"))\n",
        "\n",
        "    predicted_manhattan_for_different_K.append(predicted_manhattan)\n",
        "    predicted_euclidean_for_different_K.append(predicted_euclidean)\n",
        "\n",
        "final_predicted_manhattan_for_different_K = np.array(predicted_manhattan_for_different_K)\n",
        "final_predicted_euclidean_for_different_K = np.array(predicted_euclidean_for_different_K)\n",
        "\n",
        "save_to_pickle(final_predicted_manhattan_for_different_K, \"manhattan_predicted.pkl\")\n",
        "save_to_pickle(final_predicted_euclidean_for_different_K, \"euclidean_predicted.pkl\")\n",
        "print(\"Predicted data saved in pickle files..\")\n",
        "'''\n",
        "\n",
        "# Loading predicted values from saved files\n",
        "\n",
        "predicted_M = load_from_pickle(\"manhattan_predicted.pkl\")\n",
        "predicted_E = load_from_pickle(\"euclidean_predicted.pkl\")"
      ],
      "execution_count": null,
      "outputs": []
    },
    {
      "cell_type": "markdown",
      "metadata": {
        "id": "9AsbWX24kBrC"
      },
      "source": [
        "## Q1. (b)\n",
        "####**Do we need to normalise data? [If so Does it make any difference?].**"
      ]
    },
    {
      "cell_type": "markdown",
      "metadata": {
        "id": "6PwfuAutk_Mr"
      },
      "source": [
        "Yes, we need to Normalize data before training because the goal of normalization is to change the numeric value columns in the dataset to a common scale, without distorting differences in the ranges of values. In, ML every dataset does not requires normalization. It is required only when features have different ranges. "
      ]
    },
    {
      "cell_type": "markdown",
      "metadata": {
        "id": "ZW4RqTpwxO_E"
      },
      "source": [
        "### Calculating MSE, MAE, Rsquare Score"
      ]
    },
    {
      "cell_type": "code",
      "metadata": {
        "id": "yGaOeF4JxTp8"
      },
      "source": [
        "def calculate_mse(predicted, actual):\n",
        "    errors = np.subtract(predicted, actual)\n",
        "    sqrErrors = np.square(errors)\n",
        "    J = np.sum(sqrErrors)/(2 * len(sqrErrors)) \n",
        "    return J\n",
        "\n",
        "def mean_absolute_error(predicted, actual):\n",
        "    errors = np.subtract(predicted, actual)\n",
        "    absErrors = np.absolute(errors)\n",
        "    J = np.sum(absErrors)/(2 * len(absErrors)) \n",
        "    return J\n",
        "\n",
        "def R_squared_score(predicted, actual):\n",
        "    e1 = np.subtract(predicted, actual)\n",
        "    sqr_e1 = np.sum(np.square(e1))\n",
        "\n",
        "    e2 = np.subtract(actual,actual.mean())\n",
        "    sqr_e2 = np.sum(np.square(e2))\n",
        "    J = 1 - (sqr_e1/sqr_e2)\n",
        "    return J\n"
      ],
      "execution_count": null,
      "outputs": []
    },
    {
      "cell_type": "markdown",
      "metadata": {
        "id": "PfUexL7gmx7t"
      },
      "source": [
        "## **Q2.**\n",
        "#### Experiment with different distance measures[Euclidean distance, Manhattan distance] to handle categorical attributes. "
      ]
    },
    {
      "cell_type": "code",
      "metadata": {
        "colab": {
          "base_uri": "https://localhost:8080/"
        },
        "id": "2KFq_G64iFiT",
        "outputId": "5b15fd93-925b-41ae-8e04-ec1b0d4de837"
      },
      "source": [
        "rsqr_M = []\n",
        "rsqr_E = []\n",
        "\n",
        "for i in range(0, len(K)):\n",
        "    rsqr_M.append(R_squared_score(predicted_M[i], actual))\n",
        "    rsqr_E.append(R_squared_score(predicted_E[i], actual))\n",
        "\n",
        "print(\"K \\t\\t     MANHATTAN \\t\\t\\t     EUCLIDEAN\")\n",
        "print(\"--------------------------------------------------------------------\")\n",
        "for i in range(0, len(K)):\n",
        "    print(str(K[i]) + \" \\t\\t \" + str(rsqr_M[i]) + \" \\t\\t \" + str(rsqr_E[i]))"
      ],
      "execution_count": null,
      "outputs": [
        {
          "output_type": "stream",
          "text": [
            "K \t\t     MANHATTAN \t\t\t     EUCLIDEAN\n",
            "--------------------------------------------------------------------\n",
            "2 \t\t 0.9645882583273453 \t\t 0.9636340086580696\n",
            "3 \t\t 0.9643853873788902 \t\t 0.963850124216359\n",
            "5 \t\t 0.9635955515438733 \t\t 0.9641337316042355\n",
            "7 \t\t 0.960816360372086 \t\t 0.9603367519619403\n",
            "11 \t\t 0.9624499333059388 \t\t 0.9560680666105702\n",
            "16 \t\t 0.9613403767875722 \t\t 0.954469553302598\n"
          ],
          "name": "stdout"
        }
      ]
    },
    {
      "cell_type": "markdown",
      "metadata": {
        "id": "Wc2m6Dm0ng0Y"
      },
      "source": [
        "## Q3. \n",
        "#### Report Mean Squared Error(MSE), Mean-Absolute-Error(MAE), R-squared (R2) score in a tabular form."
      ]
    },
    {
      "cell_type": "code",
      "metadata": {
        "colab": {
          "base_uri": "https://localhost:8080/"
        },
        "id": "K0FMW8XJ3Zj-",
        "outputId": "1f22f15a-d691-4433-fb00-5de633c5cd1e"
      },
      "source": [
        "MSE_M = calculate_mse(predicted_M[2], actual)\n",
        "MSE_E = calculate_mse(predicted_E[2], actual)\n",
        "\n",
        "MAE_M = mean_absolute_error(predicted_M[2], actual)\n",
        "MAE_E = mean_absolute_error(predicted_E[2], actual)\n",
        "\n",
        "print(\"-> \\t\\t\\t        MSE \\t\\t\\t        MAE\")\n",
        "print(\"---------------------------------------------------------------------------\")\n",
        "print()\n",
        "print(\"MANHATTAN\" + \" \\t\\t \" + str(MSE_M) + \" \\t\\t \" + str(MAE_M))\n",
        "print()\n",
        "print(\"EUCLIDEAN\" + \" \\t\\t \" + str(MSE_E) + \" \\t\\t \" + str(MAE_E))"
      ],
      "execution_count": null,
      "outputs": [
        {
          "output_type": "stream",
          "text": [
            "-> \t\t\t        MSE \t\t\t        MAE\n",
            "---------------------------------------------------------------------------\n",
            "\n",
            "MANHATTAN \t\t 265768.15015755326 \t\t 174.66811862835962\n",
            "\n",
            "EUCLIDEAN \t\t 261839.20396663575 \t\t 182.72048192771084\n"
          ],
          "name": "stdout"
        }
      ]
    },
    {
      "cell_type": "markdown",
      "metadata": {
        "id": "fahuviH1owI2"
      },
      "source": [
        "## Q4. (a) \n",
        "#### Choose different K values (k=2,3,5,7,11,16) and experiment. Plot a graph showing R2 score vs k. "
      ]
    },
    {
      "cell_type": "code",
      "metadata": {
        "colab": {
          "base_uri": "https://localhost:8080/",
          "height": 312
        },
        "id": "y5p0c9u-ogAd",
        "outputId": "fde708d0-92fc-460a-dcc0-24f8db1ecf65"
      },
      "source": [
        "plt.plot(K, rsqr_M, color ='blue')\n",
        "plt.plot(K, rsqr_E, color ='green')\n",
        "plt.rcParams[\"figure.figsize\"] = (15,10)\n",
        "plt.grid()\n",
        "plt.title(\"K vs Rsquare score\")\n",
        "plt.xlabel(\"K\")\n",
        "plt.ylabel(\"Rsquare score\")"
      ],
      "execution_count": null,
      "outputs": [
        {
          "output_type": "execute_result",
          "data": {
            "text/plain": [
              "Text(0, 0.5, 'Rsquare score')"
            ]
          },
          "metadata": {
            "tags": []
          },
          "execution_count": 12
        },
        {
          "output_type": "display_data",
          "data": {
            "image/png": "[encoded data removed]",
            "text/plain": [
              "<Figure size 432x288 with 1 Axes>"
            ]
          },
          "metadata": {
            "tags": [],
            "needs_background": "light"
          }
        }
      ]
    },
    {
      "cell_type": "markdown",
      "metadata": {
        "id": "KXLz4rzrpB3q"
      },
      "source": [
        "## Q4. (b) \n",
        "#### Are the R-squared scores the same? Why / Why not? How do we identify the best K? Suggest a computational procedure, with a logical explanation."
      ]
    },
    {
      "cell_type": "markdown",
      "metadata": {
        "id": "5f4_m1LFpPXR"
      },
      "source": [
        "#### Ans. \n",
        "No, the R-squared scores changes with the value of K, Because on increasing the value of k results in increase of the no. of neighbours to be considered for prediction. For choosing the best K value, we need to plot a graph between k vs R2 score and choose the peak point also known as knee point or (elbow point)."
      ]
    },
    {
      "cell_type": "markdown",
      "metadata": {
        "id": "z0QssTqjsa-_"
      },
      "source": [
        "## Q5. (a) \n",
        "#### Also, report the performance of scikit-learn’s kNN regression algorithm."
      ]
    },
    {
      "cell_type": "code",
      "metadata": {
        "colab": {
          "base_uri": "https://localhost:8080/"
        },
        "id": "2xpaUC7Ssekz",
        "outputId": "b5d71181-c9e9-47ab-dd7d-1975c71938d6"
      },
      "source": [
        "knn = neighbors.KNeighborsRegressor(n_neighbors = 5)\n",
        "knn.fit(x_train, y_train)\n",
        "ypred = knn.predict(x_test) \n",
        "mse = mean_squared_error(y_test,ypred) \n",
        "mae = mean_absolute_error(y_test, ypred)\n",
        "r2score = r2_score(y_test, ypred)\n",
        "\n",
        "print(\"\\nScikit learn model STATS\")\n",
        "print(\"--------------------------------------\")\n",
        "print()\n",
        "\n",
        "print(\"\\nMean Squared Error : \", end = \"\")\n",
        "print(mse)\n",
        "print(\"\\nMean Absolute Error : \", end = \"\")\n",
        "print(mae)\n",
        "print(\"\\nR2 score : \", end = \"\")\n",
        "print(r2score)"
      ],
      "execution_count": null,
      "outputs": [
        {
          "output_type": "stream",
          "text": [
            "\n",
            "Scikit learn model STATS\n",
            "--------------------------------------\n",
            "\n",
            "\n",
            "Mean Squared Error : 524155.8999443929\n",
            "\n",
            "Mean Absolute Error : 182.76598702502318\n",
            "\n",
            "R2 score : 0.9641010286010789\n"
          ],
          "name": "stdout"
        }
      ]
    },
    {
      "cell_type": "markdown",
      "metadata": {
        "id": "Yqw2NdmIxmJB"
      },
      "source": [
        "## Q5. (b)\n",
        "Compare it with the algorithm you built. [ you can use complexities, R2 score etc..]\n"
      ]
    },
    {
      "cell_type": "code",
      "metadata": {
        "colab": {
          "base_uri": "https://localhost:8080/"
        },
        "id": "XgSViJEtvEpD",
        "outputId": "e4d75e15-8fa0-485f-f2d0-ad1d657cbdcd"
      },
      "source": [
        "print(\"-> \\t\\t\\t        MSE \\t\\t\\t        MAE\")\n",
        "print(\"---------------------------------------------------------------------------\")\n",
        "print()\n",
        "print(\"My Model\" + \" \\t\\t \" + str(MSE_E) + \" \\t\\t \" + str(MAE_E))\n",
        "print()\n",
        "print(\"Scikit Learn\" + \" \\t\\t \" + str(mse) + \" \\t\\t \" + str(mae))"
      ],
      "execution_count": null,
      "outputs": [
        {
          "output_type": "stream",
          "text": [
            "-> \t\t\t        MSE \t\t\t        MAE\n",
            "---------------------------------------------------------------------------\n",
            "\n",
            "My Model \t\t 261839.20396663575 \t\t 182.72048192771084\n",
            "\n",
            "Scikit Learn \t\t 524155.8999443929 \t\t 182.76598702502318\n"
          ],
          "name": "stdout"
        }
      ]
    },
    {
      "cell_type": "markdown",
      "metadata": {
        "id": "wmQNC6vazKh3"
      },
      "source": [
        "## Q6. \n",
        "#### From the above experiments, what do you think are advantages and disadvantages of the knn regression algorithm?\n",
        "\n",
        "Advantages:\n",
        "1. No Training Period.\n",
        "2. New data can be added anytime which will not impact the accuracy of the algorithm. \n",
        "3. It is very easy to implement.\n",
        "\n",
        "Disadvantages:\n",
        "1. It is a lazy learner and takes lot of time at the time of prediction.\n",
        "2. Does not work well with large dataset.\n",
        "3. Feature scaling is must to make correct predictions.\n",
        "\n"
      ]
    },
    {
      "cell_type": "markdown",
      "metadata": {
        "id": "CjFrcmVK1Yfm"
      },
      "source": [
        "\n",
        "---\n",
        "\n",
        "\n",
        "\n",
        "\n"
      ]
    }
  ]
}